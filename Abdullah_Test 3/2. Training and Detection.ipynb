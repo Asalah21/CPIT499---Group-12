{
 "cells": [
  {
   "cell_type": "markdown",
   "metadata": {
    "id": "QUANWN3rpfC9"
   },
   "source": [
    "# 0. Setup Paths"
   ]
  },
  {
   "cell_type": "code",
   "execution_count": 1,
   "metadata": {
    "id": "146BB11JpfDA"
   },
   "outputs": [],
   "source": [
    "import os"
   ]
  },
  {
   "cell_type": "code",
   "execution_count": 2,
   "metadata": {
    "id": "42hJEdo_pfDB"
   },
   "outputs": [],
   "source": [
    "CUSTOM_MODEL_NAME = 'my_ssd_mobnet' \n",
    "PRETRAINED_MODEL_NAME = 'ssd_mobilenet_v2_fpnlite_320x320_coco17_tpu-8'\n",
    "PRETRAINED_MODEL_URL = 'http://download.tensorflow.org/models/object_detection/tf2/20200711/ssd_mobilenet_v2_fpnlite_320x320_coco17_tpu-8.tar.gz'\n",
    "TF_RECORD_SCRIPT_NAME = 'generate_tfrecord.py'\n",
    "LABEL_MAP_NAME = 'label_map.pbtxt'"
   ]
  },
  {
   "cell_type": "code",
   "execution_count": 3,
   "metadata": {
    "id": "hbPhYVy_pfDB"
   },
   "outputs": [],
   "source": [
    "paths = {\n",
    "    'WORKSPACE_PATH': os.path.join('Tensorflow', 'workspace'),\n",
    "    'SCRIPTS_PATH': os.path.join('Tensorflow','scripts'),\n",
    "    'APIMODEL_PATH': os.path.join('Tensorflow','models'),\n",
    "    'ANNOTATION_PATH': os.path.join('Tensorflow', 'workspace','annotations'),\n",
    "    'IMAGE_PATH': os.path.join('Tensorflow', 'workspace','images'),\n",
    "    'MODEL_PATH': os.path.join('Tensorflow', 'workspace','models'),\n",
    "    'PRETRAINED_MODEL_PATH': os.path.join('Tensorflow', 'workspace','pre-trained-models'),\n",
    "    'CHECKPOINT_PATH': os.path.join('Tensorflow', 'workspace','models',CUSTOM_MODEL_NAME), \n",
    "    'OUTPUT_PATH': os.path.join('Tensorflow', 'workspace','models',CUSTOM_MODEL_NAME, 'export'), \n",
    "    'TFJS_PATH':os.path.join('Tensorflow', 'workspace','models',CUSTOM_MODEL_NAME, 'tfjsexport'), \n",
    "    'TFLITE_PATH':os.path.join('Tensorflow', 'workspace','models',CUSTOM_MODEL_NAME, 'tfliteexport'), \n",
    "    'PROTOC_PATH':os.path.join('Tensorflow','protoc')\n",
    " }"
   ]
  },
  {
   "cell_type": "code",
   "execution_count": 4,
   "metadata": {
    "id": "LwhWZMI0pfDC"
   },
   "outputs": [],
   "source": [
    "files = {\n",
    "    'PIPELINE_CONFIG':os.path.join('Tensorflow', 'workspace','models', CUSTOM_MODEL_NAME, 'pipeline.config'),\n",
    "    'TF_RECORD_SCRIPT': os.path.join(paths['SCRIPTS_PATH'], TF_RECORD_SCRIPT_NAME), \n",
    "    'LABELMAP': os.path.join(paths['ANNOTATION_PATH'], LABEL_MAP_NAME)\n",
    "}"
   ]
  },
  {
   "cell_type": "code",
   "execution_count": 5,
   "metadata": {
    "id": "HR-TfDGrpfDC"
   },
   "outputs": [],
   "source": [
    "for path in paths.values():\n",
    "    if not os.path.exists(path):\n",
    "        if os.name == 'posix':\n",
    "            !mkdir -p {path}\n",
    "        if os.name == 'nt':\n",
    "            !mkdir {path}"
   ]
  },
  {
   "cell_type": "markdown",
   "metadata": {
    "id": "OLU-rs_ipfDE"
   },
   "source": [
    "# 1. Download TF Models Pretrained Models from Tensorflow Model Zoo and Install TFOD"
   ]
  },
  {
   "cell_type": "code",
   "execution_count": 6,
   "metadata": {},
   "outputs": [],
   "source": [
    "# https://www.tensorflow.org/install/source_windows"
   ]
  },
  {
   "cell_type": "code",
   "execution_count": 7,
   "metadata": {
    "id": "K-Cmz2edpfDE",
    "scrolled": true
   },
   "outputs": [
    {
     "name": "stdout",
     "output_type": "stream",
     "text": [
      "Requirement already satisfied: wget in c:\\users\\abdullah\\desktop\\github\\cpit499---group-12\\abdullah_test 3\\tfodcourse\\tfod\\lib\\site-packages (3.2)\n"
     ]
    }
   ],
   "source": [
    "if os.name=='nt':\n",
    "    !pip install wget\n",
    "    import wget"
   ]
  },
  {
   "cell_type": "code",
   "execution_count": 23,
   "metadata": {
    "id": "iA1DIq5OpfDE"
   },
   "outputs": [],
   "source": [
    "if not os.path.exists(os.path.join(paths['APIMODEL_PATH'], 'research', 'object_detection')):\n",
    "    !git clone https://github.com/tensorflow/models {paths['APIMODEL_PATH']}"
   ]
  },
  {
   "cell_type": "code",
   "execution_count": 24,
   "metadata": {
    "id": "rJjMHbnDs3Tv"
   },
   "outputs": [
    {
     "name": "stdout",
     "output_type": "stream",
     "text": [
      "100% [..........................................................................] 1468733 / 1468733        1 file(s) moved.\n"
     ]
    },
    {
     "name": "stderr",
     "output_type": "stream",
     "text": [
      "tar: This does not look like a tar archive\n",
      "tar: Skipping to next header\n",
      "tar: Exiting with failure status due to previous errors\n"
     ]
    },
    {
     "name": "stdout",
     "output_type": "stream",
     "text": [
      "^C\n",
      "^C\n"
     ]
    }
   ],
   "source": [
    "# Install Tensorflow Object Detection \n",
    "if os.name=='posix':  \n",
    "    !apt-get install protobuf-compiler\n",
    "    !cd Tensorflow/models/research && protoc object_detection/protos/*.proto --python_out=. && cp object_detection/packages/tf2/setup.py . && python -m pip install . \n",
    "    \n",
    "if os.name=='nt':\n",
    "    url=\"https://github.com/protocolbuffers/protobuf/releases/download/v3.15.6/protoc-3.15.6-win64.zip\"\n",
    "    wget.download(url)\n",
    "    !move protoc-3.15.6-win64.zip {paths['PROTOC_PATH']}\n",
    "    !cd {paths['PROTOC_PATH']} && tar -xf protoc-3.15.6-win64.zip\n",
    "    os.environ['PATH'] += os.pathsep + os.path.abspath(os.path.join(paths['PROTOC_PATH'], 'bin'))   \n",
    "    !cd Tensorflow/models/research && protoc object_detection/protos/*.proto --python_out=. && copy object_detection\\\\packages\\\\tf2\\\\setup.py setup.py && python setup.py build && python setup.py install\n",
    "    !cd Tensorflow/models/research/slim && pip install -e . "
   ]
  },
  {
   "cell_type": "code",
   "execution_count": 25,
   "metadata": {
    "scrolled": true
   },
   "outputs": [
    {
     "name": "stdout",
     "output_type": "stream",
     "text": [
      "^C\n"
     ]
    }
   ],
   "source": [
    "VERIFICATION_SCRIPT = os.path.join(paths['APIMODEL_PATH'], 'research', 'object_detection', 'builders', 'model_builder_tf2_test.py')\n",
    "# Verify Installation\n",
    "!python {VERIFICATION_SCRIPT}"
   ]
  },
  {
   "cell_type": "code",
   "execution_count": 24,
   "metadata": {},
   "outputs": [
    {
     "name": "stdout",
     "output_type": "stream",
     "text": [
      "Collecting pycocotools\n",
      "  Using cached pycocotools-2.0.4.tar.gz (106 kB)\n",
      "  Installing build dependencies: started\n",
      "  Installing build dependencies: finished with status 'done'\n",
      "  Getting requirements to build wheel: started\n",
      "  Getting requirements to build wheel: finished with status 'done'\n",
      "  Preparing metadata (pyproject.toml): started\n",
      "  Preparing metadata (pyproject.toml): finished with status 'done'\n",
      "Requirement already satisfied: numpy in c:\\users\\abdullah\\desktop\\github\\cpit499---group-12\\abdullah_test 3\\tfodcourse\\tfod\\lib\\site-packages (from pycocotools) (1.22.2)\n",
      "Requirement already satisfied: matplotlib>=2.1.0 in c:\\users\\abdullah\\desktop\\github\\cpit499---group-12\\abdullah_test 3\\tfodcourse\\tfod\\lib\\site-packages (from pycocotools) (3.5.1)\n",
      "Requirement already satisfied: kiwisolver>=1.0.1 in c:\\users\\abdullah\\desktop\\github\\cpit499---group-12\\abdullah_test 3\\tfodcourse\\tfod\\lib\\site-packages (from matplotlib>=2.1.0->pycocotools) (1.3.2)\n",
      "Requirement already satisfied: pillow>=6.2.0 in c:\\users\\abdullah\\desktop\\github\\cpit499---group-12\\abdullah_test 3\\tfodcourse\\tfod\\lib\\site-packages (from matplotlib>=2.1.0->pycocotools) (9.0.1)\n",
      "Requirement already satisfied: packaging>=20.0 in c:\\users\\abdullah\\desktop\\github\\cpit499---group-12\\abdullah_test 3\\tfodcourse\\tfod\\lib\\site-packages (from matplotlib>=2.1.0->pycocotools) (21.3)\n",
      "Requirement already satisfied: python-dateutil>=2.7 in c:\\users\\abdullah\\desktop\\github\\cpit499---group-12\\abdullah_test 3\\tfodcourse\\tfod\\lib\\site-packages (from matplotlib>=2.1.0->pycocotools) (2.8.2)\n",
      "Requirement already satisfied: pyparsing>=2.2.1 in c:\\users\\abdullah\\desktop\\github\\cpit499---group-12\\abdullah_test 3\\tfodcourse\\tfod\\lib\\site-packages (from matplotlib>=2.1.0->pycocotools) (3.0.7)\n",
      "Requirement already satisfied: fonttools>=4.22.0 in c:\\users\\abdullah\\desktop\\github\\cpit499---group-12\\abdullah_test 3\\tfodcourse\\tfod\\lib\\site-packages (from matplotlib>=2.1.0->pycocotools) (4.29.1)\n",
      "Requirement already satisfied: cycler>=0.10 in c:\\users\\abdullah\\desktop\\github\\cpit499---group-12\\abdullah_test 3\\tfodcourse\\tfod\\lib\\site-packages (from matplotlib>=2.1.0->pycocotools) (0.11.0)\n",
      "Requirement already satisfied: six>=1.5 in c:\\users\\abdullah\\desktop\\github\\cpit499---group-12\\abdullah_test 3\\tfodcourse\\tfod\\lib\\site-packages (from python-dateutil>=2.7->matplotlib>=2.1.0->pycocotools) (1.16.0)\n",
      "Building wheels for collected packages: pycocotools\n",
      "  Building wheel for pycocotools (pyproject.toml): started\n",
      "  Building wheel for pycocotools (pyproject.toml): finished with status 'done'\n",
      "  Created wheel for pycocotools: filename=pycocotools-2.0.4-cp39-cp39-win_amd64.whl size=75362 sha256=84b25a83e8bdca636a36a6c1392168b241dac682659d6db583ccd9b766f73308\n",
      "  Stored in directory: c:\\users\\abdullah\\appdata\\local\\pip\\cache\\wheels\\7e\\b0\\8e\\f2c3593944ead79f5146d057d1310ee6d7b60d30b826779846\n",
      "Successfully built pycocotools\n",
      "Installing collected packages: pycocotools\n",
      "Successfully installed pycocotools-2.0.4\n",
      "Note: you may need to restart the kernel to use updated packages.\n"
     ]
    },
    {
     "name": "stderr",
     "output_type": "stream",
     "text": [
      "ERROR: pip's dependency resolver does not currently take into account all the packages that are installed. This behaviour is the source of the following dependency conflicts.\n",
      "object-detection 0.1 requires apache-beam, which is not installed.\n",
      "object-detection 0.1 requires avro-python3, which is not installed.\n",
      "object-detection 0.1 requires contextlib2, which is not installed.\n",
      "tf-models-official 2.8.0 requires gin-config, which is not installed.\n",
      "tf-models-official 2.8.0 requires google-api-python-client>=1.6.7, which is not installed.\n",
      "tf-models-official 2.8.0 requires kaggle>=1.3.9, which is not installed.\n",
      "tf-models-official 2.8.0 requires oauth2client, which is not installed.\n",
      "tf-models-official 2.8.0 requires opencv-python-headless, which is not installed.\n",
      "tf-models-official 2.8.0 requires psutil>=5.4.3, which is not installed.\n",
      "tf-models-official 2.8.0 requires py-cpuinfo>=3.3.0, which is not installed.\n",
      "tf-models-official 2.8.0 requires sacrebleu, which is not installed.\n",
      "tf-models-official 2.8.0 requires sentencepiece, which is not installed.\n",
      "tf-models-official 2.8.0 requires seqeval, which is not installed.\n",
      "tf-models-official 2.8.0 requires tensorflow-addons, which is not installed.\n",
      "tf-models-official 2.8.0 requires tensorflow-datasets, which is not installed.\n",
      "tf-models-official 2.8.0 requires tensorflow-hub>=0.6.0, which is not installed.\n",
      "tf-models-official 2.8.0 requires tensorflow-model-optimization>=0.4.1, which is not installed.\n",
      "tf-models-official 2.8.0 requires tensorflow-text~=2.8.0, which is not installed.\n",
      "tf-models-official 2.8.0 requires pyyaml<6.0,>=5.1, but you have pyyaml 6.0 which is incompatible.\n"
     ]
    }
   ],
   "source": [
    "pip install pycocotools\n"
   ]
  },
  {
   "cell_type": "code",
   "execution_count": 16,
   "metadata": {},
   "outputs": [
    {
     "name": "stdout",
     "output_type": "stream",
     "text": [
      "Collecting pytz\n",
      "  Downloading pytz-2021.3-py2.py3-none-any.whl (503 kB)\n",
      "     -------------------------------------- 503.5/503.5 KB 1.4 MB/s eta 0:00:00\n",
      "Installing collected packages: pytz\n",
      "Successfully installed pytz-2021.3\n",
      "Note: you may need to restart the kernel to use updated packages.\n"
     ]
    }
   ],
   "source": [
    "pip install pytz"
   ]
  },
  {
   "cell_type": "code",
   "execution_count": 7,
   "metadata": {},
   "outputs": [],
   "source": [
    "import object_detection"
   ]
  },
  {
   "cell_type": "code",
   "execution_count": 8,
   "metadata": {
    "scrolled": true
   },
   "outputs": [
    {
     "name": "stdout",
     "output_type": "stream",
     "text": [
      "Package                      Version             Editable project location\n",
      "---------------------------- ------------------- --------------------------------------------------------------------------------------------------------------\n",
      "absl-py                      1.0.0\n",
      "asttokens                    2.0.5\n",
      "astunparse                   1.6.3\n",
      "backcall                     0.2.0\n",
      "cachetools                   5.0.0\n",
      "certifi                      2021.10.8\n",
      "charset-normalizer           2.0.12\n",
      "colorama                     0.4.4\n",
      "cycler                       0.11.0\n",
      "debugpy                      1.5.1\n",
      "decorator                    5.1.1\n",
      "entrypoints                  0.4\n",
      "executing                    0.8.2\n",
      "flatbuffers                  2.0\n",
      "fonttools                    4.29.1\n",
      "gast                         0.5.3\n",
      "google-auth                  2.6.0\n",
      "google-auth-oauthlib         0.4.6\n",
      "google-pasta                 0.2.0\n",
      "grpcio                       1.44.0\n",
      "h5py                         3.6.0\n",
      "idna                         3.3\n",
      "importlib-metadata           4.11.1\n",
      "ipykernel                    6.9.1\n",
      "ipython                      8.1.0\n",
      "jedi                         0.18.1\n",
      "jupyter-client               7.1.2\n",
      "jupyter-core                 4.9.2\n",
      "keras                        2.8.0\n",
      "Keras-Preprocessing          1.1.2\n",
      "kiwisolver                   1.3.2\n",
      "libclang                     13.0.0\n",
      "lvis                         0.5.3\n",
      "lxml                         4.8.0\n",
      "Markdown                     3.3.6\n",
      "matplotlib                   3.5.1\n",
      "matplotlib-inline            0.1.3\n",
      "nest-asyncio                 1.5.4\n",
      "numpy                        1.22.2\n",
      "oauthlib                     3.2.0\n",
      "object-detection             0.1\n",
      "opencv-python                4.5.5.62\n",
      "opt-einsum                   3.3.0\n",
      "packaging                    21.3\n",
      "pandas                       1.4.1\n",
      "parso                        0.8.3\n",
      "pickleshare                  0.7.5\n",
      "Pillow                       9.0.1\n",
      "pip                          22.0.3\n",
      "prompt-toolkit               3.0.28\n",
      "protobuf                     3.19.4\n",
      "pure-eval                    0.2.2\n",
      "pyasn1                       0.4.8\n",
      "pyasn1-modules               0.2.8\n",
      "Pygments                     2.11.2\n",
      "pyparsing                    3.0.7\n",
      "PyQt5                        5.15.6\n",
      "PyQt5-Qt5                    5.15.2\n",
      "PyQt5-sip                    12.9.1\n",
      "python-dateutil              2.8.2\n",
      "pywin32                      303\n",
      "PyYAML                       6.0\n",
      "pyzmq                        22.3.0\n",
      "requests                     2.27.1\n",
      "requests-oauthlib            1.3.1\n",
      "rsa                          4.8\n",
      "scipy                        1.8.0\n",
      "setuptools                   57.4.0\n",
      "six                          1.16.0\n",
      "slim                         0.1                 c:\\users\\abdullah\\desktop\\github\\cpit499---group-12\\abdullah_test 3\\tfodcourse\\tensorflow\\models\\research\\slim\n",
      "stack-data                   0.2.0\n",
      "tensorboard                  2.8.0\n",
      "tensorboard-data-server      0.6.1\n",
      "tensorboard-plugin-wit       1.8.1\n",
      "tensorflow                   2.8.0\n",
      "tensorflow-io                0.24.0\n",
      "tensorflow-io-gcs-filesystem 0.24.0\n",
      "termcolor                    1.1.0\n",
      "tf-estimator-nightly         2.8.0.dev2021122109\n",
      "tf-models-official           2.8.0\n",
      "tf-slim                      1.1.0\n",
      "tornado                      6.1\n",
      "traitlets                    5.1.1\n",
      "typing_extensions            4.1.1\n",
      "urllib3                      1.26.8\n",
      "wcwidth                      0.2.5\n",
      "Werkzeug                     2.0.3\n",
      "wget                         3.2\n",
      "wheel                        0.37.1\n",
      "wrapt                        1.13.3\n",
      "zipp                         3.7.0\n"
     ]
    }
   ],
   "source": [
    "!pip list"
   ]
  },
  {
   "cell_type": "code",
   "execution_count": 27,
   "metadata": {
    "colab": {
     "base_uri": "https://localhost:8080/"
    },
    "id": "csofht2npfDE",
    "outputId": "ff5471b2-bed2-43f2-959c-327a706527b6"
   },
   "outputs": [
    {
     "name": "stdout",
     "output_type": "stream",
     "text": [
      "100% [........................................................................] 20515344 / 20515344        1 file(s) moved.\n",
      "ssd_mobilenet_v2_fpnlite_320x320_coco17_tpu-8/\n",
      "ssd_mobilenet_v2_fpnlite_320x320_coco17_tpu-8/checkpoint/\n",
      "ssd_mobilenet_v2_fpnlite_320x320_coco17_tpu-8/checkpoint/ckpt-0.data-00000-of-00001\n",
      "ssd_mobilenet_v2_fpnlite_320x320_coco17_tpu-8/checkpoint/checkpoint\n",
      "ssd_mobilenet_v2_fpnlite_320x320_coco17_tpu-8/checkpoint/ckpt-0.index\n",
      "ssd_mobilenet_v2_fpnlite_320x320_coco17_tpu-8/pipeline.config\n",
      "ssd_mobilenet_v2_fpnlite_320x320_coco17_tpu-8/saved_model/\n",
      "ssd_mobilenet_v2_fpnlite_320x320_coco17_tpu-8/saved_model/saved_model.pb\n",
      "ssd_mobilenet_v2_fpnlite_320x320_coco17_tpu-8/saved_model/variables/\n",
      "ssd_mobilenet_v2_fpnlite_320x320_coco17_tpu-8/saved_model/variables/variables.data-00000-of-00001\n",
      "ssd_mobilenet_v2_fpnlite_320x320_coco17_tpu-8/saved_model/variables/variables.index\n"
     ]
    }
   ],
   "source": [
    "if os.name =='posix':\n",
    "    !wget {PRETRAINED_MODEL_URL}\n",
    "    !mv {PRETRAINED_MODEL_NAME+'.tar.gz'} {paths['PRETRAINED_MODEL_PATH']}\n",
    "    !cd {paths['PRETRAINED_MODEL_PATH']} && tar -zxvf {PRETRAINED_MODEL_NAME+'.tar.gz'}\n",
    "if os.name == 'nt':\n",
    "    wget.download(PRETRAINED_MODEL_URL)\n",
    "    !move {PRETRAINED_MODEL_NAME+'.tar.gz'} {paths['PRETRAINED_MODEL_PATH']}\n",
    "    !cd {paths['PRETRAINED_MODEL_PATH']} && tar -zxvf {PRETRAINED_MODEL_NAME+'.tar.gz'}"
   ]
  },
  {
   "cell_type": "markdown",
   "metadata": {
    "id": "M5KJTnkfpfDC"
   },
   "source": [
    "# 2. Create Label Map"
   ]
  },
  {
   "cell_type": "code",
   "execution_count": 28,
   "metadata": {
    "id": "p1BVDWo7pfDC"
   },
   "outputs": [],
   "source": [
    "labels = [{'name':'A', 'id':1}, {'name':'B', 'id':2}, {'name':'thankyou', 'id':3}, {'name':'livelong', 'id':4}]\n",
    "\n",
    "with open(files['LABELMAP'], 'w') as f:\n",
    "    for label in labels:\n",
    "        f.write('item { \\n')\n",
    "        f.write('\\tname:\\'{}\\'\\n'.format(label['name']))\n",
    "        f.write('\\tid:{}\\n'.format(label['id']))\n",
    "        f.write('}\\n')"
   ]
  },
  {
   "cell_type": "markdown",
   "metadata": {
    "id": "C88zyVELpfDC"
   },
   "source": [
    "# 3. Create TF records"
   ]
  },
  {
   "cell_type": "code",
   "execution_count": 29,
   "metadata": {
    "colab": {
     "base_uri": "https://localhost:8080/"
    },
    "id": "kvf5WccwrFGq",
    "outputId": "49902aeb-0bd7-4298-e1a0-5b4a64eb2064"
   },
   "outputs": [
    {
     "name": "stdout",
     "output_type": "stream",
     "text": [
      "Tensorflow/workspace/images/train/\n",
      "Tensorflow/workspace/images/train/A.3a39dc02-97a2-11ec-bcf3-d037459e425c.jpg\n",
      "Tensorflow/workspace/images/train/A.3a39dc02-97a2-11ec-bcf3-d037459e425c.xml\n",
      "Tensorflow/workspace/images/train/A.3b75b9ad-97a2-11ec-ae0e-d037459e425c.jpg\n",
      "Tensorflow/workspace/images/train/A.3b75b9ad-97a2-11ec-ae0e-d037459e425c.xml\n",
      "Tensorflow/workspace/images/train/A.3cab8528-97a2-11ec-8edb-d037459e425c.jpg\n",
      "Tensorflow/workspace/images/train/A.3cab8528-97a2-11ec-8edb-d037459e425c.xml\n",
      "Tensorflow/workspace/images/train/B.43a44ac6-97a2-11ec-bac4-d037459e425c.jpg\n",
      "Tensorflow/workspace/images/train/B.43a44ac6-97a2-11ec-bac4-d037459e425c.xml\n",
      "Tensorflow/workspace/images/train/B.44da657d-97a2-11ec-a5a0-d037459e425c.jpg\n",
      "Tensorflow/workspace/images/train/B.44da657d-97a2-11ec-a5a0-d037459e425c.xml\n",
      "Tensorflow/workspace/images/train/B.487f7380-97a2-11ec-b1c0-d037459e425c.jpg\n",
      "Tensorflow/workspace/images/train/B.487f7380-97a2-11ec-b1c0-d037459e425c.xml\n",
      "Tensorflow/workspace/images/train/livelong.57b4ba9c-97a2-11ec-933b-d037459e425c.jpg\n",
      "Tensorflow/workspace/images/train/livelong.57b4ba9c-97a2-11ec-933b-d037459e425c.xml\n",
      "Tensorflow/workspace/images/train/livelong.5a24108d-97a2-11ec-be4c-d037459e425c.jpg\n",
      "Tensorflow/workspace/images/train/livelong.5a24108d-97a2-11ec-be4c-d037459e425c.xml\n",
      "Tensorflow/workspace/images/train/livelong.5b5b3a5f-97a2-11ec-9f9e-d037459e425c.jpg\n",
      "Tensorflow/workspace/images/train/livelong.5b5b3a5f-97a2-11ec-9f9e-d037459e425c.xml\n",
      "Tensorflow/workspace/images/train/thankyou.4d11cc4e-97a2-11ec-b860-d037459e425c.jpg\n",
      "Tensorflow/workspace/images/train/thankyou.4d11cc4e-97a2-11ec-b860-d037459e425c.xml\n",
      "Tensorflow/workspace/images/train/thankyou.4e4758fa-97a2-11ec-a923-d037459e425c.jpg\n",
      "Tensorflow/workspace/images/train/thankyou.4e4758fa-97a2-11ec-a923-d037459e425c.xml\n",
      "Tensorflow/workspace/images/train/thankyou.4f7dd700-97a2-11ec-abd6-d037459e425c.jpg\n",
      "Tensorflow/workspace/images/train/thankyou.4f7dd700-97a2-11ec-abd6-d037459e425c.xml\n",
      "Tensorflow/workspace/images/test/\n",
      "Tensorflow/workspace/images/test/A.3de34176-97a2-11ec-b20a-d037459e425c.jpg\n",
      "Tensorflow/workspace/images/test/A.3de34176-97a2-11ec-b20a-d037459e425c.xml\n",
      "Tensorflow/workspace/images/test/A.3f19a000-97a2-11ec-aeb4-d037459e425c.jpg\n",
      "Tensorflow/workspace/images/test/A.3f19a000-97a2-11ec-aeb4-d037459e425c.xml\n",
      "Tensorflow/workspace/images/test/B.46126151-97a2-11ec-acff-d037459e425c.jpg\n",
      "Tensorflow/workspace/images/test/B.46126151-97a2-11ec-acff-d037459e425c.xml\n",
      "Tensorflow/workspace/images/test/B.4749b09b-97a2-11ec-87f3-d037459e425c.jpg\n",
      "Tensorflow/workspace/images/test/B.4749b09b-97a2-11ec-87f3-d037459e425c.xml\n",
      "Tensorflow/workspace/images/test/livelong.567e7750-97a2-11ec-9460-d037459e425c.jpg\n",
      "Tensorflow/workspace/images/test/livelong.567e7750-97a2-11ec-9460-d037459e425c.xml\n",
      "Tensorflow/workspace/images/test/livelong.58eb3b45-97a2-11ec-a3ee-d037459e425c.jpg\n",
      "Tensorflow/workspace/images/test/livelong.58eb3b45-97a2-11ec-a3ee-d037459e425c.xml\n",
      "Tensorflow/workspace/images/test/thankyou.50b5b726-97a2-11ec-ad56-d037459e425c.jpg\n",
      "Tensorflow/workspace/images/test/thankyou.50b5b726-97a2-11ec-ad56-d037459e425c.xml\n",
      "Tensorflow/workspace/images/test/thankyou.51eb11c6-97a2-11ec-ad1e-d037459e425c.jpg\n",
      "Tensorflow/workspace/images/test/thankyou.51eb11c6-97a2-11ec-ad1e-d037459e425c.xml\n"
     ]
    }
   ],
   "source": [
    "# OPTIONAL IF RUNNING ON COLAB\n",
    "ARCHIVE_FILES = os.path.join(paths['IMAGE_PATH'], 'archive.tar.gz')\n",
    "if os.path.exists(ARCHIVE_FILES):\n",
    "  !tar -zxvf {ARCHIVE_FILES}"
   ]
  },
  {
   "cell_type": "code",
   "execution_count": 30,
   "metadata": {
    "colab": {
     "base_uri": "https://localhost:8080/"
    },
    "id": "KWpb_BVUpfDD",
    "outputId": "56ce2a3f-3933-4ee6-8a9d-d5ec65f7d73c"
   },
   "outputs": [],
   "source": [
    "if not os.path.exists(files['TF_RECORD_SCRIPT']):\n",
    "    !git clone https://github.com/nicknochnack/GenerateTFRecord {paths['SCRIPTS_PATH']}"
   ]
  },
  {
   "cell_type": "code",
   "execution_count": 31,
   "metadata": {
    "colab": {
     "base_uri": "https://localhost:8080/"
    },
    "id": "UPFToGZqpfDD",
    "outputId": "0ebb456f-aadc-4a1f-96e6-fbfec1923e1c"
   },
   "outputs": [
    {
     "name": "stdout",
     "output_type": "stream",
     "text": [
      "Successfully created the TFRecord file: Tensorflow\\workspace\\annotations\\train.record\n",
      "Successfully created the TFRecord file: Tensorflow\\workspace\\annotations\\test.record\n"
     ]
    }
   ],
   "source": [
    "!python {files['TF_RECORD_SCRIPT']} -x {os.path.join(paths['IMAGE_PATH'], 'train')} -l {files['LABELMAP']} -o {os.path.join(paths['ANNOTATION_PATH'], 'train.record')} \n",
    "!python {files['TF_RECORD_SCRIPT']} -x {os.path.join(paths['IMAGE_PATH'], 'test')} -l {files['LABELMAP']} -o {os.path.join(paths['ANNOTATION_PATH'], 'test.record')} "
   ]
  },
  {
   "cell_type": "markdown",
   "metadata": {
    "id": "qT4QU7pLpfDE"
   },
   "source": [
    "# 4. Copy Model Config to Training Folder"
   ]
  },
  {
   "cell_type": "code",
   "execution_count": 32,
   "metadata": {
    "id": "cOjuTFbwpfDF"
   },
   "outputs": [
    {
     "name": "stdout",
     "output_type": "stream",
     "text": [
      "        1 file(s) copied.\n"
     ]
    },
    {
     "name": "stderr",
     "output_type": "stream",
     "text": [
      "Running tests under Python 3.9.7: C:\\Users\\abdullah\\Desktop\\Github\\CPIT499---Group-12\\Abdullah_Test 3\\TFODCourse\\tfod\\Scripts\\python.exe\n",
      "[ RUN      ] ModelBuilderTF2Test.test_create_center_net_deepmac\n",
      "2022-02-27 13:20:25.647158: I tensorflow/core/platform/cpu_feature_guard.cc:151] This TensorFlow binary is optimized with oneAPI Deep Neural Network Library (oneDNN) to use the following CPU instructions in performance-critical operations:  AVX AVX2\n",
      "To enable them in other operations, rebuild TensorFlow with the appropriate compiler flags.\n",
      "2022-02-27 13:20:26.261213: I tensorflow/core/common_runtime/gpu/gpu_device.cc:1525] Created device /job:localhost/replica:0/task:0/device:GPU:0 with 5751 MB memory:  -> device: 0, name: NVIDIA GeForce RTX 2080, pci bus id: 0000:01:00.0, compute capability: 7.5\n",
      "C:\\Users\\abdullah\\Desktop\\Github\\CPIT499---Group-12\\Abdullah_Test 3\\TFODCourse\\tfod\\lib\\site-packages\\object_detection-0.1-py3.9.egg\\object_detection\\builders\\model_builder.py:1100: DeprecationWarning: The 'warn' function is deprecated, use 'warning' instead\n",
      "  logging.warn(('Building experimental DeepMAC meta-arch.'\n",
      "W0227 13:20:27.520396 11712 model_builder.py:1100] Building experimental DeepMAC meta-arch. Some features may be omitted.\n",
      "INFO:tensorflow:time(__main__.ModelBuilderTF2Test.test_create_center_net_deepmac): 2.22s\n",
      "I0227 13:20:27.862501 11712 test_util.py:2373] time(__main__.ModelBuilderTF2Test.test_create_center_net_deepmac): 2.22s\n",
      "[       OK ] ModelBuilderTF2Test.test_create_center_net_deepmac\n",
      "[ RUN      ] ModelBuilderTF2Test.test_create_center_net_model0 (customize_head_params=True)\n",
      "INFO:tensorflow:time(__main__.ModelBuilderTF2Test.test_create_center_net_model0 (customize_head_params=True)): 1.09s\n",
      "I0227 13:20:28.959358 11712 test_util.py:2373] time(__main__.ModelBuilderTF2Test.test_create_center_net_model0 (customize_head_params=True)): 1.09s\n",
      "[       OK ] ModelBuilderTF2Test.test_create_center_net_model0 (customize_head_params=True)\n",
      "[ RUN      ] ModelBuilderTF2Test.test_create_center_net_model1 (customize_head_params=False)\n",
      "INFO:tensorflow:time(__main__.ModelBuilderTF2Test.test_create_center_net_model1 (customize_head_params=False)): 0.2s\n",
      "I0227 13:20:29.161486 11712 test_util.py:2373] time(__main__.ModelBuilderTF2Test.test_create_center_net_model1 (customize_head_params=False)): 0.2s\n",
      "[       OK ] ModelBuilderTF2Test.test_create_center_net_model1 (customize_head_params=False)\n",
      "[ RUN      ] ModelBuilderTF2Test.test_create_center_net_model_from_keypoints\n",
      "INFO:tensorflow:time(__main__.ModelBuilderTF2Test.test_create_center_net_model_from_keypoints): 0.18s\n",
      "I0227 13:20:29.345993 11712 test_util.py:2373] time(__main__.ModelBuilderTF2Test.test_create_center_net_model_from_keypoints): 0.18s\n",
      "[       OK ] ModelBuilderTF2Test.test_create_center_net_model_from_keypoints\n",
      "[ RUN      ] ModelBuilderTF2Test.test_create_center_net_model_mobilenet\n",
      "INFO:tensorflow:time(__main__.ModelBuilderTF2Test.test_create_center_net_model_mobilenet): 1.34s\n",
      "I0227 13:20:30.685412 11712 test_util.py:2373] time(__main__.ModelBuilderTF2Test.test_create_center_net_model_mobilenet): 1.34s\n",
      "[       OK ] ModelBuilderTF2Test.test_create_center_net_model_mobilenet\n",
      "[ RUN      ] ModelBuilderTF2Test.test_create_experimental_model\n",
      "INFO:tensorflow:time(__main__.ModelBuilderTF2Test.test_create_experimental_model): 0.0s\n",
      "I0227 13:20:30.686409 11712 test_util.py:2373] time(__main__.ModelBuilderTF2Test.test_create_experimental_model): 0.0s\n",
      "[       OK ] ModelBuilderTF2Test.test_create_experimental_model\n",
      "[ RUN      ] ModelBuilderTF2Test.test_create_faster_rcnn_from_config_with_crop_feature0 (True)\n",
      "INFO:tensorflow:time(__main__.ModelBuilderTF2Test.test_create_faster_rcnn_from_config_with_crop_feature0 (True)): 0.02s\n",
      "I0227 13:20:30.706356 11712 test_util.py:2373] time(__main__.ModelBuilderTF2Test.test_create_faster_rcnn_from_config_with_crop_feature0 (True)): 0.02s\n",
      "[       OK ] ModelBuilderTF2Test.test_create_faster_rcnn_from_config_with_crop_feature0 (True)\n",
      "[ RUN      ] ModelBuilderTF2Test.test_create_faster_rcnn_from_config_with_crop_feature1 (False)\n",
      "INFO:tensorflow:time(__main__.ModelBuilderTF2Test.test_create_faster_rcnn_from_config_with_crop_feature1 (False)): 0.01s\n",
      "I0227 13:20:30.720319 11712 test_util.py:2373] time(__main__.ModelBuilderTF2Test.test_create_faster_rcnn_from_config_with_crop_feature1 (False)): 0.01s\n",
      "[       OK ] ModelBuilderTF2Test.test_create_faster_rcnn_from_config_with_crop_feature1 (False)\n",
      "[ RUN      ] ModelBuilderTF2Test.test_create_faster_rcnn_model_from_config_with_example_miner\n",
      "INFO:tensorflow:time(__main__.ModelBuilderTF2Test.test_create_faster_rcnn_model_from_config_with_example_miner): 0.01s\n",
      "I0227 13:20:30.733284 11712 test_util.py:2373] time(__main__.ModelBuilderTF2Test.test_create_faster_rcnn_model_from_config_with_example_miner): 0.01s\n",
      "[       OK ] ModelBuilderTF2Test.test_create_faster_rcnn_model_from_config_with_example_miner\n",
      "[ RUN      ] ModelBuilderTF2Test.test_create_faster_rcnn_models_from_config_faster_rcnn_with_matmul\n",
      "INFO:tensorflow:time(__main__.ModelBuilderTF2Test.test_create_faster_rcnn_models_from_config_faster_rcnn_with_matmul): 0.08s\n",
      "I0227 13:20:30.810078 11712 test_util.py:2373] time(__main__.ModelBuilderTF2Test.test_create_faster_rcnn_models_from_config_faster_rcnn_with_matmul): 0.08s\n",
      "[       OK ] ModelBuilderTF2Test.test_create_faster_rcnn_models_from_config_faster_rcnn_with_matmul\n",
      "[ RUN      ] ModelBuilderTF2Test.test_create_faster_rcnn_models_from_config_faster_rcnn_without_matmul\n",
      "INFO:tensorflow:time(__main__.ModelBuilderTF2Test.test_create_faster_rcnn_models_from_config_faster_rcnn_without_matmul): 0.07s\n",
      "I0227 13:20:30.880889 11712 test_util.py:2373] time(__main__.ModelBuilderTF2Test.test_create_faster_rcnn_models_from_config_faster_rcnn_without_matmul): 0.07s\n",
      "[       OK ] ModelBuilderTF2Test.test_create_faster_rcnn_models_from_config_faster_rcnn_without_matmul\n",
      "[ RUN      ] ModelBuilderTF2Test.test_create_faster_rcnn_models_from_config_mask_rcnn_with_matmul\n",
      "INFO:tensorflow:time(__main__.ModelBuilderTF2Test.test_create_faster_rcnn_models_from_config_mask_rcnn_with_matmul): 0.07s\n",
      "I0227 13:20:30.954692 11712 test_util.py:2373] time(__main__.ModelBuilderTF2Test.test_create_faster_rcnn_models_from_config_mask_rcnn_with_matmul): 0.07s\n",
      "[       OK ] ModelBuilderTF2Test.test_create_faster_rcnn_models_from_config_mask_rcnn_with_matmul\n",
      "[ RUN      ] ModelBuilderTF2Test.test_create_faster_rcnn_models_from_config_mask_rcnn_without_matmul\n",
      "INFO:tensorflow:time(__main__.ModelBuilderTF2Test.test_create_faster_rcnn_models_from_config_mask_rcnn_without_matmul): 0.08s\n",
      "I0227 13:20:31.033482 11712 test_util.py:2373] time(__main__.ModelBuilderTF2Test.test_create_faster_rcnn_models_from_config_mask_rcnn_without_matmul): 0.08s\n",
      "[       OK ] ModelBuilderTF2Test.test_create_faster_rcnn_models_from_config_mask_rcnn_without_matmul\n",
      "[ RUN      ] ModelBuilderTF2Test.test_create_rfcn_model_from_config\n",
      "INFO:tensorflow:time(__main__.ModelBuilderTF2Test.test_create_rfcn_model_from_config): 0.07s\n",
      "I0227 13:20:31.103295 11712 test_util.py:2373] time(__main__.ModelBuilderTF2Test.test_create_rfcn_model_from_config): 0.07s\n",
      "[       OK ] ModelBuilderTF2Test.test_create_rfcn_model_from_config\n",
      "[ RUN      ] ModelBuilderTF2Test.test_create_ssd_fpn_model_from_config\n",
      "INFO:tensorflow:time(__main__.ModelBuilderTF2Test.test_create_ssd_fpn_model_from_config): 0.02s\n",
      "I0227 13:20:31.124239 11712 test_util.py:2373] time(__main__.ModelBuilderTF2Test.test_create_ssd_fpn_model_from_config): 0.02s\n",
      "[       OK ] ModelBuilderTF2Test.test_create_ssd_fpn_model_from_config\n",
      "[ RUN      ] ModelBuilderTF2Test.test_create_ssd_models_from_config\n",
      "I0227 13:20:31.363599 11712 ssd_efficientnet_bifpn_feature_extractor.py:145] EfficientDet EfficientNet backbone version: efficientnet-b0\n",
      "I0227 13:20:31.364596 11712 ssd_efficientnet_bifpn_feature_extractor.py:147] EfficientDet BiFPN num filters: 64\n",
      "I0227 13:20:31.364596 11712 ssd_efficientnet_bifpn_feature_extractor.py:148] EfficientDet BiFPN num iterations: 3\n",
      "I0227 13:20:31.365593 11712 efficientnet_model.py:144] round_filter input=32 output=32\n",
      "I0227 13:20:31.378558 11712 efficientnet_model.py:144] round_filter input=32 output=32\n",
      "I0227 13:20:31.378558 11712 efficientnet_model.py:144] round_filter input=16 output=16\n",
      "I0227 13:20:31.421444 11712 efficientnet_model.py:144] round_filter input=16 output=16\n",
      "I0227 13:20:31.422441 11712 efficientnet_model.py:144] round_filter input=24 output=24\n",
      "I0227 13:20:31.533146 11712 efficientnet_model.py:144] round_filter input=24 output=24\n",
      "I0227 13:20:31.534144 11712 efficientnet_model.py:144] round_filter input=40 output=40\n",
      "I0227 13:20:31.643850 11712 efficientnet_model.py:144] round_filter input=40 output=40\n",
      "I0227 13:20:31.643850 11712 efficientnet_model.py:144] round_filter input=80 output=80\n",
      "I0227 13:20:31.805417 11712 efficientnet_model.py:144] round_filter input=80 output=80\n",
      "I0227 13:20:31.805417 11712 efficientnet_model.py:144] round_filter input=112 output=112\n",
      "I0227 13:20:31.969978 11712 efficientnet_model.py:144] round_filter input=112 output=112\n",
      "I0227 13:20:31.969978 11712 efficientnet_model.py:144] round_filter input=192 output=192\n",
      "I0227 13:20:32.220309 11712 efficientnet_model.py:144] round_filter input=192 output=192\n",
      "I0227 13:20:32.221306 11712 efficientnet_model.py:144] round_filter input=320 output=320\n",
      "I0227 13:20:32.293114 11712 efficientnet_model.py:144] round_filter input=1280 output=1280\n",
      "I0227 13:20:32.323034 11712 efficientnet_model.py:454] Building model efficientnet with params ModelConfig(width_coefficient=1.0, depth_coefficient=1.0, resolution=224, dropout_rate=0.2, blocks=(BlockConfig(input_filters=32, output_filters=16, kernel_size=3, num_repeat=1, expand_ratio=1, strides=(1, 1), se_ratio=0.25, id_skip=True, fused_conv=False, conv_type='depthwise'), BlockConfig(input_filters=16, output_filters=24, kernel_size=3, num_repeat=2, expand_ratio=6, strides=(2, 2), se_ratio=0.25, id_skip=True, fused_conv=False, conv_type='depthwise'), BlockConfig(input_filters=24, output_filters=40, kernel_size=5, num_repeat=2, expand_ratio=6, strides=(2, 2), se_ratio=0.25, id_skip=True, fused_conv=False, conv_type='depthwise'), BlockConfig(input_filters=40, output_filters=80, kernel_size=3, num_repeat=3, expand_ratio=6, strides=(2, 2), se_ratio=0.25, id_skip=True, fused_conv=False, conv_type='depthwise'), BlockConfig(input_filters=80, output_filters=112, kernel_size=5, num_repeat=3, expand_ratio=6, strides=(1, 1), se_ratio=0.25, id_skip=True, fused_conv=False, conv_type='depthwise'), BlockConfig(input_filters=112, output_filters=192, kernel_size=5, num_repeat=4, expand_ratio=6, strides=(2, 2), se_ratio=0.25, id_skip=True, fused_conv=False, conv_type='depthwise'), BlockConfig(input_filters=192, output_filters=320, kernel_size=3, num_repeat=1, expand_ratio=6, strides=(1, 1), se_ratio=0.25, id_skip=True, fused_conv=False, conv_type='depthwise')), stem_base_filters=32, top_base_filters=1280, activation='simple_swish', batch_norm='default', bn_momentum=0.99, bn_epsilon=0.001, weight_decay=5e-06, drop_connect_rate=0.2, depth_divisor=8, min_depth=None, use_se=True, input_channels=3, num_classes=1000, model_name='efficientnet', rescale_input=False, data_format='channels_last', dtype='float32')\n",
      "I0227 13:20:32.377887 11712 ssd_efficientnet_bifpn_feature_extractor.py:145] EfficientDet EfficientNet backbone version: efficientnet-b1\n",
      "I0227 13:20:32.377887 11712 ssd_efficientnet_bifpn_feature_extractor.py:147] EfficientDet BiFPN num filters: 88\n",
      "I0227 13:20:32.377887 11712 ssd_efficientnet_bifpn_feature_extractor.py:148] EfficientDet BiFPN num iterations: 4\n",
      "I0227 13:20:32.379883 11712 efficientnet_model.py:144] round_filter input=32 output=32\n",
      "I0227 13:20:32.391851 11712 efficientnet_model.py:144] round_filter input=32 output=32\n",
      "I0227 13:20:32.391851 11712 efficientnet_model.py:144] round_filter input=16 output=16\n",
      "I0227 13:20:32.485600 11712 efficientnet_model.py:144] round_filter input=16 output=16\n",
      "I0227 13:20:32.485600 11712 efficientnet_model.py:144] round_filter input=24 output=24\n",
      "I0227 13:20:32.655147 11712 efficientnet_model.py:144] round_filter input=24 output=24\n",
      "I0227 13:20:32.655147 11712 efficientnet_model.py:144] round_filter input=40 output=40\n",
      "I0227 13:20:32.826714 11712 efficientnet_model.py:144] round_filter input=40 output=40\n",
      "I0227 13:20:32.826714 11712 efficientnet_model.py:144] round_filter input=80 output=80\n",
      "I0227 13:20:33.047098 11712 efficientnet_model.py:144] round_filter input=80 output=80\n",
      "I0227 13:20:33.048095 11712 efficientnet_model.py:144] round_filter input=112 output=112\n",
      "I0227 13:20:33.271522 11712 efficientnet_model.py:144] round_filter input=112 output=112\n",
      "I0227 13:20:33.271522 11712 efficientnet_model.py:144] round_filter input=192 output=192\n",
      "I0227 13:20:33.545789 11712 efficientnet_model.py:144] round_filter input=192 output=192\n",
      "I0227 13:20:33.545789 11712 efficientnet_model.py:144] round_filter input=320 output=320\n",
      "I0227 13:20:33.653477 11712 efficientnet_model.py:144] round_filter input=1280 output=1280\n",
      "I0227 13:20:33.673424 11712 efficientnet_model.py:454] Building model efficientnet with params ModelConfig(width_coefficient=1.0, depth_coefficient=1.1, resolution=240, dropout_rate=0.2, blocks=(BlockConfig(input_filters=32, output_filters=16, kernel_size=3, num_repeat=1, expand_ratio=1, strides=(1, 1), se_ratio=0.25, id_skip=True, fused_conv=False, conv_type='depthwise'), BlockConfig(input_filters=16, output_filters=24, kernel_size=3, num_repeat=2, expand_ratio=6, strides=(2, 2), se_ratio=0.25, id_skip=True, fused_conv=False, conv_type='depthwise'), BlockConfig(input_filters=24, output_filters=40, kernel_size=5, num_repeat=2, expand_ratio=6, strides=(2, 2), se_ratio=0.25, id_skip=True, fused_conv=False, conv_type='depthwise'), BlockConfig(input_filters=40, output_filters=80, kernel_size=3, num_repeat=3, expand_ratio=6, strides=(2, 2), se_ratio=0.25, id_skip=True, fused_conv=False, conv_type='depthwise'), BlockConfig(input_filters=80, output_filters=112, kernel_size=5, num_repeat=3, expand_ratio=6, strides=(1, 1), se_ratio=0.25, id_skip=True, fused_conv=False, conv_type='depthwise'), BlockConfig(input_filters=112, output_filters=192, kernel_size=5, num_repeat=4, expand_ratio=6, strides=(2, 2), se_ratio=0.25, id_skip=True, fused_conv=False, conv_type='depthwise'), BlockConfig(input_filters=192, output_filters=320, kernel_size=3, num_repeat=1, expand_ratio=6, strides=(1, 1), se_ratio=0.25, id_skip=True, fused_conv=False, conv_type='depthwise')), stem_base_filters=32, top_base_filters=1280, activation='simple_swish', batch_norm='default', bn_momentum=0.99, bn_epsilon=0.001, weight_decay=5e-06, drop_connect_rate=0.2, depth_divisor=8, min_depth=None, use_se=True, input_channels=3, num_classes=1000, model_name='efficientnet', rescale_input=False, data_format='channels_last', dtype='float32')\n",
      "I0227 13:20:33.807066 11712 ssd_efficientnet_bifpn_feature_extractor.py:145] EfficientDet EfficientNet backbone version: efficientnet-b2\n",
      "I0227 13:20:33.807066 11712 ssd_efficientnet_bifpn_feature_extractor.py:147] EfficientDet BiFPN num filters: 112\n",
      "I0227 13:20:33.807066 11712 ssd_efficientnet_bifpn_feature_extractor.py:148] EfficientDet BiFPN num iterations: 5\n",
      "I0227 13:20:33.808064 11712 efficientnet_model.py:144] round_filter input=32 output=32\n",
      "I0227 13:20:33.819035 11712 efficientnet_model.py:144] round_filter input=32 output=32\n",
      "I0227 13:20:33.819035 11712 efficientnet_model.py:144] round_filter input=16 output=16\n",
      "I0227 13:20:33.908796 11712 efficientnet_model.py:144] round_filter input=16 output=16\n",
      "I0227 13:20:33.908796 11712 efficientnet_model.py:144] round_filter input=24 output=24\n",
      "I0227 13:20:34.069389 11712 efficientnet_model.py:144] round_filter input=24 output=24\n",
      "I0227 13:20:34.070389 11712 efficientnet_model.py:144] round_filter input=40 output=48\n",
      "I0227 13:20:34.236919 11712 efficientnet_model.py:144] round_filter input=40 output=48\n",
      "I0227 13:20:34.236919 11712 efficientnet_model.py:144] round_filter input=80 output=88\n",
      "I0227 13:20:34.459324 11712 efficientnet_model.py:144] round_filter input=80 output=88\n",
      "I0227 13:20:34.459324 11712 efficientnet_model.py:144] round_filter input=112 output=120\n",
      "I0227 13:20:34.681730 11712 efficientnet_model.py:144] round_filter input=112 output=120\n",
      "I0227 13:20:34.682727 11712 efficientnet_model.py:144] round_filter input=192 output=208\n",
      "I0227 13:20:34.952007 11712 efficientnet_model.py:144] round_filter input=192 output=208\n",
      "I0227 13:20:34.952007 11712 efficientnet_model.py:144] round_filter input=320 output=352\n",
      "I0227 13:20:35.058722 11712 efficientnet_model.py:144] round_filter input=1280 output=1408\n",
      "I0227 13:20:35.079664 11712 efficientnet_model.py:454] Building model efficientnet with params ModelConfig(width_coefficient=1.1, depth_coefficient=1.2, resolution=260, dropout_rate=0.3, blocks=(BlockConfig(input_filters=32, output_filters=16, kernel_size=3, num_repeat=1, expand_ratio=1, strides=(1, 1), se_ratio=0.25, id_skip=True, fused_conv=False, conv_type='depthwise'), BlockConfig(input_filters=16, output_filters=24, kernel_size=3, num_repeat=2, expand_ratio=6, strides=(2, 2), se_ratio=0.25, id_skip=True, fused_conv=False, conv_type='depthwise'), BlockConfig(input_filters=24, output_filters=40, kernel_size=5, num_repeat=2, expand_ratio=6, strides=(2, 2), se_ratio=0.25, id_skip=True, fused_conv=False, conv_type='depthwise'), BlockConfig(input_filters=40, output_filters=80, kernel_size=3, num_repeat=3, expand_ratio=6, strides=(2, 2), se_ratio=0.25, id_skip=True, fused_conv=False, conv_type='depthwise'), BlockConfig(input_filters=80, output_filters=112, kernel_size=5, num_repeat=3, expand_ratio=6, strides=(1, 1), se_ratio=0.25, id_skip=True, fused_conv=False, conv_type='depthwise'), BlockConfig(input_filters=112, output_filters=192, kernel_size=5, num_repeat=4, expand_ratio=6, strides=(2, 2), se_ratio=0.25, id_skip=True, fused_conv=False, conv_type='depthwise'), BlockConfig(input_filters=192, output_filters=320, kernel_size=3, num_repeat=1, expand_ratio=6, strides=(1, 1), se_ratio=0.25, id_skip=True, fused_conv=False, conv_type='depthwise')), stem_base_filters=32, top_base_filters=1280, activation='simple_swish', batch_norm='default', bn_momentum=0.99, bn_epsilon=0.001, weight_decay=5e-06, drop_connect_rate=0.2, depth_divisor=8, min_depth=None, use_se=True, input_channels=3, num_classes=1000, model_name='efficientnet', rescale_input=False, data_format='channels_last', dtype='float32')\n",
      "I0227 13:20:35.127537 11712 ssd_efficientnet_bifpn_feature_extractor.py:145] EfficientDet EfficientNet backbone version: efficientnet-b3\n",
      "I0227 13:20:35.127537 11712 ssd_efficientnet_bifpn_feature_extractor.py:147] EfficientDet BiFPN num filters: 160\n",
      "I0227 13:20:35.127537 11712 ssd_efficientnet_bifpn_feature_extractor.py:148] EfficientDet BiFPN num iterations: 6\n",
      "I0227 13:20:35.128534 11712 efficientnet_model.py:144] round_filter input=32 output=40\n",
      "I0227 13:20:35.140502 11712 efficientnet_model.py:144] round_filter input=32 output=40\n",
      "I0227 13:20:35.140502 11712 efficientnet_model.py:144] round_filter input=16 output=24\n",
      "I0227 13:20:35.228268 11712 efficientnet_model.py:144] round_filter input=16 output=24\n",
      "I0227 13:20:35.228268 11712 efficientnet_model.py:144] round_filter input=24 output=32\n",
      "I0227 13:20:35.393826 11712 efficientnet_model.py:144] round_filter input=24 output=32\n",
      "I0227 13:20:35.393826 11712 efficientnet_model.py:144] round_filter input=40 output=48\n",
      "I0227 13:20:35.552400 11712 efficientnet_model.py:144] round_filter input=40 output=48\n",
      "I0227 13:20:35.552400 11712 efficientnet_model.py:144] round_filter input=80 output=96\n",
      "I0227 13:20:35.819686 11712 efficientnet_model.py:144] round_filter input=80 output=96\n",
      "I0227 13:20:35.819686 11712 efficientnet_model.py:144] round_filter input=112 output=136\n",
      "I0227 13:20:36.092956 11712 efficientnet_model.py:144] round_filter input=112 output=136\n",
      "I0227 13:20:36.092956 11712 efficientnet_model.py:144] round_filter input=192 output=232\n",
      "I0227 13:20:36.436062 11712 efficientnet_model.py:144] round_filter input=192 output=232\n",
      "I0227 13:20:36.436062 11712 efficientnet_model.py:144] round_filter input=320 output=384\n",
      "I0227 13:20:36.544748 11712 efficientnet_model.py:144] round_filter input=1280 output=1536\n",
      "I0227 13:20:36.565691 11712 efficientnet_model.py:454] Building model efficientnet with params ModelConfig(width_coefficient=1.2, depth_coefficient=1.4, resolution=300, dropout_rate=0.3, blocks=(BlockConfig(input_filters=32, output_filters=16, kernel_size=3, num_repeat=1, expand_ratio=1, strides=(1, 1), se_ratio=0.25, id_skip=True, fused_conv=False, conv_type='depthwise'), BlockConfig(input_filters=16, output_filters=24, kernel_size=3, num_repeat=2, expand_ratio=6, strides=(2, 2), se_ratio=0.25, id_skip=True, fused_conv=False, conv_type='depthwise'), BlockConfig(input_filters=24, output_filters=40, kernel_size=5, num_repeat=2, expand_ratio=6, strides=(2, 2), se_ratio=0.25, id_skip=True, fused_conv=False, conv_type='depthwise'), BlockConfig(input_filters=40, output_filters=80, kernel_size=3, num_repeat=3, expand_ratio=6, strides=(2, 2), se_ratio=0.25, id_skip=True, fused_conv=False, conv_type='depthwise'), BlockConfig(input_filters=80, output_filters=112, kernel_size=5, num_repeat=3, expand_ratio=6, strides=(1, 1), se_ratio=0.25, id_skip=True, fused_conv=False, conv_type='depthwise'), BlockConfig(input_filters=112, output_filters=192, kernel_size=5, num_repeat=4, expand_ratio=6, strides=(2, 2), se_ratio=0.25, id_skip=True, fused_conv=False, conv_type='depthwise'), BlockConfig(input_filters=192, output_filters=320, kernel_size=3, num_repeat=1, expand_ratio=6, strides=(1, 1), se_ratio=0.25, id_skip=True, fused_conv=False, conv_type='depthwise')), stem_base_filters=32, top_base_filters=1280, activation='simple_swish', batch_norm='default', bn_momentum=0.99, bn_epsilon=0.001, weight_decay=5e-06, drop_connect_rate=0.2, depth_divisor=8, min_depth=None, use_se=True, input_channels=3, num_classes=1000, model_name='efficientnet', rescale_input=False, data_format='channels_last', dtype='float32')\n",
      "I0227 13:20:36.616580 11712 ssd_efficientnet_bifpn_feature_extractor.py:145] EfficientDet EfficientNet backbone version: efficientnet-b4\n",
      "I0227 13:20:36.616580 11712 ssd_efficientnet_bifpn_feature_extractor.py:147] EfficientDet BiFPN num filters: 224\n",
      "I0227 13:20:36.616580 11712 ssd_efficientnet_bifpn_feature_extractor.py:148] EfficientDet BiFPN num iterations: 7\n",
      "I0227 13:20:36.617554 11712 efficientnet_model.py:144] round_filter input=32 output=48\n",
      "I0227 13:20:36.629521 11712 efficientnet_model.py:144] round_filter input=32 output=48\n",
      "I0227 13:20:36.629521 11712 efficientnet_model.py:144] round_filter input=16 output=24\n",
      "I0227 13:20:36.886836 11712 efficientnet_model.py:144] round_filter input=16 output=24\n",
      "I0227 13:20:36.886836 11712 efficientnet_model.py:144] round_filter input=24 output=32\n",
      "I0227 13:20:37.137164 11712 efficientnet_model.py:144] round_filter input=24 output=32\n",
      "I0227 13:20:37.137164 11712 efficientnet_model.py:144] round_filter input=40 output=56\n",
      "I0227 13:20:37.351591 11712 efficientnet_model.py:144] round_filter input=40 output=56\n",
      "I0227 13:20:37.352589 11712 efficientnet_model.py:144] round_filter input=80 output=112\n",
      "I0227 13:20:37.675725 11712 efficientnet_model.py:144] round_filter input=80 output=112\n",
      "I0227 13:20:37.675725 11712 efficientnet_model.py:144] round_filter input=112 output=160\n",
      "I0227 13:20:37.997647 11712 efficientnet_model.py:144] round_filter input=112 output=160\n",
      "I0227 13:20:37.997647 11712 efficientnet_model.py:144] round_filter input=192 output=272\n",
      "I0227 13:20:38.473660 11712 efficientnet_model.py:144] round_filter input=192 output=272\n",
      "I0227 13:20:38.473660 11712 efficientnet_model.py:144] round_filter input=320 output=448\n",
      "I0227 13:20:38.590326 11712 efficientnet_model.py:144] round_filter input=1280 output=1792\n",
      "I0227 13:20:38.744647 11712 efficientnet_model.py:454] Building model efficientnet with params ModelConfig(width_coefficient=1.4, depth_coefficient=1.8, resolution=380, dropout_rate=0.4, blocks=(BlockConfig(input_filters=32, output_filters=16, kernel_size=3, num_repeat=1, expand_ratio=1, strides=(1, 1), se_ratio=0.25, id_skip=True, fused_conv=False, conv_type='depthwise'), BlockConfig(input_filters=16, output_filters=24, kernel_size=3, num_repeat=2, expand_ratio=6, strides=(2, 2), se_ratio=0.25, id_skip=True, fused_conv=False, conv_type='depthwise'), BlockConfig(input_filters=24, output_filters=40, kernel_size=5, num_repeat=2, expand_ratio=6, strides=(2, 2), se_ratio=0.25, id_skip=True, fused_conv=False, conv_type='depthwise'), BlockConfig(input_filters=40, output_filters=80, kernel_size=3, num_repeat=3, expand_ratio=6, strides=(2, 2), se_ratio=0.25, id_skip=True, fused_conv=False, conv_type='depthwise'), BlockConfig(input_filters=80, output_filters=112, kernel_size=5, num_repeat=3, expand_ratio=6, strides=(1, 1), se_ratio=0.25, id_skip=True, fused_conv=False, conv_type='depthwise'), BlockConfig(input_filters=112, output_filters=192, kernel_size=5, num_repeat=4, expand_ratio=6, strides=(2, 2), se_ratio=0.25, id_skip=True, fused_conv=False, conv_type='depthwise'), BlockConfig(input_filters=192, output_filters=320, kernel_size=3, num_repeat=1, expand_ratio=6, strides=(1, 1), se_ratio=0.25, id_skip=True, fused_conv=False, conv_type='depthwise')), stem_base_filters=32, top_base_filters=1280, activation='simple_swish', batch_norm='default', bn_momentum=0.99, bn_epsilon=0.001, weight_decay=5e-06, drop_connect_rate=0.2, depth_divisor=8, min_depth=None, use_se=True, input_channels=3, num_classes=1000, model_name='efficientnet', rescale_input=False, data_format='channels_last', dtype='float32')\n",
      "I0227 13:20:38.804486 11712 ssd_efficientnet_bifpn_feature_extractor.py:145] EfficientDet EfficientNet backbone version: efficientnet-b5\n",
      "I0227 13:20:38.804486 11712 ssd_efficientnet_bifpn_feature_extractor.py:147] EfficientDet BiFPN num filters: 288\n",
      "I0227 13:20:38.804486 11712 ssd_efficientnet_bifpn_feature_extractor.py:148] EfficientDet BiFPN num iterations: 7\n",
      "I0227 13:20:38.805483 11712 efficientnet_model.py:144] round_filter input=32 output=48\n",
      "I0227 13:20:38.816476 11712 efficientnet_model.py:144] round_filter input=32 output=48\n",
      "I0227 13:20:38.816476 11712 efficientnet_model.py:144] round_filter input=16 output=24\n",
      "I0227 13:20:38.944112 11712 efficientnet_model.py:144] round_filter input=16 output=24\n",
      "I0227 13:20:38.944112 11712 efficientnet_model.py:144] round_filter input=24 output=40\n",
      "I0227 13:20:39.223384 11712 efficientnet_model.py:144] round_filter input=24 output=40\n",
      "I0227 13:20:39.223384 11712 efficientnet_model.py:144] round_filter input=40 output=64\n",
      "I0227 13:20:39.491650 11712 efficientnet_model.py:144] round_filter input=40 output=64\n",
      "I0227 13:20:39.492647 11712 efficientnet_model.py:144] round_filter input=80 output=128\n",
      "I0227 13:20:39.854679 11712 efficientnet_model.py:144] round_filter input=80 output=128\n",
      "I0227 13:20:39.854679 11712 efficientnet_model.py:144] round_filter input=112 output=176\n",
      "I0227 13:20:40.350353 11712 efficientnet_model.py:144] round_filter input=112 output=176\n",
      "I0227 13:20:40.350353 11712 efficientnet_model.py:144] round_filter input=192 output=304\n",
      "I0227 13:20:40.844034 11712 efficientnet_model.py:144] round_filter input=192 output=304\n",
      "I0227 13:20:40.845032 11712 efficientnet_model.py:144] round_filter input=320 output=512\n",
      "I0227 13:20:41.020562 11712 efficientnet_model.py:144] round_filter input=1280 output=2048\n",
      "I0227 13:20:41.043499 11712 efficientnet_model.py:454] Building model efficientnet with params ModelConfig(width_coefficient=1.6, depth_coefficient=2.2, resolution=456, dropout_rate=0.4, blocks=(BlockConfig(input_filters=32, output_filters=16, kernel_size=3, num_repeat=1, expand_ratio=1, strides=(1, 1), se_ratio=0.25, id_skip=True, fused_conv=False, conv_type='depthwise'), BlockConfig(input_filters=16, output_filters=24, kernel_size=3, num_repeat=2, expand_ratio=6, strides=(2, 2), se_ratio=0.25, id_skip=True, fused_conv=False, conv_type='depthwise'), BlockConfig(input_filters=24, output_filters=40, kernel_size=5, num_repeat=2, expand_ratio=6, strides=(2, 2), se_ratio=0.25, id_skip=True, fused_conv=False, conv_type='depthwise'), BlockConfig(input_filters=40, output_filters=80, kernel_size=3, num_repeat=3, expand_ratio=6, strides=(2, 2), se_ratio=0.25, id_skip=True, fused_conv=False, conv_type='depthwise'), BlockConfig(input_filters=80, output_filters=112, kernel_size=5, num_repeat=3, expand_ratio=6, strides=(1, 1), se_ratio=0.25, id_skip=True, fused_conv=False, conv_type='depthwise'), BlockConfig(input_filters=112, output_filters=192, kernel_size=5, num_repeat=4, expand_ratio=6, strides=(2, 2), se_ratio=0.25, id_skip=True, fused_conv=False, conv_type='depthwise'), BlockConfig(input_filters=192, output_filters=320, kernel_size=3, num_repeat=1, expand_ratio=6, strides=(1, 1), se_ratio=0.25, id_skip=True, fused_conv=False, conv_type='depthwise')), stem_base_filters=32, top_base_filters=1280, activation='simple_swish', batch_norm='default', bn_momentum=0.99, bn_epsilon=0.001, weight_decay=5e-06, drop_connect_rate=0.2, depth_divisor=8, min_depth=None, use_se=True, input_channels=3, num_classes=1000, model_name='efficientnet', rescale_input=False, data_format='channels_last', dtype='float32')\n",
      "I0227 13:20:41.124285 11712 ssd_efficientnet_bifpn_feature_extractor.py:145] EfficientDet EfficientNet backbone version: efficientnet-b6\n",
      "I0227 13:20:41.124285 11712 ssd_efficientnet_bifpn_feature_extractor.py:147] EfficientDet BiFPN num filters: 384\n",
      "I0227 13:20:41.124285 11712 ssd_efficientnet_bifpn_feature_extractor.py:148] EfficientDet BiFPN num iterations: 8\n",
      "I0227 13:20:41.126280 11712 efficientnet_model.py:144] round_filter input=32 output=56\n",
      "I0227 13:20:41.140243 11712 efficientnet_model.py:144] round_filter input=32 output=56\n",
      "I0227 13:20:41.141241 11712 efficientnet_model.py:144] round_filter input=16 output=32\n",
      "I0227 13:20:41.310786 11712 efficientnet_model.py:144] round_filter input=16 output=32\n",
      "I0227 13:20:41.310786 11712 efficientnet_model.py:144] round_filter input=24 output=40\n",
      "I0227 13:20:41.676808 11712 efficientnet_model.py:144] round_filter input=24 output=40\n",
      "I0227 13:20:41.676808 11712 efficientnet_model.py:144] round_filter input=40 output=72\n",
      "I0227 13:20:42.056792 11712 efficientnet_model.py:144] round_filter input=40 output=72\n",
      "I0227 13:20:42.056792 11712 efficientnet_model.py:144] round_filter input=80 output=144\n",
      "I0227 13:20:42.547480 11712 efficientnet_model.py:144] round_filter input=80 output=144\n",
      "I0227 13:20:42.547480 11712 efficientnet_model.py:144] round_filter input=112 output=200\n",
      "I0227 13:20:43.028193 11712 efficientnet_model.py:144] round_filter input=112 output=200\n",
      "I0227 13:20:43.028193 11712 efficientnet_model.py:144] round_filter input=192 output=344\n",
      "I0227 13:20:43.825063 11712 efficientnet_model.py:144] round_filter input=192 output=344\n",
      "I0227 13:20:43.825063 11712 efficientnet_model.py:144] round_filter input=320 output=576\n",
      "I0227 13:20:43.998622 11712 efficientnet_model.py:144] round_filter input=1280 output=2304\n",
      "I0227 13:20:44.020543 11712 efficientnet_model.py:454] Building model efficientnet with params ModelConfig(width_coefficient=1.8, depth_coefficient=2.6, resolution=528, dropout_rate=0.5, blocks=(BlockConfig(input_filters=32, output_filters=16, kernel_size=3, num_repeat=1, expand_ratio=1, strides=(1, 1), se_ratio=0.25, id_skip=True, fused_conv=False, conv_type='depthwise'), BlockConfig(input_filters=16, output_filters=24, kernel_size=3, num_repeat=2, expand_ratio=6, strides=(2, 2), se_ratio=0.25, id_skip=True, fused_conv=False, conv_type='depthwise'), BlockConfig(input_filters=24, output_filters=40, kernel_size=5, num_repeat=2, expand_ratio=6, strides=(2, 2), se_ratio=0.25, id_skip=True, fused_conv=False, conv_type='depthwise'), BlockConfig(input_filters=40, output_filters=80, kernel_size=3, num_repeat=3, expand_ratio=6, strides=(2, 2), se_ratio=0.25, id_skip=True, fused_conv=False, conv_type='depthwise'), BlockConfig(input_filters=80, output_filters=112, kernel_size=5, num_repeat=3, expand_ratio=6, strides=(1, 1), se_ratio=0.25, id_skip=True, fused_conv=False, conv_type='depthwise'), BlockConfig(input_filters=112, output_filters=192, kernel_size=5, num_repeat=4, expand_ratio=6, strides=(2, 2), se_ratio=0.25, id_skip=True, fused_conv=False, conv_type='depthwise'), BlockConfig(input_filters=192, output_filters=320, kernel_size=3, num_repeat=1, expand_ratio=6, strides=(1, 1), se_ratio=0.25, id_skip=True, fused_conv=False, conv_type='depthwise')), stem_base_filters=32, top_base_filters=1280, activation='simple_swish', batch_norm='default', bn_momentum=0.99, bn_epsilon=0.001, weight_decay=5e-06, drop_connect_rate=0.2, depth_divisor=8, min_depth=None, use_se=True, input_channels=3, num_classes=1000, model_name='efficientnet', rescale_input=False, data_format='channels_last', dtype='float32')\n",
      "I0227 13:20:44.136234 11712 ssd_efficientnet_bifpn_feature_extractor.py:145] EfficientDet EfficientNet backbone version: efficientnet-b7\n",
      "I0227 13:20:44.136234 11712 ssd_efficientnet_bifpn_feature_extractor.py:147] EfficientDet BiFPN num filters: 384\n",
      "I0227 13:20:44.136234 11712 ssd_efficientnet_bifpn_feature_extractor.py:148] EfficientDet BiFPN num iterations: 8\n",
      "I0227 13:20:44.139224 11712 efficientnet_model.py:144] round_filter input=32 output=64\n",
      "I0227 13:20:44.154186 11712 efficientnet_model.py:144] round_filter input=32 output=64\n",
      "I0227 13:20:44.154186 11712 efficientnet_model.py:144] round_filter input=16 output=32\n",
      "I0227 13:20:44.345695 11712 efficientnet_model.py:144] round_filter input=16 output=32\n",
      "I0227 13:20:44.345695 11712 efficientnet_model.py:144] round_filter input=24 output=48\n",
      "I0227 13:20:44.779513 11712 efficientnet_model.py:144] round_filter input=24 output=48\n",
      "I0227 13:20:44.779513 11712 efficientnet_model.py:144] round_filter input=40 output=80\n",
      "I0227 13:20:45.230314 11712 efficientnet_model.py:144] round_filter input=40 output=80\n",
      "I0227 13:20:45.230314 11712 efficientnet_model.py:144] round_filter input=80 output=160\n",
      "I0227 13:20:45.810755 11712 efficientnet_model.py:144] round_filter input=80 output=160\n",
      "I0227 13:20:45.810755 11712 efficientnet_model.py:144] round_filter input=112 output=224\n",
      "I0227 13:20:46.402174 11712 efficientnet_model.py:144] round_filter input=112 output=224\n",
      "I0227 13:20:46.402174 11712 efficientnet_model.py:144] round_filter input=192 output=384\n",
      "I0227 13:20:47.142223 11712 efficientnet_model.py:144] round_filter input=192 output=384\n",
      "I0227 13:20:47.142223 11712 efficientnet_model.py:144] round_filter input=320 output=640\n",
      "I0227 13:20:47.547113 11712 efficientnet_model.py:144] round_filter input=1280 output=2560\n",
      "I0227 13:20:47.620919 11712 efficientnet_model.py:454] Building model efficientnet with params ModelConfig(width_coefficient=2.0, depth_coefficient=3.1, resolution=600, dropout_rate=0.5, blocks=(BlockConfig(input_filters=32, output_filters=16, kernel_size=3, num_repeat=1, expand_ratio=1, strides=(1, 1), se_ratio=0.25, id_skip=True, fused_conv=False, conv_type='depthwise'), BlockConfig(input_filters=16, output_filters=24, kernel_size=3, num_repeat=2, expand_ratio=6, strides=(2, 2), se_ratio=0.25, id_skip=True, fused_conv=False, conv_type='depthwise'), BlockConfig(input_filters=24, output_filters=40, kernel_size=5, num_repeat=2, expand_ratio=6, strides=(2, 2), se_ratio=0.25, id_skip=True, fused_conv=False, conv_type='depthwise'), BlockConfig(input_filters=40, output_filters=80, kernel_size=3, num_repeat=3, expand_ratio=6, strides=(2, 2), se_ratio=0.25, id_skip=True, fused_conv=False, conv_type='depthwise'), BlockConfig(input_filters=80, output_filters=112, kernel_size=5, num_repeat=3, expand_ratio=6, strides=(1, 1), se_ratio=0.25, id_skip=True, fused_conv=False, conv_type='depthwise'), BlockConfig(input_filters=112, output_filters=192, kernel_size=5, num_repeat=4, expand_ratio=6, strides=(2, 2), se_ratio=0.25, id_skip=True, fused_conv=False, conv_type='depthwise'), BlockConfig(input_filters=192, output_filters=320, kernel_size=3, num_repeat=1, expand_ratio=6, strides=(1, 1), se_ratio=0.25, id_skip=True, fused_conv=False, conv_type='depthwise')), stem_base_filters=32, top_base_filters=1280, activation='simple_swish', batch_norm='default', bn_momentum=0.99, bn_epsilon=0.001, weight_decay=5e-06, drop_connect_rate=0.2, depth_divisor=8, min_depth=None, use_se=True, input_channels=3, num_classes=1000, model_name='efficientnet', rescale_input=False, data_format='channels_last', dtype='float32')\n",
      "INFO:tensorflow:time(__main__.ModelBuilderTF2Test.test_create_ssd_models_from_config): 16.6s\n",
      "I0227 13:20:47.728628 11712 test_util.py:2373] time(__main__.ModelBuilderTF2Test.test_create_ssd_models_from_config): 16.6s\n",
      "[       OK ] ModelBuilderTF2Test.test_create_ssd_models_from_config\n",
      "[ RUN      ] ModelBuilderTF2Test.test_invalid_faster_rcnn_batchnorm_update\n",
      "INFO:tensorflow:time(__main__.ModelBuilderTF2Test.test_invalid_faster_rcnn_batchnorm_update): 0.0s\n",
      "I0227 13:20:47.733615 11712 test_util.py:2373] time(__main__.ModelBuilderTF2Test.test_invalid_faster_rcnn_batchnorm_update): 0.0s\n",
      "[       OK ] ModelBuilderTF2Test.test_invalid_faster_rcnn_batchnorm_update\n",
      "[ RUN      ] ModelBuilderTF2Test.test_invalid_first_stage_nms_iou_threshold\n",
      "INFO:tensorflow:time(__main__.ModelBuilderTF2Test.test_invalid_first_stage_nms_iou_threshold): 0.0s\n",
      "I0227 13:20:47.734613 11712 test_util.py:2373] time(__main__.ModelBuilderTF2Test.test_invalid_first_stage_nms_iou_threshold): 0.0s\n",
      "[       OK ] ModelBuilderTF2Test.test_invalid_first_stage_nms_iou_threshold\n",
      "[ RUN      ] ModelBuilderTF2Test.test_invalid_model_config_proto\n",
      "INFO:tensorflow:time(__main__.ModelBuilderTF2Test.test_invalid_model_config_proto): 0.0s\n",
      "I0227 13:20:47.735609 11712 test_util.py:2373] time(__main__.ModelBuilderTF2Test.test_invalid_model_config_proto): 0.0s\n",
      "[       OK ] ModelBuilderTF2Test.test_invalid_model_config_proto\n",
      "[ RUN      ] ModelBuilderTF2Test.test_invalid_second_stage_batch_size\n",
      "INFO:tensorflow:time(__main__.ModelBuilderTF2Test.test_invalid_second_stage_batch_size): 0.0s\n",
      "I0227 13:20:47.736607 11712 test_util.py:2373] time(__main__.ModelBuilderTF2Test.test_invalid_second_stage_batch_size): 0.0s\n",
      "[       OK ] ModelBuilderTF2Test.test_invalid_second_stage_batch_size\n",
      "[ RUN      ] ModelBuilderTF2Test.test_session\n",
      "[  SKIPPED ] ModelBuilderTF2Test.test_session\n",
      "[ RUN      ] ModelBuilderTF2Test.test_unknown_faster_rcnn_feature_extractor\n",
      "INFO:tensorflow:time(__main__.ModelBuilderTF2Test.test_unknown_faster_rcnn_feature_extractor): 0.0s\n",
      "I0227 13:20:47.737604 11712 test_util.py:2373] time(__main__.ModelBuilderTF2Test.test_unknown_faster_rcnn_feature_extractor): 0.0s\n",
      "[       OK ] ModelBuilderTF2Test.test_unknown_faster_rcnn_feature_extractor\n",
      "[ RUN      ] ModelBuilderTF2Test.test_unknown_meta_architecture\n",
      "INFO:tensorflow:time(__main__.ModelBuilderTF2Test.test_unknown_meta_architecture): 0.0s\n",
      "I0227 13:20:47.737604 11712 test_util.py:2373] time(__main__.ModelBuilderTF2Test.test_unknown_meta_architecture): 0.0s\n",
      "[       OK ] ModelBuilderTF2Test.test_unknown_meta_architecture\n",
      "[ RUN      ] ModelBuilderTF2Test.test_unknown_ssd_feature_extractor\n",
      "INFO:tensorflow:time(__main__.ModelBuilderTF2Test.test_unknown_ssd_feature_extractor): 0.0s\n",
      "I0227 13:20:47.738602 11712 test_util.py:2373] time(__main__.ModelBuilderTF2Test.test_unknown_ssd_feature_extractor): 0.0s\n",
      "[       OK ] ModelBuilderTF2Test.test_unknown_ssd_feature_extractor\n",
      "----------------------------------------------------------------------\n",
      "Ran 24 tests in 22.096s\n",
      "\n",
      "OK (skipped=1)\n"
     ]
    }
   ],
   "source": [
    "if os.name =='posix':\n",
    "    !cp {os.path.join(paths['PRETRAINED_MODEL_PATH'], PRETRAINED_MODEL_NAME, 'pipeline.config')} {os.path.join(paths['CHECKPOINT_PATH'])}\n",
    "if os.name == 'nt':\n",
    "    !copy {os.path.join(paths['PRETRAINED_MODEL_PATH'], PRETRAINED_MODEL_NAME, 'pipeline.config')} {os.path.join(paths['CHECKPOINT_PATH'])}"
   ]
  },
  {
   "cell_type": "markdown",
   "metadata": {
    "id": "Ga8gpNslpfDF"
   },
   "source": [
    "# 5. Update Config For Transfer Learning"
   ]
  },
  {
   "cell_type": "code",
   "execution_count": 33,
   "metadata": {
    "id": "Z9hRrO_ppfDF"
   },
   "outputs": [],
   "source": [
    "import tensorflow as tf\n",
    "from object_detection.utils import config_util\n",
    "from object_detection.protos import pipeline_pb2\n",
    "from google.protobuf import text_format"
   ]
  },
  {
   "cell_type": "code",
   "execution_count": 34,
   "metadata": {
    "id": "c2A0mn4ipfDF"
   },
   "outputs": [],
   "source": [
    "config = config_util.get_configs_from_pipeline_file(files['PIPELINE_CONFIG'])"
   ]
  },
  {
   "cell_type": "code",
   "execution_count": 35,
   "metadata": {
    "colab": {
     "base_uri": "https://localhost:8080/"
    },
    "id": "uQA13-afpfDF",
    "outputId": "907496a4-a39d-4b13-8c2c-e5978ecb1f10"
   },
   "outputs": [
    {
     "data": {
      "text/plain": [
       "{'model': ssd {\n",
       "   num_classes: 90\n",
       "   image_resizer {\n",
       "     fixed_shape_resizer {\n",
       "       height: 320\n",
       "       width: 320\n",
       "     }\n",
       "   }\n",
       "   feature_extractor {\n",
       "     type: \"ssd_mobilenet_v2_fpn_keras\"\n",
       "     depth_multiplier: 1.0\n",
       "     min_depth: 16\n",
       "     conv_hyperparams {\n",
       "       regularizer {\n",
       "         l2_regularizer {\n",
       "           weight: 3.9999998989515007e-05\n",
       "         }\n",
       "       }\n",
       "       initializer {\n",
       "         random_normal_initializer {\n",
       "           mean: 0.0\n",
       "           stddev: 0.009999999776482582\n",
       "         }\n",
       "       }\n",
       "       activation: RELU_6\n",
       "       batch_norm {\n",
       "         decay: 0.996999979019165\n",
       "         scale: true\n",
       "         epsilon: 0.0010000000474974513\n",
       "       }\n",
       "     }\n",
       "     use_depthwise: true\n",
       "     override_base_feature_extractor_hyperparams: true\n",
       "     fpn {\n",
       "       min_level: 3\n",
       "       max_level: 7\n",
       "       additional_layer_depth: 128\n",
       "     }\n",
       "   }\n",
       "   box_coder {\n",
       "     faster_rcnn_box_coder {\n",
       "       y_scale: 10.0\n",
       "       x_scale: 10.0\n",
       "       height_scale: 5.0\n",
       "       width_scale: 5.0\n",
       "     }\n",
       "   }\n",
       "   matcher {\n",
       "     argmax_matcher {\n",
       "       matched_threshold: 0.5\n",
       "       unmatched_threshold: 0.5\n",
       "       ignore_thresholds: false\n",
       "       negatives_lower_than_unmatched: true\n",
       "       force_match_for_each_row: true\n",
       "       use_matmul_gather: true\n",
       "     }\n",
       "   }\n",
       "   similarity_calculator {\n",
       "     iou_similarity {\n",
       "     }\n",
       "   }\n",
       "   box_predictor {\n",
       "     weight_shared_convolutional_box_predictor {\n",
       "       conv_hyperparams {\n",
       "         regularizer {\n",
       "           l2_regularizer {\n",
       "             weight: 3.9999998989515007e-05\n",
       "           }\n",
       "         }\n",
       "         initializer {\n",
       "           random_normal_initializer {\n",
       "             mean: 0.0\n",
       "             stddev: 0.009999999776482582\n",
       "           }\n",
       "         }\n",
       "         activation: RELU_6\n",
       "         batch_norm {\n",
       "           decay: 0.996999979019165\n",
       "           scale: true\n",
       "           epsilon: 0.0010000000474974513\n",
       "         }\n",
       "       }\n",
       "       depth: 128\n",
       "       num_layers_before_predictor: 4\n",
       "       kernel_size: 3\n",
       "       class_prediction_bias_init: -4.599999904632568\n",
       "       share_prediction_tower: true\n",
       "       use_depthwise: true\n",
       "     }\n",
       "   }\n",
       "   anchor_generator {\n",
       "     multiscale_anchor_generator {\n",
       "       min_level: 3\n",
       "       max_level: 7\n",
       "       anchor_scale: 4.0\n",
       "       aspect_ratios: 1.0\n",
       "       aspect_ratios: 2.0\n",
       "       aspect_ratios: 0.5\n",
       "       scales_per_octave: 2\n",
       "     }\n",
       "   }\n",
       "   post_processing {\n",
       "     batch_non_max_suppression {\n",
       "       score_threshold: 9.99999993922529e-09\n",
       "       iou_threshold: 0.6000000238418579\n",
       "       max_detections_per_class: 100\n",
       "       max_total_detections: 100\n",
       "       use_static_shapes: false\n",
       "     }\n",
       "     score_converter: SIGMOID\n",
       "   }\n",
       "   normalize_loss_by_num_matches: true\n",
       "   loss {\n",
       "     localization_loss {\n",
       "       weighted_smooth_l1 {\n",
       "       }\n",
       "     }\n",
       "     classification_loss {\n",
       "       weighted_sigmoid_focal {\n",
       "         gamma: 2.0\n",
       "         alpha: 0.25\n",
       "       }\n",
       "     }\n",
       "     classification_weight: 1.0\n",
       "     localization_weight: 1.0\n",
       "   }\n",
       "   encode_background_as_zeros: true\n",
       "   normalize_loc_loss_by_codesize: true\n",
       "   inplace_batchnorm_update: true\n",
       "   freeze_batchnorm: false\n",
       " },\n",
       " 'train_config': batch_size: 128\n",
       " data_augmentation_options {\n",
       "   random_horizontal_flip {\n",
       "   }\n",
       " }\n",
       " data_augmentation_options {\n",
       "   random_crop_image {\n",
       "     min_object_covered: 0.0\n",
       "     min_aspect_ratio: 0.75\n",
       "     max_aspect_ratio: 3.0\n",
       "     min_area: 0.75\n",
       "     max_area: 1.0\n",
       "     overlap_thresh: 0.0\n",
       "   }\n",
       " }\n",
       " sync_replicas: true\n",
       " optimizer {\n",
       "   momentum_optimizer {\n",
       "     learning_rate {\n",
       "       cosine_decay_learning_rate {\n",
       "         learning_rate_base: 0.07999999821186066\n",
       "         total_steps: 50000\n",
       "         warmup_learning_rate: 0.026666000485420227\n",
       "         warmup_steps: 1000\n",
       "       }\n",
       "     }\n",
       "     momentum_optimizer_value: 0.8999999761581421\n",
       "   }\n",
       "   use_moving_average: false\n",
       " }\n",
       " fine_tune_checkpoint: \"PATH_TO_BE_CONFIGURED\"\n",
       " num_steps: 50000\n",
       " startup_delay_steps: 0.0\n",
       " replicas_to_aggregate: 8\n",
       " max_number_of_boxes: 100\n",
       " unpad_groundtruth_tensors: false\n",
       " fine_tune_checkpoint_type: \"classification\"\n",
       " fine_tune_checkpoint_version: V2,\n",
       " 'train_input_config': label_map_path: \"PATH_TO_BE_CONFIGURED\"\n",
       " tf_record_input_reader {\n",
       "   input_path: \"PATH_TO_BE_CONFIGURED\"\n",
       " },\n",
       " 'eval_config': metrics_set: \"coco_detection_metrics\"\n",
       " use_moving_averages: false,\n",
       " 'eval_input_configs': [label_map_path: \"PATH_TO_BE_CONFIGURED\"\n",
       " shuffle: false\n",
       " num_epochs: 1\n",
       " tf_record_input_reader {\n",
       "   input_path: \"PATH_TO_BE_CONFIGURED\"\n",
       " }\n",
       " ],\n",
       " 'eval_input_config': label_map_path: \"PATH_TO_BE_CONFIGURED\"\n",
       " shuffle: false\n",
       " num_epochs: 1\n",
       " tf_record_input_reader {\n",
       "   input_path: \"PATH_TO_BE_CONFIGURED\"\n",
       " }}"
      ]
     },
     "execution_count": 35,
     "metadata": {},
     "output_type": "execute_result"
    }
   ],
   "source": [
    "config"
   ]
  },
  {
   "cell_type": "code",
   "execution_count": 36,
   "metadata": {
    "id": "9vK5lotDpfDF"
   },
   "outputs": [],
   "source": [
    "pipeline_config = pipeline_pb2.TrainEvalPipelineConfig()\n",
    "with tf.io.gfile.GFile(files['PIPELINE_CONFIG'], \"r\") as f:                                                                                                                                                                                                                     \n",
    "    proto_str = f.read()                                                                                                                                                                                                                                          \n",
    "    text_format.Merge(proto_str, pipeline_config)  "
   ]
  },
  {
   "cell_type": "code",
   "execution_count": 37,
   "metadata": {
    "id": "rP43Ph0JpfDG"
   },
   "outputs": [],
   "source": [
    "pipeline_config.model.ssd.num_classes = len(labels)\n",
    "pipeline_config.train_config.batch_size = 4\n",
    "pipeline_config.train_config.fine_tune_checkpoint = os.path.join(paths['PRETRAINED_MODEL_PATH'], PRETRAINED_MODEL_NAME, 'checkpoint', 'ckpt-0')\n",
    "pipeline_config.train_config.fine_tune_checkpoint_type = \"detection\"\n",
    "pipeline_config.train_input_reader.label_map_path= files['LABELMAP']\n",
    "pipeline_config.train_input_reader.tf_record_input_reader.input_path[:] = [os.path.join(paths['ANNOTATION_PATH'], 'train.record')]\n",
    "pipeline_config.eval_input_reader[0].label_map_path = files['LABELMAP']\n",
    "pipeline_config.eval_input_reader[0].tf_record_input_reader.input_path[:] = [os.path.join(paths['ANNOTATION_PATH'], 'test.record')]"
   ]
  },
  {
   "cell_type": "code",
   "execution_count": 38,
   "metadata": {
    "id": "oJvfgwWqpfDG"
   },
   "outputs": [],
   "source": [
    "config_text = text_format.MessageToString(pipeline_config)                                                                                                                                                                                                        \n",
    "with tf.io.gfile.GFile(files['PIPELINE_CONFIG'], \"wb\") as f:                                                                                                                                                                                                                     \n",
    "    f.write(config_text)   "
   ]
  },
  {
   "cell_type": "markdown",
   "metadata": {
    "id": "Zr3ON7xMpfDG"
   },
   "source": [
    "# 6. Train the model"
   ]
  },
  {
   "cell_type": "code",
   "execution_count": 19,
   "metadata": {
    "id": "B-Y2UQmQpfDG"
   },
   "outputs": [],
   "source": [
    "TRAINING_SCRIPT = os.path.join(paths['APIMODEL_PATH'], 'research', 'object_detection', 'model_main_tf2.py')"
   ]
  },
  {
   "cell_type": "code",
   "execution_count": 21,
   "metadata": {
    "id": "jMP2XDfQpfDH"
   },
   "outputs": [],
   "source": [
    "command = \"python {} --model_dir={} --pipeline_config_path={} --num_train_steps=2000\".format(TRAINING_SCRIPT, paths['CHECKPOINT_PATH'],files['PIPELINE_CONFIG'])"
   ]
  },
  {
   "cell_type": "code",
   "execution_count": 31,
   "metadata": {
    "colab": {
     "base_uri": "https://localhost:8080/"
    },
    "id": "A4OXXi-ApfDH",
    "outputId": "117a0e83-012b-466e-b7a6-ccaa349ac5ab"
   },
   "outputs": [
    {
     "name": "stdout",
     "output_type": "stream",
     "text": [
      "python Tensorflow\\models\\research\\object_detection\\model_main_tf2.py --model_dir=Tensorflow\\workspace\\models\\my_ssd_mobnet --pipeline_config_path=Tensorflow\\workspace\\models\\my_ssd_mobnet\\pipeline.config --num_train_steps=2000\n"
     ]
    }
   ],
   "source": [
    "print(command)"
   ]
  },
  {
   "cell_type": "code",
   "execution_count": 32,
   "metadata": {
    "colab": {
     "base_uri": "https://localhost:8080/"
    },
    "id": "i3ZsJR-qpfDH",
    "outputId": "cabec5e1-45e6-4f2f-d9cf-297d9c1d0225",
    "scrolled": true
   },
   "outputs": [
    {
     "name": "stderr",
     "output_type": "stream",
     "text": [
      "2022-02-27 12:44:46.859722: I tensorflow/core/platform/cpu_feature_guard.cc:151] This TensorFlow binary is optimized with oneAPI Deep Neural Network Library (oneDNN) to use the following CPU instructions in performance-critical operations:  AVX AVX2\n",
      "To enable them in other operations, rebuild TensorFlow with the appropriate compiler flags.\n",
      "2022-02-27 12:44:47.935966: I tensorflow/core/common_runtime/gpu/gpu_device.cc:1525] Created device /job:localhost/replica:0/task:0/device:GPU:0 with 5969 MB memory:  -> device: 0, name: NVIDIA GeForce RTX 2080, pci bus id: 0000:01:00.0, compute capability: 7.5\n",
      "INFO:tensorflow:Using MirroredStrategy with devices ('/job:localhost/replica:0/task:0/device:GPU:0',)\n",
      "I0227 12:44:48.128096  2784 mirrored_strategy.py:374] Using MirroredStrategy with devices ('/job:localhost/replica:0/task:0/device:GPU:0',)\n",
      "INFO:tensorflow:Maybe overwriting train_steps: 2000\n",
      "I0227 12:44:48.135077  2784 config_util.py:552] Maybe overwriting train_steps: 2000\n",
      "INFO:tensorflow:Maybe overwriting use_bfloat16: False\n",
      "I0227 12:44:48.136074  2784 config_util.py:552] Maybe overwriting use_bfloat16: False\n",
      "WARNING:tensorflow:From C:\\Users\\abdullah\\Desktop\\Github\\CPIT499---Group-12\\Abdullah_Test 3\\TFODCourse\\tfod\\lib\\site-packages\\object_detection-0.1-py3.9.egg\\object_detection\\model_lib_v2.py:563: StrategyBase.experimental_distribute_datasets_from_function (from tensorflow.python.distribute.distribute_lib) is deprecated and will be removed in a future version.\n",
      "Instructions for updating:\n",
      "rename to distribute_datasets_from_function\n",
      "W0227 12:44:48.218876  2784 deprecation.py:337] From C:\\Users\\abdullah\\Desktop\\Github\\CPIT499---Group-12\\Abdullah_Test 3\\TFODCourse\\tfod\\lib\\site-packages\\object_detection-0.1-py3.9.egg\\object_detection\\model_lib_v2.py:563: StrategyBase.experimental_distribute_datasets_from_function (from tensorflow.python.distribute.distribute_lib) is deprecated and will be removed in a future version.\n",
      "Instructions for updating:\n",
      "rename to distribute_datasets_from_function\n",
      "INFO:tensorflow:Reading unweighted datasets: ['Tensorflow\\\\workspace\\\\annotations\\\\train.record']\n",
      "I0227 12:44:48.227829  2784 dataset_builder.py:163] Reading unweighted datasets: ['Tensorflow\\\\workspace\\\\annotations\\\\train.record']\n",
      "INFO:tensorflow:Reading record datasets for input file: ['Tensorflow\\\\workspace\\\\annotations\\\\train.record']\n",
      "I0227 12:44:48.227829  2784 dataset_builder.py:80] Reading record datasets for input file: ['Tensorflow\\\\workspace\\\\annotations\\\\train.record']\n",
      "INFO:tensorflow:Number of filenames to read: 1\n",
      "I0227 12:44:48.227829  2784 dataset_builder.py:81] Number of filenames to read: 1\n",
      "WARNING:tensorflow:num_readers has been reduced to 1 to match input file shards.\n",
      "W0227 12:44:48.227829  2784 dataset_builder.py:87] num_readers has been reduced to 1 to match input file shards.\n",
      "WARNING:tensorflow:From C:\\Users\\abdullah\\Desktop\\Github\\CPIT499---Group-12\\Abdullah_Test 3\\TFODCourse\\tfod\\lib\\site-packages\\object_detection-0.1-py3.9.egg\\object_detection\\builders\\dataset_builder.py:101: parallel_interleave (from tensorflow.python.data.experimental.ops.interleave_ops) is deprecated and will be removed in a future version.\n",
      "Instructions for updating:\n",
      "Use `tf.data.Dataset.interleave(map_func, cycle_length, block_length, num_parallel_calls=tf.data.AUTOTUNE)` instead. If sloppy execution is desired, use `tf.data.Options.deterministic`.\n",
      "W0227 12:44:48.234809  2784 deprecation.py:337] From C:\\Users\\abdullah\\Desktop\\Github\\CPIT499---Group-12\\Abdullah_Test 3\\TFODCourse\\tfod\\lib\\site-packages\\object_detection-0.1-py3.9.egg\\object_detection\\builders\\dataset_builder.py:101: parallel_interleave (from tensorflow.python.data.experimental.ops.interleave_ops) is deprecated and will be removed in a future version.\n",
      "Instructions for updating:\n",
      "Use `tf.data.Dataset.interleave(map_func, cycle_length, block_length, num_parallel_calls=tf.data.AUTOTUNE)` instead. If sloppy execution is desired, use `tf.data.Options.deterministic`.\n",
      "WARNING:tensorflow:From C:\\Users\\abdullah\\Desktop\\Github\\CPIT499---Group-12\\Abdullah_Test 3\\TFODCourse\\tfod\\lib\\site-packages\\object_detection-0.1-py3.9.egg\\object_detection\\builders\\dataset_builder.py:236: DatasetV1.map_with_legacy_function (from tensorflow.python.data.ops.dataset_ops) is deprecated and will be removed in a future version.\n",
      "Instructions for updating:\n",
      "Use `tf.data.Dataset.map()\n",
      "W0227 12:44:48.270797  2784 deprecation.py:337] From C:\\Users\\abdullah\\Desktop\\Github\\CPIT499---Group-12\\Abdullah_Test 3\\TFODCourse\\tfod\\lib\\site-packages\\object_detection-0.1-py3.9.egg\\object_detection\\builders\\dataset_builder.py:236: DatasetV1.map_with_legacy_function (from tensorflow.python.data.ops.dataset_ops) is deprecated and will be removed in a future version.\n",
      "Instructions for updating:\n",
      "Use `tf.data.Dataset.map()\n",
      "WARNING:tensorflow:From C:\\Users\\abdullah\\Desktop\\Github\\CPIT499---Group-12\\Abdullah_Test 3\\TFODCourse\\tfod\\lib\\site-packages\\tensorflow\\python\\util\\dispatch.py:1082: sparse_to_dense (from tensorflow.python.ops.sparse_ops) is deprecated and will be removed in a future version.\n",
      "Instructions for updating:\n",
      "Create a `tf.sparse.SparseTensor` and use `tf.sparse.to_dense` instead.\n",
      "W0227 12:44:53.512679  2784 deprecation.py:337] From C:\\Users\\abdullah\\Desktop\\Github\\CPIT499---Group-12\\Abdullah_Test 3\\TFODCourse\\tfod\\lib\\site-packages\\tensorflow\\python\\util\\dispatch.py:1082: sparse_to_dense (from tensorflow.python.ops.sparse_ops) is deprecated and will be removed in a future version.\n",
      "Instructions for updating:\n",
      "Create a `tf.sparse.SparseTensor` and use `tf.sparse.to_dense` instead.\n",
      "WARNING:tensorflow:From C:\\Users\\abdullah\\Desktop\\Github\\CPIT499---Group-12\\Abdullah_Test 3\\TFODCourse\\tfod\\lib\\site-packages\\tensorflow\\python\\util\\dispatch.py:1082: sample_distorted_bounding_box (from tensorflow.python.ops.image_ops_impl) is deprecated and will be removed in a future version.\n",
      "Instructions for updating:\n",
      "`seed2` arg is deprecated.Use sample_distorted_bounding_box_v2 instead.\n",
      "W0227 12:44:55.845313  2784 deprecation.py:337] From C:\\Users\\abdullah\\Desktop\\Github\\CPIT499---Group-12\\Abdullah_Test 3\\TFODCourse\\tfod\\lib\\site-packages\\tensorflow\\python\\util\\dispatch.py:1082: sample_distorted_bounding_box (from tensorflow.python.ops.image_ops_impl) is deprecated and will be removed in a future version.\n",
      "Instructions for updating:\n",
      "`seed2` arg is deprecated.Use sample_distorted_bounding_box_v2 instead.\n",
      "WARNING:tensorflow:From C:\\Users\\abdullah\\Desktop\\Github\\CPIT499---Group-12\\Abdullah_Test 3\\TFODCourse\\tfod\\lib\\site-packages\\tensorflow\\python\\util\\dispatch.py:1082: to_float (from tensorflow.python.ops.math_ops) is deprecated and will be removed in a future version.\n",
      "Instructions for updating:\n",
      "Use `tf.cast` instead.\n",
      "W0227 12:44:57.113429  2784 deprecation.py:337] From C:\\Users\\abdullah\\Desktop\\Github\\CPIT499---Group-12\\Abdullah_Test 3\\TFODCourse\\tfod\\lib\\site-packages\\tensorflow\\python\\util\\dispatch.py:1082: to_float (from tensorflow.python.ops.math_ops) is deprecated and will be removed in a future version.\n",
      "Instructions for updating:\n",
      "Use `tf.cast` instead.\n",
      "C:\\Users\\abdullah\\Desktop\\Github\\CPIT499---Group-12\\Abdullah_Test 3\\TFODCourse\\tfod\\lib\\site-packages\\keras-2.8.0-py3.9.egg\\keras\\backend.py:450: UserWarning: `tf.keras.backend.set_learning_phase` is deprecated and will be removed after 2020-10-11. To update it, simply pass a True/False value to the `training` argument of the `__call__` method of your layer or model.\n",
      "  warnings.warn('`tf.keras.backend.set_learning_phase` is deprecated and '\n",
      "2022-02-27 12:45:14.385217: I tensorflow/stream_executor/cuda/cuda_dnn.cc:368] Loaded cuDNN version 8100\n",
      "INFO:tensorflow:Reduce to /job:localhost/replica:0/task:0/device:CPU:0 then broadcast to ('/job:localhost/replica:0/task:0/device:CPU:0',).\n",
      "I0227 12:45:19.716762  2784 cross_device_ops.py:616] Reduce to /job:localhost/replica:0/task:0/device:CPU:0 then broadcast to ('/job:localhost/replica:0/task:0/device:CPU:0',).\n",
      "INFO:tensorflow:Reduce to /job:localhost/replica:0/task:0/device:CPU:0 then broadcast to ('/job:localhost/replica:0/task:0/device:CPU:0',).\n",
      "I0227 12:45:19.719625  2784 cross_device_ops.py:616] Reduce to /job:localhost/replica:0/task:0/device:CPU:0 then broadcast to ('/job:localhost/replica:0/task:0/device:CPU:0',).\n",
      "INFO:tensorflow:Reduce to /job:localhost/replica:0/task:0/device:CPU:0 then broadcast to ('/job:localhost/replica:0/task:0/device:CPU:0',).\n",
      "I0227 12:45:19.721622  2784 cross_device_ops.py:616] Reduce to /job:localhost/replica:0/task:0/device:CPU:0 then broadcast to ('/job:localhost/replica:0/task:0/device:CPU:0',).\n",
      "INFO:tensorflow:Reduce to /job:localhost/replica:0/task:0/device:CPU:0 then broadcast to ('/job:localhost/replica:0/task:0/device:CPU:0',).\n",
      "I0227 12:45:19.722640  2784 cross_device_ops.py:616] Reduce to /job:localhost/replica:0/task:0/device:CPU:0 then broadcast to ('/job:localhost/replica:0/task:0/device:CPU:0',).\n",
      "INFO:tensorflow:Reduce to /job:localhost/replica:0/task:0/device:CPU:0 then broadcast to ('/job:localhost/replica:0/task:0/device:CPU:0',).\n",
      "I0227 12:45:19.724614  2784 cross_device_ops.py:616] Reduce to /job:localhost/replica:0/task:0/device:CPU:0 then broadcast to ('/job:localhost/replica:0/task:0/device:CPU:0',).\n",
      "INFO:tensorflow:Reduce to /job:localhost/replica:0/task:0/device:CPU:0 then broadcast to ('/job:localhost/replica:0/task:0/device:CPU:0',).\n",
      "I0227 12:45:19.724614  2784 cross_device_ops.py:616] Reduce to /job:localhost/replica:0/task:0/device:CPU:0 then broadcast to ('/job:localhost/replica:0/task:0/device:CPU:0',).\n",
      "INFO:tensorflow:Reduce to /job:localhost/replica:0/task:0/device:CPU:0 then broadcast to ('/job:localhost/replica:0/task:0/device:CPU:0',).\n",
      "I0227 12:45:19.727606  2784 cross_device_ops.py:616] Reduce to /job:localhost/replica:0/task:0/device:CPU:0 then broadcast to ('/job:localhost/replica:0/task:0/device:CPU:0',).\n",
      "INFO:tensorflow:Reduce to /job:localhost/replica:0/task:0/device:CPU:0 then broadcast to ('/job:localhost/replica:0/task:0/device:CPU:0',).\n",
      "I0227 12:45:19.727606  2784 cross_device_ops.py:616] Reduce to /job:localhost/replica:0/task:0/device:CPU:0 then broadcast to ('/job:localhost/replica:0/task:0/device:CPU:0',).\n",
      "INFO:tensorflow:Reduce to /job:localhost/replica:0/task:0/device:CPU:0 then broadcast to ('/job:localhost/replica:0/task:0/device:CPU:0',).\n",
      "I0227 12:45:19.730598  2784 cross_device_ops.py:616] Reduce to /job:localhost/replica:0/task:0/device:CPU:0 then broadcast to ('/job:localhost/replica:0/task:0/device:CPU:0',).\n",
      "INFO:tensorflow:Reduce to /job:localhost/replica:0/task:0/device:CPU:0 then broadcast to ('/job:localhost/replica:0/task:0/device:CPU:0',).\n",
      "I0227 12:45:19.730598  2784 cross_device_ops.py:616] Reduce to /job:localhost/replica:0/task:0/device:CPU:0 then broadcast to ('/job:localhost/replica:0/task:0/device:CPU:0',).\n",
      "WARNING:tensorflow:From C:\\Users\\abdullah\\Desktop\\Github\\CPIT499---Group-12\\Abdullah_Test 3\\TFODCourse\\tfod\\lib\\site-packages\\tensorflow\\python\\util\\deprecation.py:616: calling map_fn_v2 (from tensorflow.python.ops.map_fn) with dtype is deprecated and will be removed in a future version.\n",
      "Instructions for updating:\n",
      "Use fn_output_signature instead\n",
      "W0227 12:45:20.385755  5820 deprecation.py:541] From C:\\Users\\abdullah\\Desktop\\Github\\CPIT499---Group-12\\Abdullah_Test 3\\TFODCourse\\tfod\\lib\\site-packages\\tensorflow\\python\\util\\deprecation.py:616: calling map_fn_v2 (from tensorflow.python.ops.map_fn) with dtype is deprecated and will be removed in a future version.\n",
      "Instructions for updating:\n",
      "Use fn_output_signature instead\n",
      "INFO:tensorflow:Step 100 per-step time 0.323s\n",
      "I0227 12:45:52.401326  2784 model_lib_v2.py:705] Step 100 per-step time 0.323s\n",
      "INFO:tensorflow:{'Loss/classification_loss': 0.24505329,\n",
      " 'Loss/localization_loss': 0.22322424,\n",
      " 'Loss/regularization_loss': 0.15406328,\n",
      " 'Loss/total_loss': 0.6223408,\n",
      " 'learning_rate': 0.0319994}\n",
      "I0227 12:45:52.401326  2784 model_lib_v2.py:708] {'Loss/classification_loss': 0.24505329,\n",
      " 'Loss/localization_loss': 0.22322424,\n",
      " 'Loss/regularization_loss': 0.15406328,\n",
      " 'Loss/total_loss': 0.6223408,\n",
      " 'learning_rate': 0.0319994}\n",
      "INFO:tensorflow:Step 200 per-step time 0.101s\n",
      "I0227 12:46:02.512826  2784 model_lib_v2.py:705] Step 200 per-step time 0.101s\n",
      "INFO:tensorflow:{'Loss/classification_loss': 0.15767445,\n",
      " 'Loss/localization_loss': 0.13804798,\n",
      " 'Loss/regularization_loss': 0.15399854,\n",
      " 'Loss/total_loss': 0.44972098,\n",
      " 'learning_rate': 0.0373328}\n",
      "I0227 12:46:02.512826  2784 model_lib_v2.py:708] {'Loss/classification_loss': 0.15767445,\n",
      " 'Loss/localization_loss': 0.13804798,\n",
      " 'Loss/regularization_loss': 0.15399854,\n",
      " 'Loss/total_loss': 0.44972098,\n",
      " 'learning_rate': 0.0373328}\n",
      "INFO:tensorflow:Step 300 per-step time 0.100s\n",
      "I0227 12:46:12.518085  2784 model_lib_v2.py:705] Step 300 per-step time 0.100s\n",
      "INFO:tensorflow:{'Loss/classification_loss': 0.08749317,\n",
      " 'Loss/localization_loss': 0.035176605,\n",
      " 'Loss/regularization_loss': 0.1536405,\n",
      " 'Loss/total_loss': 0.27631027,\n",
      " 'learning_rate': 0.0426662}\n",
      "I0227 12:46:12.518085  2784 model_lib_v2.py:708] {'Loss/classification_loss': 0.08749317,\n",
      " 'Loss/localization_loss': 0.035176605,\n",
      " 'Loss/regularization_loss': 0.1536405,\n",
      " 'Loss/total_loss': 0.27631027,\n",
      " 'learning_rate': 0.0426662}\n",
      "INFO:tensorflow:Step 400 per-step time 0.201s\n",
      "I0227 12:46:32.667250  2784 model_lib_v2.py:705] Step 400 per-step time 0.201s\n",
      "INFO:tensorflow:{'Loss/classification_loss': 0.0672836,\n",
      " 'Loss/localization_loss': 0.07102404,\n",
      " 'Loss/regularization_loss': 0.15321963,\n",
      " 'Loss/total_loss': 0.29152727,\n",
      " 'learning_rate': 0.047999598}\n",
      "I0227 12:46:32.669244  2784 model_lib_v2.py:708] {'Loss/classification_loss': 0.0672836,\n",
      " 'Loss/localization_loss': 0.07102404,\n",
      " 'Loss/regularization_loss': 0.15321963,\n",
      " 'Loss/total_loss': 0.29152727,\n",
      " 'learning_rate': 0.047999598}\n",
      "INFO:tensorflow:Step 500 per-step time 0.193s\n",
      "I0227 12:46:56.647147  2784 model_lib_v2.py:705] Step 500 per-step time 0.193s\n",
      "INFO:tensorflow:{'Loss/classification_loss': 0.08778266,\n",
      " 'Loss/localization_loss': 0.077069685,\n",
      " 'Loss/regularization_loss': 0.15281759,\n",
      " 'Loss/total_loss': 0.31766993,\n",
      " 'learning_rate': 0.053333}\n",
      "I0227 12:46:56.647147  2784 model_lib_v2.py:708] {'Loss/classification_loss': 0.08778266,\n",
      " 'Loss/localization_loss': 0.077069685,\n",
      " 'Loss/regularization_loss': 0.15281759,\n",
      " 'Loss/total_loss': 0.31766993,\n",
      " 'learning_rate': 0.053333}\n",
      "INFO:tensorflow:Step 600 per-step time 0.246s\n",
      "I0227 12:47:16.504936  2784 model_lib_v2.py:705] Step 600 per-step time 0.246s\n",
      "INFO:tensorflow:{'Loss/classification_loss': 0.08937532,\n",
      " 'Loss/localization_loss': 0.04022076,\n",
      " 'Loss/regularization_loss': 0.1523599,\n",
      " 'Loss/total_loss': 0.281956,\n",
      " 'learning_rate': 0.0586664}\n",
      "I0227 12:47:16.504936  2784 model_lib_v2.py:708] {'Loss/classification_loss': 0.08937532,\n",
      " 'Loss/localization_loss': 0.04022076,\n",
      " 'Loss/regularization_loss': 0.1523599,\n",
      " 'Loss/total_loss': 0.281956,\n",
      " 'learning_rate': 0.0586664}\n",
      "INFO:tensorflow:Step 700 per-step time 0.101s\n",
      "I0227 12:47:26.623571  2784 model_lib_v2.py:705] Step 700 per-step time 0.101s\n",
      "INFO:tensorflow:{'Loss/classification_loss': 0.057320926,\n",
      " 'Loss/localization_loss': 0.017939216,\n",
      " 'Loss/regularization_loss': 0.15176795,\n",
      " 'Loss/total_loss': 0.2270281,\n",
      " 'learning_rate': 0.0639998}\n",
      "I0227 12:47:26.623571  2784 model_lib_v2.py:708] {'Loss/classification_loss': 0.057320926,\n",
      " 'Loss/localization_loss': 0.017939216,\n",
      " 'Loss/regularization_loss': 0.15176795,\n",
      " 'Loss/total_loss': 0.2270281,\n",
      " 'learning_rate': 0.0639998}\n",
      "INFO:tensorflow:Step 800 per-step time 0.103s\n",
      "I0227 12:47:36.922631  2784 model_lib_v2.py:705] Step 800 per-step time 0.103s\n",
      "INFO:tensorflow:{'Loss/classification_loss': 0.06820507,\n",
      " 'Loss/localization_loss': 0.043870416,\n",
      " 'Loss/regularization_loss': 0.15113032,\n",
      " 'Loss/total_loss': 0.26320583,\n",
      " 'learning_rate': 0.069333196}\n",
      "I0227 12:47:36.922631  2784 model_lib_v2.py:708] {'Loss/classification_loss': 0.06820507,\n",
      " 'Loss/localization_loss': 0.043870416,\n",
      " 'Loss/regularization_loss': 0.15113032,\n",
      " 'Loss/total_loss': 0.26320583,\n",
      " 'learning_rate': 0.069333196}\n",
      "INFO:tensorflow:Step 900 per-step time 0.102s\n",
      "I0227 12:47:47.168169  2784 model_lib_v2.py:705] Step 900 per-step time 0.102s\n",
      "INFO:tensorflow:{'Loss/classification_loss': 0.08169842,\n",
      " 'Loss/localization_loss': 0.025354816,\n",
      " 'Loss/regularization_loss': 0.15045197,\n",
      " 'Loss/total_loss': 0.2575052,\n",
      " 'learning_rate': 0.074666604}\n",
      "I0227 12:47:47.169167  2784 model_lib_v2.py:708] {'Loss/classification_loss': 0.08169842,\n",
      " 'Loss/localization_loss': 0.025354816,\n",
      " 'Loss/regularization_loss': 0.15045197,\n",
      " 'Loss/total_loss': 0.2575052,\n",
      " 'learning_rate': 0.074666604}\n",
      "INFO:tensorflow:Step 1000 per-step time 0.119s\n",
      "I0227 12:47:59.083973  2784 model_lib_v2.py:705] Step 1000 per-step time 0.119s\n",
      "INFO:tensorflow:{'Loss/classification_loss': 0.040759467,\n",
      " 'Loss/localization_loss': 0.023828171,\n",
      " 'Loss/regularization_loss': 0.14970946,\n",
      " 'Loss/total_loss': 0.2142971,\n",
      " 'learning_rate': 0.08}\n",
      "I0227 12:47:59.083973  2784 model_lib_v2.py:708] {'Loss/classification_loss': 0.040759467,\n",
      " 'Loss/localization_loss': 0.023828171,\n",
      " 'Loss/regularization_loss': 0.14970946,\n",
      " 'Loss/total_loss': 0.2142971,\n",
      " 'learning_rate': 0.08}\n",
      "INFO:tensorflow:Step 1100 per-step time 0.116s\n",
      "I0227 12:48:10.697613  2784 model_lib_v2.py:705] Step 1100 per-step time 0.116s\n",
      "INFO:tensorflow:{'Loss/classification_loss': 0.08199928,\n",
      " 'Loss/localization_loss': 0.019772474,\n",
      " 'Loss/regularization_loss': 0.14903031,\n",
      " 'Loss/total_loss': 0.25080207,\n",
      " 'learning_rate': 0.07999918}\n",
      "I0227 12:48:10.697613  2784 model_lib_v2.py:708] {'Loss/classification_loss': 0.08199928,\n",
      " 'Loss/localization_loss': 0.019772474,\n",
      " 'Loss/regularization_loss': 0.14903031,\n",
      " 'Loss/total_loss': 0.25080207,\n",
      " 'learning_rate': 0.07999918}\n",
      "INFO:tensorflow:Step 1200 per-step time 0.111s\n",
      "I0227 12:48:21.837468  2784 model_lib_v2.py:705] Step 1200 per-step time 0.111s\n",
      "INFO:tensorflow:{'Loss/classification_loss': 0.07434814,\n",
      " 'Loss/localization_loss': 0.0329525,\n",
      " 'Loss/regularization_loss': 0.14826138,\n",
      " 'Loss/total_loss': 0.255562,\n",
      " 'learning_rate': 0.079996705}\n",
      "I0227 12:48:21.837468  2784 model_lib_v2.py:708] {'Loss/classification_loss': 0.07434814,\n",
      " 'Loss/localization_loss': 0.0329525,\n",
      " 'Loss/regularization_loss': 0.14826138,\n",
      " 'Loss/total_loss': 0.255562,\n",
      " 'learning_rate': 0.079996705}\n",
      "INFO:tensorflow:Step 1300 per-step time 0.110s\n",
      "I0227 12:48:32.875743  2784 model_lib_v2.py:705] Step 1300 per-step time 0.110s\n",
      "INFO:tensorflow:{'Loss/classification_loss': 0.062603444,\n",
      " 'Loss/localization_loss': 0.022722773,\n",
      " 'Loss/regularization_loss': 0.14745936,\n",
      " 'Loss/total_loss': 0.23278558,\n",
      " 'learning_rate': 0.0799926}\n",
      "I0227 12:48:32.876741  2784 model_lib_v2.py:708] {'Loss/classification_loss': 0.062603444,\n",
      " 'Loss/localization_loss': 0.022722773,\n",
      " 'Loss/regularization_loss': 0.14745936,\n",
      " 'Loss/total_loss': 0.23278558,\n",
      " 'learning_rate': 0.0799926}\n",
      "INFO:tensorflow:Step 1400 per-step time 0.110s\n",
      "I0227 12:48:43.850032  2784 model_lib_v2.py:705] Step 1400 per-step time 0.110s\n",
      "INFO:tensorflow:{'Loss/classification_loss': 0.049602754,\n",
      " 'Loss/localization_loss': 0.03221705,\n",
      " 'Loss/regularization_loss': 0.14667335,\n",
      " 'Loss/total_loss': 0.22849315,\n",
      " 'learning_rate': 0.07998685}\n",
      "I0227 12:48:43.850032  2784 model_lib_v2.py:708] {'Loss/classification_loss': 0.049602754,\n",
      " 'Loss/localization_loss': 0.03221705,\n",
      " 'Loss/regularization_loss': 0.14667335,\n",
      " 'Loss/total_loss': 0.22849315,\n",
      " 'learning_rate': 0.07998685}\n",
      "INFO:tensorflow:Step 1500 per-step time 0.109s\n",
      "I0227 12:48:54.760051  2784 model_lib_v2.py:705] Step 1500 per-step time 0.109s\n",
      "INFO:tensorflow:{'Loss/classification_loss': 0.05967241,\n",
      " 'Loss/localization_loss': 0.028792515,\n",
      " 'Loss/regularization_loss': 0.1458565,\n",
      " 'Loss/total_loss': 0.23432143,\n",
      " 'learning_rate': 0.07997945}\n",
      "I0227 12:48:54.760051  2784 model_lib_v2.py:708] {'Loss/classification_loss': 0.05967241,\n",
      " 'Loss/localization_loss': 0.028792515,\n",
      " 'Loss/regularization_loss': 0.1458565,\n",
      " 'Loss/total_loss': 0.23432143,\n",
      " 'learning_rate': 0.07997945}\n",
      "INFO:tensorflow:Step 1600 per-step time 0.110s\n",
      "I0227 12:49:05.759970  2784 model_lib_v2.py:705] Step 1600 per-step time 0.110s\n",
      "INFO:tensorflow:{'Loss/classification_loss': 0.02804944,\n",
      " 'Loss/localization_loss': 0.010369705,\n",
      " 'Loss/regularization_loss': 0.14502524,\n",
      " 'Loss/total_loss': 0.18344438,\n",
      " 'learning_rate': 0.079970405}\n",
      "I0227 12:49:05.759970  2784 model_lib_v2.py:708] {'Loss/classification_loss': 0.02804944,\n",
      " 'Loss/localization_loss': 0.010369705,\n",
      " 'Loss/regularization_loss': 0.14502524,\n",
      " 'Loss/total_loss': 0.18344438,\n",
      " 'learning_rate': 0.079970405}\n",
      "INFO:tensorflow:Step 1700 per-step time 0.110s\n",
      "I0227 12:49:16.785830  2784 model_lib_v2.py:705] Step 1700 per-step time 0.110s\n",
      "INFO:tensorflow:{'Loss/classification_loss': 0.039174877,\n",
      " 'Loss/localization_loss': 0.008451805,\n",
      " 'Loss/regularization_loss': 0.14419138,\n",
      " 'Loss/total_loss': 0.19181806,\n",
      " 'learning_rate': 0.07995972}\n",
      "I0227 12:49:16.785830  2784 model_lib_v2.py:708] {'Loss/classification_loss': 0.039174877,\n",
      " 'Loss/localization_loss': 0.008451805,\n",
      " 'Loss/regularization_loss': 0.14419138,\n",
      " 'Loss/total_loss': 0.19181806,\n",
      " 'learning_rate': 0.07995972}\n",
      "INFO:tensorflow:Step 1800 per-step time 0.111s\n",
      "I0227 12:49:27.854774  2784 model_lib_v2.py:705] Step 1800 per-step time 0.111s\n",
      "INFO:tensorflow:{'Loss/classification_loss': 0.046211444,\n",
      " 'Loss/localization_loss': 0.011255441,\n",
      " 'Loss/regularization_loss': 0.14337613,\n",
      " 'Loss/total_loss': 0.200843,\n",
      " 'learning_rate': 0.0799474}\n",
      "I0227 12:49:27.854774  2784 model_lib_v2.py:708] {'Loss/classification_loss': 0.046211444,\n",
      " 'Loss/localization_loss': 0.011255441,\n",
      " 'Loss/regularization_loss': 0.14337613,\n",
      " 'Loss/total_loss': 0.200843,\n",
      " 'learning_rate': 0.0799474}\n",
      "INFO:tensorflow:Step 1900 per-step time 0.110s\n",
      "I0227 12:49:38.871811  2784 model_lib_v2.py:705] Step 1900 per-step time 0.110s\n",
      "INFO:tensorflow:{'Loss/classification_loss': 0.023711422,\n",
      " 'Loss/localization_loss': 0.012708894,\n",
      " 'Loss/regularization_loss': 0.14257322,\n",
      " 'Loss/total_loss': 0.17899354,\n",
      " 'learning_rate': 0.07993342}\n",
      "I0227 12:49:38.872808  2784 model_lib_v2.py:708] {'Loss/classification_loss': 0.023711422,\n",
      " 'Loss/localization_loss': 0.012708894,\n",
      " 'Loss/regularization_loss': 0.14257322,\n",
      " 'Loss/total_loss': 0.17899354,\n",
      " 'learning_rate': 0.07993342}\n",
      "INFO:tensorflow:Step 2000 per-step time 0.110s\n",
      "I0227 12:49:49.904728  2784 model_lib_v2.py:705] Step 2000 per-step time 0.110s\n",
      "INFO:tensorflow:{'Loss/classification_loss': 0.03649641,\n",
      " 'Loss/localization_loss': 0.022240382,\n",
      " 'Loss/regularization_loss': 0.14178596,\n",
      " 'Loss/total_loss': 0.20052275,\n",
      " 'learning_rate': 0.07991781}\n",
      "I0227 12:49:49.904728  2784 model_lib_v2.py:708] {'Loss/classification_loss': 0.03649641,\n",
      " 'Loss/localization_loss': 0.022240382,\n",
      " 'Loss/regularization_loss': 0.14178596,\n",
      " 'Loss/total_loss': 0.20052275,\n",
      " 'learning_rate': 0.07991781}\n"
     ]
    }
   ],
   "source": [
    "!{command}"
   ]
  },
  {
   "cell_type": "markdown",
   "metadata": {
    "id": "4_YRZu7npfDH"
   },
   "source": [
    "# 7. Evaluate the Model"
   ]
  },
  {
   "cell_type": "code",
   "execution_count": 26,
   "metadata": {
    "id": "80L7-fdPpfDH"
   },
   "outputs": [
    {
     "ename": "NameError",
     "evalue": "name 'TRAINING_SCRIPT' is not defined",
     "output_type": "error",
     "traceback": [
      "\u001b[1;31m---------------------------------------------------------------------------\u001b[0m",
      "\u001b[1;31mNameError\u001b[0m                                 Traceback (most recent call last)",
      "Input \u001b[1;32mIn [26]\u001b[0m, in \u001b[0;36m<cell line: 1>\u001b[1;34m()\u001b[0m\n\u001b[1;32m----> 1\u001b[0m command \u001b[38;5;241m=\u001b[39m \u001b[38;5;124m\"\u001b[39m\u001b[38;5;124mpython \u001b[39m\u001b[38;5;132;01m{}\u001b[39;00m\u001b[38;5;124m --model_dir=\u001b[39m\u001b[38;5;132;01m{}\u001b[39;00m\u001b[38;5;124m --pipeline_config_path=\u001b[39m\u001b[38;5;132;01m{}\u001b[39;00m\u001b[38;5;124m --checkpoint_dir=\u001b[39m\u001b[38;5;132;01m{}\u001b[39;00m\u001b[38;5;124m\"\u001b[39m\u001b[38;5;241m.\u001b[39mformat(TRAINING_SCRIPT, paths[\u001b[38;5;124m'\u001b[39m\u001b[38;5;124mCHECKPOINT_PATH\u001b[39m\u001b[38;5;124m'\u001b[39m],files[\u001b[38;5;124m'\u001b[39m\u001b[38;5;124mPIPELINE_CONFIG\u001b[39m\u001b[38;5;124m'\u001b[39m], paths[\u001b[38;5;124m'\u001b[39m\u001b[38;5;124mCHECKPOINT_PATH\u001b[39m\u001b[38;5;124m'\u001b[39m])\n",
      "\u001b[1;31mNameError\u001b[0m: name 'TRAINING_SCRIPT' is not defined"
     ]
    }
   ],
   "source": [
    "command = \"python {} --model_dir={} --pipeline_config_path={} --checkpoint_dir={}\".format(TRAINING_SCRIPT, paths['CHECKPOINT_PATH'],files['PIPELINE_CONFIG'], paths['CHECKPOINT_PATH'])"
   ]
  },
  {
   "cell_type": "code",
   "execution_count": null,
   "metadata": {
    "colab": {
     "base_uri": "https://localhost:8080/"
    },
    "id": "lYsgEPx9pfDH",
    "outputId": "8632d48b-91d2-45d9-bcb8-c1b172bf6eed"
   },
   "outputs": [],
   "source": [
    "print(command)"
   ]
  },
  {
   "cell_type": "code",
   "execution_count": 36,
   "metadata": {
    "id": "lqTV2jGBpfDH"
   },
   "outputs": [
    {
     "name": "stdout",
     "output_type": "stream",
     "text": [
      "^C\n"
     ]
    }
   ],
   "source": [
    "!{command}"
   ]
  },
  {
   "cell_type": "markdown",
   "metadata": {
    "id": "orvRk02UpfDI"
   },
   "source": [
    "# 8. Load Train Model From Checkpoint"
   ]
  },
  {
   "cell_type": "code",
   "execution_count": 39,
   "metadata": {
    "id": "8TYk4_oIpfDI"
   },
   "outputs": [],
   "source": [
    "import os\n",
    "import tensorflow as tf\n",
    "from object_detection.utils import label_map_util\n",
    "from object_detection.utils import visualization_utils as viz_utils\n",
    "from object_detection.builders import model_builder\n",
    "from object_detection.utils import config_util"
   ]
  },
  {
   "cell_type": "code",
   "execution_count": 40,
   "metadata": {
    "id": "tDnQg-cYpfDI"
   },
   "outputs": [],
   "source": [
    "# Load pipeline config and build a detection model\n",
    "configs = config_util.get_configs_from_pipeline_file(files['PIPELINE_CONFIG'])\n",
    "detection_model = model_builder.build(model_config=configs['model'], is_training=False)\n",
    "\n",
    "# Restore checkpoint\n",
    "ckpt = tf.compat.v2.train.Checkpoint(model=detection_model)\n",
    "ckpt.restore(os.path.join(paths['CHECKPOINT_PATH'], 'ckpt-3')).expect_partial()\n",
    "\n",
    "@tf.function\n",
    "def detect_fn(image):\n",
    "    image, shapes = detection_model.preprocess(image)\n",
    "    prediction_dict = detection_model.predict(image, shapes)\n",
    "    detections = detection_model.postprocess(prediction_dict, shapes)\n",
    "    return detections"
   ]
  },
  {
   "cell_type": "markdown",
   "metadata": {
    "id": "0EmsmbBZpfDI"
   },
   "source": [
    "# 9. Detect from an Image"
   ]
  },
  {
   "cell_type": "code",
   "execution_count": 41,
   "metadata": {
    "id": "Y_MKiuZ4pfDI"
   },
   "outputs": [],
   "source": [
    "import cv2 \n",
    "import numpy as np\n",
    "from matplotlib import pyplot as plt\n",
    "%matplotlib inline"
   ]
  },
  {
   "cell_type": "code",
   "execution_count": 42,
   "metadata": {
    "id": "cBDbIhNapfDI"
   },
   "outputs": [],
   "source": [
    "category_index = label_map_util.create_category_index_from_labelmap(files['LABELMAP'])"
   ]
  },
  {
   "cell_type": "code",
   "execution_count": 43,
   "metadata": {
    "id": "Lx3crOhOzITB"
   },
   "outputs": [],
   "source": [
    "IMAGE_PATH = os.path.join(paths['IMAGE_PATH'], 'test', 'livelong.02533422-940e-11eb-9dbd-5cf3709bbcc6.jpg')"
   ]
  },
  {
   "cell_type": "code",
   "execution_count": 20,
   "metadata": {
    "colab": {
     "base_uri": "https://localhost:8080/",
     "height": 269
    },
    "id": "Tpzn1SMry1yK",
    "outputId": "c392a2c5-10fe-4fc4-9998-a1d4c7db2bd3"
   },
   "outputs": [
    {
     "ename": "ValueError",
     "evalue": "in user code:\n\n    File \"C:\\Users\\abdullah\\AppData\\Local\\Temp\\ipykernel_13016\\3600898474.py\", line 11, in detect_fn  *\n        image, shapes = detection_model.preprocess(image)\n    File \"C:\\Users\\abdullah\\Desktop\\Github\\CPIT499---Group-12\\Abdullah_Test 3\\TFODCourse\\tfod\\lib\\site-packages\\object_detection-0.1-py3.9.egg\\object_detection\\meta_architectures\\ssd_meta_arch.py\", line 484, in preprocess  *\n        normalized_inputs, self._image_resizer_fn)\n    File \"C:\\Users\\abdullah\\Desktop\\Github\\CPIT499---Group-12\\Abdullah_Test 3\\TFODCourse\\tfod\\lib\\site-packages\\object_detection-0.1-py3.9.egg\\object_detection\\utils\\shape_utils.py\", line 492, in resize_images_and_return_shapes  *\n        outputs = static_or_dynamic_map_fn(\n    File \"C:\\Users\\abdullah\\Desktop\\Github\\CPIT499---Group-12\\Abdullah_Test 3\\TFODCourse\\tfod\\lib\\site-packages\\object_detection-0.1-py3.9.egg\\object_detection\\utils\\shape_utils.py\", line 246, in static_or_dynamic_map_fn  *\n        outputs = [fn(arg) for arg in tf.unstack(elems)]\n    File \"C:\\Users\\abdullah\\Desktop\\Github\\CPIT499---Group-12\\Abdullah_Test 3\\TFODCourse\\tfod\\lib\\site-packages\\object_detection-0.1-py3.9.egg\\object_detection\\core\\preprocessor.py\", line 3327, in resize_image  *\n        new_image = tf.image.resize_images(\n\n    ValueError: 'images' must have either 3 or 4 dimensions.\n",
     "output_type": "error",
     "traceback": [
      "\u001b[1;31m---------------------------------------------------------------------------\u001b[0m",
      "\u001b[1;31mValueError\u001b[0m                                Traceback (most recent call last)",
      "Input \u001b[1;32mIn [20]\u001b[0m, in \u001b[0;36m<cell line: 5>\u001b[1;34m()\u001b[0m\n\u001b[0;32m      2\u001b[0m image_np \u001b[38;5;241m=\u001b[39m np\u001b[38;5;241m.\u001b[39marray(img)\n\u001b[0;32m      4\u001b[0m input_tensor \u001b[38;5;241m=\u001b[39m tf\u001b[38;5;241m.\u001b[39mconvert_to_tensor(np\u001b[38;5;241m.\u001b[39mexpand_dims(image_np, \u001b[38;5;241m0\u001b[39m), dtype\u001b[38;5;241m=\u001b[39mtf\u001b[38;5;241m.\u001b[39mfloat32)\n\u001b[1;32m----> 5\u001b[0m detections \u001b[38;5;241m=\u001b[39m detect_fn(input_tensor)\n\u001b[0;32m      7\u001b[0m num_detections \u001b[38;5;241m=\u001b[39m \u001b[38;5;28mint\u001b[39m(detections\u001b[38;5;241m.\u001b[39mpop(\u001b[38;5;124m'\u001b[39m\u001b[38;5;124mnum_detections\u001b[39m\u001b[38;5;124m'\u001b[39m))\n\u001b[0;32m      8\u001b[0m detections \u001b[38;5;241m=\u001b[39m {key: value[\u001b[38;5;241m0\u001b[39m, :num_detections]\u001b[38;5;241m.\u001b[39mnumpy()\n\u001b[0;32m      9\u001b[0m               \u001b[38;5;28;01mfor\u001b[39;00m key, value \u001b[38;5;129;01min\u001b[39;00m detections\u001b[38;5;241m.\u001b[39mitems()}\n",
      "File \u001b[1;32m~\\Desktop\\Github\\CPIT499---Group-12\\Abdullah_Test 3\\TFODCourse\\tfod\\lib\\site-packages\\tensorflow\\python\\util\\traceback_utils.py:153\u001b[0m, in \u001b[0;36mfilter_traceback.<locals>.error_handler\u001b[1;34m(*args, **kwargs)\u001b[0m\n\u001b[0;32m    151\u001b[0m \u001b[38;5;28;01mexcept\u001b[39;00m \u001b[38;5;167;01mException\u001b[39;00m \u001b[38;5;28;01mas\u001b[39;00m e:\n\u001b[0;32m    152\u001b[0m   filtered_tb \u001b[38;5;241m=\u001b[39m _process_traceback_frames(e\u001b[38;5;241m.\u001b[39m__traceback__)\n\u001b[1;32m--> 153\u001b[0m   \u001b[38;5;28;01mraise\u001b[39;00m e\u001b[38;5;241m.\u001b[39mwith_traceback(filtered_tb) \u001b[38;5;28;01mfrom\u001b[39;00m \u001b[38;5;28mNone\u001b[39m\n\u001b[0;32m    154\u001b[0m \u001b[38;5;28;01mfinally\u001b[39;00m:\n\u001b[0;32m    155\u001b[0m   \u001b[38;5;28;01mdel\u001b[39;00m filtered_tb\n",
      "File \u001b[1;32m~\\Desktop\\Github\\CPIT499---Group-12\\Abdullah_Test 3\\TFODCourse\\tfod\\lib\\site-packages\\tensorflow\\python\\framework\\func_graph.py:1147\u001b[0m, in \u001b[0;36mfunc_graph_from_py_func.<locals>.autograph_handler\u001b[1;34m(*args, **kwargs)\u001b[0m\n\u001b[0;32m   1145\u001b[0m \u001b[38;5;28;01mexcept\u001b[39;00m \u001b[38;5;167;01mException\u001b[39;00m \u001b[38;5;28;01mas\u001b[39;00m e:  \u001b[38;5;66;03m# pylint:disable=broad-except\u001b[39;00m\n\u001b[0;32m   1146\u001b[0m   \u001b[38;5;28;01mif\u001b[39;00m \u001b[38;5;28mhasattr\u001b[39m(e, \u001b[38;5;124m\"\u001b[39m\u001b[38;5;124mag_error_metadata\u001b[39m\u001b[38;5;124m\"\u001b[39m):\n\u001b[1;32m-> 1147\u001b[0m     \u001b[38;5;28;01mraise\u001b[39;00m e\u001b[38;5;241m.\u001b[39mag_error_metadata\u001b[38;5;241m.\u001b[39mto_exception(e)\n\u001b[0;32m   1148\u001b[0m   \u001b[38;5;28;01melse\u001b[39;00m:\n\u001b[0;32m   1149\u001b[0m     \u001b[38;5;28;01mraise\u001b[39;00m\n",
      "\u001b[1;31mValueError\u001b[0m: in user code:\n\n    File \"C:\\Users\\abdullah\\AppData\\Local\\Temp\\ipykernel_13016\\3600898474.py\", line 11, in detect_fn  *\n        image, shapes = detection_model.preprocess(image)\n    File \"C:\\Users\\abdullah\\Desktop\\Github\\CPIT499---Group-12\\Abdullah_Test 3\\TFODCourse\\tfod\\lib\\site-packages\\object_detection-0.1-py3.9.egg\\object_detection\\meta_architectures\\ssd_meta_arch.py\", line 484, in preprocess  *\n        normalized_inputs, self._image_resizer_fn)\n    File \"C:\\Users\\abdullah\\Desktop\\Github\\CPIT499---Group-12\\Abdullah_Test 3\\TFODCourse\\tfod\\lib\\site-packages\\object_detection-0.1-py3.9.egg\\object_detection\\utils\\shape_utils.py\", line 492, in resize_images_and_return_shapes  *\n        outputs = static_or_dynamic_map_fn(\n    File \"C:\\Users\\abdullah\\Desktop\\Github\\CPIT499---Group-12\\Abdullah_Test 3\\TFODCourse\\tfod\\lib\\site-packages\\object_detection-0.1-py3.9.egg\\object_detection\\utils\\shape_utils.py\", line 246, in static_or_dynamic_map_fn  *\n        outputs = [fn(arg) for arg in tf.unstack(elems)]\n    File \"C:\\Users\\abdullah\\Desktop\\Github\\CPIT499---Group-12\\Abdullah_Test 3\\TFODCourse\\tfod\\lib\\site-packages\\object_detection-0.1-py3.9.egg\\object_detection\\core\\preprocessor.py\", line 3327, in resize_image  *\n        new_image = tf.image.resize_images(\n\n    ValueError: 'images' must have either 3 or 4 dimensions.\n"
     ]
    }
   ],
   "source": [
    "img = cv2.imread(IMAGE_PATH)\n",
    "image_np = np.array(img)\n",
    "\n",
    "input_tensor = tf.convert_to_tensor(np.expand_dims(image_np, 0), dtype=tf.float32)\n",
    "detections = detect_fn(input_tensor)\n",
    "\n",
    "num_detections = int(detections.pop('num_detections'))\n",
    "detections = {key: value[0, :num_detections].numpy()\n",
    "              for key, value in detections.items()}\n",
    "detections['num_detections'] = num_detections\n",
    "\n",
    "# detection_classes should be ints.\n",
    "detections['detection_classes'] = detections['detection_classes'].astype(np.int64)\n",
    "\n",
    "label_id_offset = 1\n",
    "image_np_with_detections = image_np.copy()\n",
    "\n",
    "viz_utils.visualize_boxes_and_labels_on_image_array(\n",
    "            image_np_with_detections,\n",
    "            detections['detection_boxes'],\n",
    "            detections['detection_classes']+label_id_offset,\n",
    "            detections['detection_scores'],\n",
    "            category_index,\n",
    "            use_normalized_coordinates=True,\n",
    "            max_boxes_to_draw=5,\n",
    "            min_score_thresh=.8,\n",
    "            agnostic_mode=False)\n",
    "\n",
    "plt.imshow(cv2.cvtColor(image_np_with_detections, cv2.COLOR_BGR2RGB))\n",
    "plt.show()"
   ]
  },
  {
   "cell_type": "markdown",
   "metadata": {
    "id": "IsNAaYAo0WVL"
   },
   "source": [
    "# 10. Real Time Detections from your Webcam"
   ]
  },
  {
   "cell_type": "code",
   "execution_count": 44,
   "metadata": {},
   "outputs": [
    {
     "name": "stderr",
     "output_type": "stream",
     "text": [
      "WARNING: Skipping opencv-python-headless as it is not installed.\n"
     ]
    }
   ],
   "source": [
    "!pip uninstall opencv-python-headless -y"
   ]
  },
  {
   "cell_type": "code",
   "execution_count": 65,
   "metadata": {
    "id": "o_grs6OGpfDJ"
   },
   "outputs": [],
   "source": [
    "cap = cv2.VideoCapture(0)\n",
    "width = int(cap.get(cv2.CAP_PROP_FRAME_WIDTH))\n",
    "height = int(cap.get(cv2.CAP_PROP_FRAME_HEIGHT))\n",
    "\n",
    "while cap.isOpened(): \n",
    "    ret, frame = cap.read()\n",
    "    image_np = np.array(frame)\n",
    "    \n",
    "    input_tensor = tf.convert_to_tensor(np.expand_dims(image_np, 0), dtype=tf.float32)\n",
    "    detections = detect_fn(input_tensor)\n",
    "    \n",
    "    num_detections = int(detections.pop('num_detections'))\n",
    "    detections = {key: value[0, :num_detections].numpy()\n",
    "                  for key, value in detections.items()}\n",
    "    detections['num_detections'] = num_detections\n",
    "\n",
    "    # detection_classes should be ints.\n",
    "    detections['detection_classes'] = detections['detection_classes'].astype(np.int64)\n",
    "\n",
    "    label_id_offset = 1\n",
    "    image_np_with_detections = image_np.copy()\n",
    "\n",
    "    viz_utils.visualize_boxes_and_labels_on_image_array(\n",
    "                image_np_with_detections,\n",
    "                detections['detection_boxes'],\n",
    "                detections['detection_classes']+label_id_offset,\n",
    "                detections['detection_scores'],\n",
    "                category_index,\n",
    "                use_normalized_coordinates=True,\n",
    "                max_boxes_to_draw=5,\n",
    "                min_score_thresh=.8,\n",
    "                agnostic_mode=False)\n",
    "\n",
    "    cv2.imshow('object detection',  cv2.resize(image_np_with_detections, (800, 600)))\n",
    "    \n",
    "    if cv2.waitKey(10) & 0xFF == ord('q'):\n",
    "        cap.release()\n",
    "        cv2.destroyAllWindows()\n",
    "        break"
   ]
  },
  {
   "cell_type": "markdown",
   "metadata": {
    "id": "rzlM4jt0pfDJ"
   },
   "source": [
    "# 10. Freezing the Graph"
   ]
  },
  {
   "cell_type": "code",
   "execution_count": 46,
   "metadata": {
    "id": "n4olHB2npfDJ"
   },
   "outputs": [],
   "source": [
    "FREEZE_SCRIPT = os.path.join(paths['APIMODEL_PATH'], 'research', 'object_detection', 'exporter_main_v2.py ')"
   ]
  },
  {
   "cell_type": "code",
   "execution_count": 47,
   "metadata": {
    "id": "0AjO93QDpfDJ"
   },
   "outputs": [],
   "source": [
    "command = \"python {} --input_type=image_tensor --pipeline_config_path={} --trained_checkpoint_dir={} --output_directory={}\".format(FREEZE_SCRIPT ,files['PIPELINE_CONFIG'], paths['CHECKPOINT_PATH'], paths['OUTPUT_PATH'])"
   ]
  },
  {
   "cell_type": "code",
   "execution_count": 48,
   "metadata": {
    "colab": {
     "base_uri": "https://localhost:8080/"
    },
    "id": "F6Lsp3tCpfDJ",
    "outputId": "c3828529-bf06-4df5-d7f3-145890ec3edd"
   },
   "outputs": [
    {
     "name": "stdout",
     "output_type": "stream",
     "text": [
      "python Tensorflow\\models\\research\\object_detection\\exporter_main_v2.py  --input_type=image_tensor --pipeline_config_path=Tensorflow\\workspace\\models\\my_ssd_mobnet\\pipeline.config --trained_checkpoint_dir=Tensorflow\\workspace\\models\\my_ssd_mobnet --output_directory=Tensorflow\\workspace\\models\\my_ssd_mobnet\\export\n"
     ]
    }
   ],
   "source": [
    "print(command)"
   ]
  },
  {
   "cell_type": "code",
   "execution_count": 49,
   "metadata": {
    "colab": {
     "base_uri": "https://localhost:8080/"
    },
    "id": "1Sw1ULgHpfDJ",
    "outputId": "6fd441e1-9fc9-4889-d072-3395c21e40b6"
   },
   "outputs": [
    {
     "name": "stderr",
     "output_type": "stream",
     "text": [
      "2022-02-27 13:23:03.175615: I tensorflow/core/platform/cpu_feature_guard.cc:151] This TensorFlow binary is optimized with oneAPI Deep Neural Network Library (oneDNN) to use the following CPU instructions in performance-critical operations:  AVX AVX2\n",
      "To enable them in other operations, rebuild TensorFlow with the appropriate compiler flags.\n",
      "2022-02-27 13:23:03.602193: I tensorflow/core/common_runtime/gpu/gpu_device.cc:1525] Created device /job:localhost/replica:0/task:0/device:GPU:0 with 5756 MB memory:  -> device: 0, name: NVIDIA GeForce RTX 2080, pci bus id: 0000:01:00.0, compute capability: 7.5\n",
      "WARNING:tensorflow:From C:\\Users\\abdullah\\Desktop\\Github\\CPIT499---Group-12\\Abdullah_Test 3\\TFODCourse\\tfod\\lib\\site-packages\\tensorflow\\python\\autograph\\impl\\api.py:458: calling map_fn_v2 (from tensorflow.python.ops.map_fn) with back_prop=False is deprecated and will be removed in a future version.\n",
      "Instructions for updating:\n",
      "back_prop=False is deprecated. Consider using tf.stop_gradient instead.\n",
      "Instead of:\n",
      "results = tf.map_fn(fn, elems, back_prop=False)\n",
      "Use:\n",
      "results = tf.nest.map_structure(tf.stop_gradient, tf.map_fn(fn, elems))\n",
      "W0227 13:23:04.753587 10344 deprecation.py:610] From C:\\Users\\abdullah\\Desktop\\Github\\CPIT499---Group-12\\Abdullah_Test 3\\TFODCourse\\tfod\\lib\\site-packages\\tensorflow\\python\\autograph\\impl\\api.py:458: calling map_fn_v2 (from tensorflow.python.ops.map_fn) with back_prop=False is deprecated and will be removed in a future version.\n",
      "Instructions for updating:\n",
      "back_prop=False is deprecated. Consider using tf.stop_gradient instead.\n",
      "Instead of:\n",
      "results = tf.map_fn(fn, elems, back_prop=False)\n",
      "Use:\n",
      "results = tf.nest.map_structure(tf.stop_gradient, tf.map_fn(fn, elems))\n",
      "2022-02-27 13:23:18.046063: W tensorflow/python/util/util.cc:368] Sets are not currently considered sequences, but this may change in the future, so consider avoiding using them.\n",
      "WARNING:tensorflow:Skipping full serialization of Keras layer <object_detection.meta_architectures.ssd_meta_arch.SSDMetaArch object at 0x0000023927023A60>, because it is not built.\n",
      "W0227 13:23:20.633803 10344 save_impl.py:71] Skipping full serialization of Keras layer <object_detection.meta_architectures.ssd_meta_arch.SSDMetaArch object at 0x0000023927023A60>, because it is not built.\n",
      "WARNING:tensorflow:Skipping full serialization of Keras layer <keras.layers.convolutional.SeparableConv2D object at 0x00000239270C96D0>, because it is not built.\n",
      "W0227 13:23:20.873059 10344 save_impl.py:71] Skipping full serialization of Keras layer <keras.layers.convolutional.SeparableConv2D object at 0x00000239270C96D0>, because it is not built.\n",
      "WARNING:tensorflow:Skipping full serialization of Keras layer <object_detection.core.freezable_batch_norm.FreezableBatchNorm object at 0x0000023963E9D610>, because it is not built.\n",
      "W0227 13:23:20.874056 10344 save_impl.py:71] Skipping full serialization of Keras layer <object_detection.core.freezable_batch_norm.FreezableBatchNorm object at 0x0000023963E9D610>, because it is not built.\n",
      "WARNING:tensorflow:Skipping full serialization of Keras layer <keras.layers.core.lambda_layer.Lambda object at 0x0000023963E9D040>, because it is not built.\n",
      "W0227 13:23:20.874056 10344 save_impl.py:71] Skipping full serialization of Keras layer <keras.layers.core.lambda_layer.Lambda object at 0x0000023963E9D040>, because it is not built.\n",
      "WARNING:tensorflow:Skipping full serialization of Keras layer <keras.layers.convolutional.SeparableConv2D object at 0x0000023963E9D220>, because it is not built.\n",
      "W0227 13:23:20.874056 10344 save_impl.py:71] Skipping full serialization of Keras layer <keras.layers.convolutional.SeparableConv2D object at 0x0000023963E9D220>, because it is not built.\n",
      "WARNING:tensorflow:Skipping full serialization of Keras layer <object_detection.core.freezable_batch_norm.FreezableBatchNorm object at 0x0000023963E9DEE0>, because it is not built.\n",
      "W0227 13:23:20.874056 10344 save_impl.py:71] Skipping full serialization of Keras layer <object_detection.core.freezable_batch_norm.FreezableBatchNorm object at 0x0000023963E9DEE0>, because it is not built.\n",
      "WARNING:tensorflow:Skipping full serialization of Keras layer <keras.layers.core.lambda_layer.Lambda object at 0x0000023963DDFAF0>, because it is not built.\n",
      "W0227 13:23:20.874056 10344 save_impl.py:71] Skipping full serialization of Keras layer <keras.layers.core.lambda_layer.Lambda object at 0x0000023963DDFAF0>, because it is not built.\n",
      "WARNING:tensorflow:Skipping full serialization of Keras layer <keras.layers.convolutional.SeparableConv2D object at 0x0000023963DDFD60>, because it is not built.\n",
      "W0227 13:23:20.874056 10344 save_impl.py:71] Skipping full serialization of Keras layer <keras.layers.convolutional.SeparableConv2D object at 0x0000023963DDFD60>, because it is not built.\n",
      "WARNING:tensorflow:Skipping full serialization of Keras layer <object_detection.core.freezable_batch_norm.FreezableBatchNorm object at 0x0000023963DDFF70>, because it is not built.\n",
      "W0227 13:23:20.874056 10344 save_impl.py:71] Skipping full serialization of Keras layer <object_detection.core.freezable_batch_norm.FreezableBatchNorm object at 0x0000023963DDFF70>, because it is not built.\n",
      "WARNING:tensorflow:Skipping full serialization of Keras layer <keras.layers.core.lambda_layer.Lambda object at 0x0000023963E24160>, because it is not built.\n",
      "W0227 13:23:20.874056 10344 save_impl.py:71] Skipping full serialization of Keras layer <keras.layers.core.lambda_layer.Lambda object at 0x0000023963E24160>, because it is not built.\n",
      "WARNING:tensorflow:Skipping full serialization of Keras layer <keras.layers.convolutional.SeparableConv2D object at 0x0000023963E067C0>, because it is not built.\n",
      "W0227 13:23:20.874056 10344 save_impl.py:71] Skipping full serialization of Keras layer <keras.layers.convolutional.SeparableConv2D object at 0x0000023963E067C0>, because it is not built.\n",
      "WARNING:tensorflow:Skipping full serialization of Keras layer <object_detection.core.freezable_batch_norm.FreezableBatchNorm object at 0x000002393C273520>, because it is not built.\n",
      "W0227 13:23:20.874056 10344 save_impl.py:71] Skipping full serialization of Keras layer <object_detection.core.freezable_batch_norm.FreezableBatchNorm object at 0x000002393C273520>, because it is not built.\n",
      "WARNING:tensorflow:Skipping full serialization of Keras layer <keras.layers.core.lambda_layer.Lambda object at 0x0000023963E06BE0>, because it is not built.\n",
      "W0227 13:23:20.874056 10344 save_impl.py:71] Skipping full serialization of Keras layer <keras.layers.core.lambda_layer.Lambda object at 0x0000023963E06BE0>, because it is not built.\n",
      "WARNING:tensorflow:Skipping full serialization of Keras layer <object_detection.core.freezable_batch_norm.FreezableBatchNorm object at 0x00000239270C9CA0>, because it is not built.\n",
      "W0227 13:23:20.874056 10344 save_impl.py:71] Skipping full serialization of Keras layer <object_detection.core.freezable_batch_norm.FreezableBatchNorm object at 0x00000239270C9CA0>, because it is not built.\n",
      "WARNING:tensorflow:Skipping full serialization of Keras layer <keras.layers.core.lambda_layer.Lambda object at 0x0000023963DD0670>, because it is not built.\n",
      "W0227 13:23:20.874056 10344 save_impl.py:71] Skipping full serialization of Keras layer <keras.layers.core.lambda_layer.Lambda object at 0x0000023963DD0670>, because it is not built.\n",
      "WARNING:tensorflow:Skipping full serialization of Keras layer <object_detection.core.freezable_batch_norm.FreezableBatchNorm object at 0x0000023963F11070>, because it is not built.\n",
      "W0227 13:23:20.874056 10344 save_impl.py:71] Skipping full serialization of Keras layer <object_detection.core.freezable_batch_norm.FreezableBatchNorm object at 0x0000023963F11070>, because it is not built.\n",
      "WARNING:tensorflow:Skipping full serialization of Keras layer <keras.layers.core.lambda_layer.Lambda object at 0x0000023963F118E0>, because it is not built.\n",
      "W0227 13:23:20.874056 10344 save_impl.py:71] Skipping full serialization of Keras layer <keras.layers.core.lambda_layer.Lambda object at 0x0000023963F118E0>, because it is not built.\n",
      "WARNING:tensorflow:Skipping full serialization of Keras layer <object_detection.core.freezable_batch_norm.FreezableBatchNorm object at 0x0000023963F116D0>, because it is not built.\n",
      "W0227 13:23:20.874056 10344 save_impl.py:71] Skipping full serialization of Keras layer <object_detection.core.freezable_batch_norm.FreezableBatchNorm object at 0x0000023963F116D0>, because it is not built.\n",
      "WARNING:tensorflow:Skipping full serialization of Keras layer <keras.layers.core.lambda_layer.Lambda object at 0x0000023963F11F10>, because it is not built.\n",
      "W0227 13:23:20.874056 10344 save_impl.py:71] Skipping full serialization of Keras layer <keras.layers.core.lambda_layer.Lambda object at 0x0000023963F11F10>, because it is not built.\n",
      "WARNING:tensorflow:Skipping full serialization of Keras layer <object_detection.core.freezable_batch_norm.FreezableBatchNorm object at 0x0000023963F11D00>, because it is not built.\n",
      "W0227 13:23:20.875054 10344 save_impl.py:71] Skipping full serialization of Keras layer <object_detection.core.freezable_batch_norm.FreezableBatchNorm object at 0x0000023963F11D00>, because it is not built.\n",
      "WARNING:tensorflow:Skipping full serialization of Keras layer <keras.layers.core.lambda_layer.Lambda object at 0x0000023963F11A30>, because it is not built.\n",
      "W0227 13:23:20.875054 10344 save_impl.py:71] Skipping full serialization of Keras layer <keras.layers.core.lambda_layer.Lambda object at 0x0000023963F11A30>, because it is not built.\n",
      "WARNING:tensorflow:Skipping full serialization of Keras layer <object_detection.core.freezable_batch_norm.FreezableBatchNorm object at 0x00000239270C9CD0>, because it is not built.\n",
      "W0227 13:23:20.875054 10344 save_impl.py:71] Skipping full serialization of Keras layer <object_detection.core.freezable_batch_norm.FreezableBatchNorm object at 0x00000239270C9CD0>, because it is not built.\n",
      "WARNING:tensorflow:Skipping full serialization of Keras layer <keras.layers.core.lambda_layer.Lambda object at 0x0000023963F1E4F0>, because it is not built.\n",
      "W0227 13:23:20.875054 10344 save_impl.py:71] Skipping full serialization of Keras layer <keras.layers.core.lambda_layer.Lambda object at 0x0000023963F1E4F0>, because it is not built.\n",
      "WARNING:tensorflow:Skipping full serialization of Keras layer <object_detection.core.freezable_batch_norm.FreezableBatchNorm object at 0x0000023963F14430>, because it is not built.\n",
      "W0227 13:23:20.875054 10344 save_impl.py:71] Skipping full serialization of Keras layer <object_detection.core.freezable_batch_norm.FreezableBatchNorm object at 0x0000023963F14430>, because it is not built.\n",
      "WARNING:tensorflow:Skipping full serialization of Keras layer <keras.layers.core.lambda_layer.Lambda object at 0x0000023963F14160>, because it is not built.\n",
      "W0227 13:23:20.875054 10344 save_impl.py:71] Skipping full serialization of Keras layer <keras.layers.core.lambda_layer.Lambda object at 0x0000023963F14160>, because it is not built.\n",
      "WARNING:tensorflow:Skipping full serialization of Keras layer <object_detection.core.freezable_batch_norm.FreezableBatchNorm object at 0x0000023963F14A30>, because it is not built.\n",
      "W0227 13:23:20.875054 10344 save_impl.py:71] Skipping full serialization of Keras layer <object_detection.core.freezable_batch_norm.FreezableBatchNorm object at 0x0000023963F14A30>, because it is not built.\n",
      "WARNING:tensorflow:Skipping full serialization of Keras layer <keras.layers.core.lambda_layer.Lambda object at 0x0000023963F14730>, because it is not built.\n",
      "W0227 13:23:20.875054 10344 save_impl.py:71] Skipping full serialization of Keras layer <keras.layers.core.lambda_layer.Lambda object at 0x0000023963F14730>, because it is not built.\n",
      "WARNING:tensorflow:Skipping full serialization of Keras layer <object_detection.core.freezable_batch_norm.FreezableBatchNorm object at 0x0000023963F14E20>, because it is not built.\n",
      "W0227 13:23:20.875054 10344 save_impl.py:71] Skipping full serialization of Keras layer <object_detection.core.freezable_batch_norm.FreezableBatchNorm object at 0x0000023963F14E20>, because it is not built.\n",
      "WARNING:tensorflow:Skipping full serialization of Keras layer <keras.layers.core.lambda_layer.Lambda object at 0x0000023963F146D0>, because it is not built.\n",
      "W0227 13:23:20.875054 10344 save_impl.py:71] Skipping full serialization of Keras layer <keras.layers.core.lambda_layer.Lambda object at 0x0000023963F146D0>, because it is not built.\n",
      "WARNING:tensorflow:Skipping full serialization of Keras layer <object_detection.core.freezable_batch_norm.FreezableBatchNorm object at 0x00000239270C9D00>, because it is not built.\n",
      "W0227 13:23:20.875054 10344 save_impl.py:71] Skipping full serialization of Keras layer <object_detection.core.freezable_batch_norm.FreezableBatchNorm object at 0x00000239270C9D00>, because it is not built.\n",
      "WARNING:tensorflow:Skipping full serialization of Keras layer <keras.layers.core.lambda_layer.Lambda object at 0x0000023963F17EE0>, because it is not built.\n",
      "W0227 13:23:20.875054 10344 save_impl.py:71] Skipping full serialization of Keras layer <keras.layers.core.lambda_layer.Lambda object at 0x0000023963F17EE0>, because it is not built.\n",
      "WARNING:tensorflow:Skipping full serialization of Keras layer <object_detection.core.freezable_batch_norm.FreezableBatchNorm object at 0x0000023963F09550>, because it is not built.\n",
      "W0227 13:23:20.875054 10344 save_impl.py:71] Skipping full serialization of Keras layer <object_detection.core.freezable_batch_norm.FreezableBatchNorm object at 0x0000023963F09550>, because it is not built.\n",
      "WARNING:tensorflow:Skipping full serialization of Keras layer <keras.layers.core.lambda_layer.Lambda object at 0x0000023963F098B0>, because it is not built.\n",
      "W0227 13:23:20.875054 10344 save_impl.py:71] Skipping full serialization of Keras layer <keras.layers.core.lambda_layer.Lambda object at 0x0000023963F098B0>, because it is not built.\n",
      "WARNING:tensorflow:Skipping full serialization of Keras layer <object_detection.core.freezable_batch_norm.FreezableBatchNorm object at 0x0000023963F099D0>, because it is not built.\n",
      "W0227 13:23:20.875054 10344 save_impl.py:71] Skipping full serialization of Keras layer <object_detection.core.freezable_batch_norm.FreezableBatchNorm object at 0x0000023963F099D0>, because it is not built.\n",
      "WARNING:tensorflow:Skipping full serialization of Keras layer <keras.layers.core.lambda_layer.Lambda object at 0x0000023963F09E20>, because it is not built.\n",
      "W0227 13:23:20.875054 10344 save_impl.py:71] Skipping full serialization of Keras layer <keras.layers.core.lambda_layer.Lambda object at 0x0000023963F09E20>, because it is not built.\n",
      "WARNING:tensorflow:Skipping full serialization of Keras layer <object_detection.core.freezable_batch_norm.FreezableBatchNorm object at 0x0000023963F09BE0>, because it is not built.\n",
      "W0227 13:23:20.875054 10344 save_impl.py:71] Skipping full serialization of Keras layer <object_detection.core.freezable_batch_norm.FreezableBatchNorm object at 0x0000023963F09BE0>, because it is not built.\n",
      "WARNING:tensorflow:Skipping full serialization of Keras layer <keras.layers.core.lambda_layer.Lambda object at 0x0000023963F091F0>, because it is not built.\n",
      "W0227 13:23:20.875054 10344 save_impl.py:71] Skipping full serialization of Keras layer <keras.layers.core.lambda_layer.Lambda object at 0x0000023963F091F0>, because it is not built.\n",
      "WARNING:tensorflow:Skipping full serialization of Keras layer <object_detection.core.freezable_batch_norm.FreezableBatchNorm object at 0x000002393206B3D0>, because it is not built.\n",
      "W0227 13:23:20.875054 10344 save_impl.py:71] Skipping full serialization of Keras layer <object_detection.core.freezable_batch_norm.FreezableBatchNorm object at 0x000002393206B3D0>, because it is not built.\n",
      "WARNING:tensorflow:Skipping full serialization of Keras layer <keras.layers.core.lambda_layer.Lambda object at 0x0000023963E73A30>, because it is not built.\n",
      "W0227 13:23:20.876051 10344 save_impl.py:71] Skipping full serialization of Keras layer <keras.layers.core.lambda_layer.Lambda object at 0x0000023963E73A30>, because it is not built.\n",
      "WARNING:tensorflow:Skipping full serialization of Keras layer <object_detection.core.freezable_batch_norm.FreezableBatchNorm object at 0x0000023963F2D070>, because it is not built.\n",
      "W0227 13:23:20.876051 10344 save_impl.py:71] Skipping full serialization of Keras layer <object_detection.core.freezable_batch_norm.FreezableBatchNorm object at 0x0000023963F2D070>, because it is not built.\n",
      "WARNING:tensorflow:Skipping full serialization of Keras layer <keras.layers.core.lambda_layer.Lambda object at 0x0000023963F2D2E0>, because it is not built.\n",
      "W0227 13:23:20.876051 10344 save_impl.py:71] Skipping full serialization of Keras layer <keras.layers.core.lambda_layer.Lambda object at 0x0000023963F2D2E0>, because it is not built.\n",
      "WARNING:tensorflow:Skipping full serialization of Keras layer <object_detection.core.freezable_batch_norm.FreezableBatchNorm object at 0x0000023963F56190>, because it is not built.\n",
      "W0227 13:23:20.876051 10344 save_impl.py:71] Skipping full serialization of Keras layer <object_detection.core.freezable_batch_norm.FreezableBatchNorm object at 0x0000023963F56190>, because it is not built.\n",
      "WARNING:tensorflow:Skipping full serialization of Keras layer <keras.layers.core.lambda_layer.Lambda object at 0x0000023963F562E0>, because it is not built.\n",
      "W0227 13:23:20.876051 10344 save_impl.py:71] Skipping full serialization of Keras layer <keras.layers.core.lambda_layer.Lambda object at 0x0000023963F562E0>, because it is not built.\n",
      "WARNING:tensorflow:Skipping full serialization of Keras layer <object_detection.core.freezable_batch_norm.FreezableBatchNorm object at 0x0000023963F56DC0>, because it is not built.\n",
      "W0227 13:23:20.876051 10344 save_impl.py:71] Skipping full serialization of Keras layer <object_detection.core.freezable_batch_norm.FreezableBatchNorm object at 0x0000023963F56DC0>, because it is not built.\n",
      "WARNING:tensorflow:Skipping full serialization of Keras layer <keras.layers.core.lambda_layer.Lambda object at 0x0000023963F569D0>, because it is not built.\n",
      "W0227 13:23:20.876051 10344 save_impl.py:71] Skipping full serialization of Keras layer <keras.layers.core.lambda_layer.Lambda object at 0x0000023963F569D0>, because it is not built.\n",
      "W0227 13:23:32.882025 10344 save.py:260] Found untraced functions such as WeightSharedConvolutionalBoxPredictor_layer_call_fn, WeightSharedConvolutionalBoxPredictor_layer_call_and_return_conditional_losses, WeightSharedConvolutionalBoxHead_layer_call_fn, WeightSharedConvolutionalBoxHead_layer_call_and_return_conditional_losses, WeightSharedConvolutionalClassHead_layer_call_fn while saving (showing 5 of 104). These functions will not be directly callable after loading.\n",
      "INFO:tensorflow:Assets written to: Tensorflow\\workspace\\models\\my_ssd_mobnet\\export\\saved_model\\assets\n",
      "I0227 13:23:37.488144 10344 builder_impl.py:779] Assets written to: Tensorflow\\workspace\\models\\my_ssd_mobnet\\export\\saved_model\\assets\n",
      "INFO:tensorflow:Writing pipeline config file to Tensorflow\\workspace\\models\\my_ssd_mobnet\\export\\pipeline.config\n",
      "I0227 13:23:38.078371 10344 config_util.py:253] Writing pipeline config file to Tensorflow\\workspace\\models\\my_ssd_mobnet\\export\\pipeline.config\n"
     ]
    }
   ],
   "source": [
    "!{command}"
   ]
  },
  {
   "cell_type": "markdown",
   "metadata": {
    "id": "wTPmdqaXpfDK"
   },
   "source": [
    "# 11. Conversion to TFJS"
   ]
  },
  {
   "cell_type": "code",
   "execution_count": 50,
   "metadata": {
    "colab": {
     "base_uri": "https://localhost:8080/"
    },
    "id": "gZ6UzY_fpfDK",
    "outputId": "0c84722e-1c2b-4002-d857-80827ade828a",
    "scrolled": true
   },
   "outputs": [
    {
     "name": "stdout",
     "output_type": "stream",
     "text": [
      "Collecting tensorflowjs\n",
      "  Downloading tensorflowjs-3.13.0-py3-none-any.whl (77 kB)\n",
      "     -------------------------------------- 77.3/77.3 KB 713.2 kB/s eta 0:00:00\n",
      "Requirement already satisfied: tensorflow<3,>=2.1.0 in c:\\users\\abdullah\\desktop\\github\\cpit499---group-12\\abdullah_test 3\\tfodcourse\\tfod\\lib\\site-packages (from tensorflowjs) (2.8.0)\n",
      "Requirement already satisfied: six<2,>=1.12.0 in c:\\users\\abdullah\\desktop\\github\\cpit499---group-12\\abdullah_test 3\\tfodcourse\\tfod\\lib\\site-packages (from tensorflowjs) (1.16.0)\n",
      "Requirement already satisfied: tensorflow-hub<0.13,>=0.7.0 in c:\\users\\abdullah\\desktop\\github\\cpit499---group-12\\abdullah_test 3\\tfodcourse\\tfod\\lib\\site-packages\\tensorflow_hub-0.12.0-py3.9.egg (from tensorflowjs) (0.12.0)\n",
      "Requirement already satisfied: tensorboard<2.9,>=2.8 in c:\\users\\abdullah\\desktop\\github\\cpit499---group-12\\abdullah_test 3\\tfodcourse\\tfod\\lib\\site-packages (from tensorflow<3,>=2.1.0->tensorflowjs) (2.8.0)\n",
      "Requirement already satisfied: tensorflow-io-gcs-filesystem>=0.23.1 in c:\\users\\abdullah\\desktop\\github\\cpit499---group-12\\abdullah_test 3\\tfodcourse\\tfod\\lib\\site-packages (from tensorflow<3,>=2.1.0->tensorflowjs) (0.24.0)\n",
      "Requirement already satisfied: grpcio<2.0,>=1.24.3 in c:\\users\\abdullah\\desktop\\github\\cpit499---group-12\\abdullah_test 3\\tfodcourse\\tfod\\lib\\site-packages (from tensorflow<3,>=2.1.0->tensorflowjs) (1.44.0)\n",
      "Requirement already satisfied: protobuf>=3.9.2 in c:\\users\\abdullah\\desktop\\github\\cpit499---group-12\\abdullah_test 3\\tfodcourse\\tfod\\lib\\site-packages (from tensorflow<3,>=2.1.0->tensorflowjs) (3.19.4)\n",
      "Requirement already satisfied: typing-extensions>=3.6.6 in c:\\users\\abdullah\\desktop\\github\\cpit499---group-12\\abdullah_test 3\\tfodcourse\\tfod\\lib\\site-packages (from tensorflow<3,>=2.1.0->tensorflowjs) (4.1.1)\n",
      "Requirement already satisfied: astunparse>=1.6.0 in c:\\users\\abdullah\\desktop\\github\\cpit499---group-12\\abdullah_test 3\\tfodcourse\\tfod\\lib\\site-packages (from tensorflow<3,>=2.1.0->tensorflowjs) (1.6.3)\n",
      "Requirement already satisfied: libclang>=9.0.1 in c:\\users\\abdullah\\desktop\\github\\cpit499---group-12\\abdullah_test 3\\tfodcourse\\tfod\\lib\\site-packages (from tensorflow<3,>=2.1.0->tensorflowjs) (13.0.0)\n",
      "Requirement already satisfied: google-pasta>=0.1.1 in c:\\users\\abdullah\\desktop\\github\\cpit499---group-12\\abdullah_test 3\\tfodcourse\\tfod\\lib\\site-packages (from tensorflow<3,>=2.1.0->tensorflowjs) (0.2.0)\n",
      "Requirement already satisfied: gast>=0.2.1 in c:\\users\\abdullah\\desktop\\github\\cpit499---group-12\\abdullah_test 3\\tfodcourse\\tfod\\lib\\site-packages (from tensorflow<3,>=2.1.0->tensorflowjs) (0.5.3)\n",
      "Requirement already satisfied: flatbuffers>=1.12 in c:\\users\\abdullah\\desktop\\github\\cpit499---group-12\\abdullah_test 3\\tfodcourse\\tfod\\lib\\site-packages (from tensorflow<3,>=2.1.0->tensorflowjs) (2.0)\n",
      "Requirement already satisfied: h5py>=2.9.0 in c:\\users\\abdullah\\desktop\\github\\cpit499---group-12\\abdullah_test 3\\tfodcourse\\tfod\\lib\\site-packages (from tensorflow<3,>=2.1.0->tensorflowjs) (3.6.0)\n",
      "Requirement already satisfied: keras-preprocessing>=1.1.1 in c:\\users\\abdullah\\desktop\\github\\cpit499---group-12\\abdullah_test 3\\tfodcourse\\tfod\\lib\\site-packages (from tensorflow<3,>=2.1.0->tensorflowjs) (1.1.2)\n",
      "Requirement already satisfied: numpy>=1.20 in c:\\users\\abdullah\\desktop\\github\\cpit499---group-12\\abdullah_test 3\\tfodcourse\\tfod\\lib\\site-packages (from tensorflow<3,>=2.1.0->tensorflowjs) (1.22.2)\n",
      "Requirement already satisfied: opt-einsum>=2.3.2 in c:\\users\\abdullah\\desktop\\github\\cpit499---group-12\\abdullah_test 3\\tfodcourse\\tfod\\lib\\site-packages (from tensorflow<3,>=2.1.0->tensorflowjs) (3.3.0)\n",
      "Requirement already satisfied: wrapt>=1.11.0 in c:\\users\\abdullah\\desktop\\github\\cpit499---group-12\\abdullah_test 3\\tfodcourse\\tfod\\lib\\site-packages (from tensorflow<3,>=2.1.0->tensorflowjs) (1.13.3)\n",
      "Requirement already satisfied: keras<2.9,>=2.8.0rc0 in c:\\users\\abdullah\\desktop\\github\\cpit499---group-12\\abdullah_test 3\\tfodcourse\\tfod\\lib\\site-packages\\keras-2.8.0-py3.9.egg (from tensorflow<3,>=2.1.0->tensorflowjs) (2.8.0)\n",
      "Requirement already satisfied: termcolor>=1.1.0 in c:\\users\\abdullah\\desktop\\github\\cpit499---group-12\\abdullah_test 3\\tfodcourse\\tfod\\lib\\site-packages (from tensorflow<3,>=2.1.0->tensorflowjs) (1.1.0)\n",
      "Requirement already satisfied: tf-estimator-nightly==2.8.0.dev2021122109 in c:\\users\\abdullah\\desktop\\github\\cpit499---group-12\\abdullah_test 3\\tfodcourse\\tfod\\lib\\site-packages (from tensorflow<3,>=2.1.0->tensorflowjs) (2.8.0.dev2021122109)\n",
      "Requirement already satisfied: setuptools in c:\\users\\abdullah\\desktop\\github\\cpit499---group-12\\abdullah_test 3\\tfodcourse\\tfod\\lib\\site-packages (from tensorflow<3,>=2.1.0->tensorflowjs) (57.4.0)\n",
      "Requirement already satisfied: absl-py>=0.4.0 in c:\\users\\abdullah\\desktop\\github\\cpit499---group-12\\abdullah_test 3\\tfodcourse\\tfod\\lib\\site-packages (from tensorflow<3,>=2.1.0->tensorflowjs) (1.0.0)\n",
      "Requirement already satisfied: wheel<1.0,>=0.23.0 in c:\\users\\abdullah\\desktop\\github\\cpit499---group-12\\abdullah_test 3\\tfodcourse\\tfod\\lib\\site-packages (from astunparse>=1.6.0->tensorflow<3,>=2.1.0->tensorflowjs) (0.37.1)\n",
      "Requirement already satisfied: tensorboard-data-server<0.7.0,>=0.6.0 in c:\\users\\abdullah\\desktop\\github\\cpit499---group-12\\abdullah_test 3\\tfodcourse\\tfod\\lib\\site-packages (from tensorboard<2.9,>=2.8->tensorflow<3,>=2.1.0->tensorflowjs) (0.6.1)\n",
      "Requirement already satisfied: markdown>=2.6.8 in c:\\users\\abdullah\\desktop\\github\\cpit499---group-12\\abdullah_test 3\\tfodcourse\\tfod\\lib\\site-packages (from tensorboard<2.9,>=2.8->tensorflow<3,>=2.1.0->tensorflowjs) (3.3.6)\n",
      "Requirement already satisfied: google-auth-oauthlib<0.5,>=0.4.1 in c:\\users\\abdullah\\desktop\\github\\cpit499---group-12\\abdullah_test 3\\tfodcourse\\tfod\\lib\\site-packages (from tensorboard<2.9,>=2.8->tensorflow<3,>=2.1.0->tensorflowjs) (0.4.6)\n",
      "Requirement already satisfied: google-auth<3,>=1.6.3 in c:\\users\\abdullah\\desktop\\github\\cpit499---group-12\\abdullah_test 3\\tfodcourse\\tfod\\lib\\site-packages (from tensorboard<2.9,>=2.8->tensorflow<3,>=2.1.0->tensorflowjs) (2.6.0)\n",
      "Requirement already satisfied: tensorboard-plugin-wit>=1.6.0 in c:\\users\\abdullah\\desktop\\github\\cpit499---group-12\\abdullah_test 3\\tfodcourse\\tfod\\lib\\site-packages (from tensorboard<2.9,>=2.8->tensorflow<3,>=2.1.0->tensorflowjs) (1.8.1)\n",
      "Requirement already satisfied: werkzeug>=0.11.15 in c:\\users\\abdullah\\desktop\\github\\cpit499---group-12\\abdullah_test 3\\tfodcourse\\tfod\\lib\\site-packages (from tensorboard<2.9,>=2.8->tensorflow<3,>=2.1.0->tensorflowjs) (2.0.3)\n",
      "Requirement already satisfied: requests<3,>=2.21.0 in c:\\users\\abdullah\\desktop\\github\\cpit499---group-12\\abdullah_test 3\\tfodcourse\\tfod\\lib\\site-packages (from tensorboard<2.9,>=2.8->tensorflow<3,>=2.1.0->tensorflowjs) (2.27.1)\n",
      "Requirement already satisfied: cachetools<6.0,>=2.0.0 in c:\\users\\abdullah\\desktop\\github\\cpit499---group-12\\abdullah_test 3\\tfodcourse\\tfod\\lib\\site-packages (from google-auth<3,>=1.6.3->tensorboard<2.9,>=2.8->tensorflow<3,>=2.1.0->tensorflowjs) (5.0.0)\n",
      "Requirement already satisfied: rsa<5,>=3.1.4 in c:\\users\\abdullah\\desktop\\github\\cpit499---group-12\\abdullah_test 3\\tfodcourse\\tfod\\lib\\site-packages (from google-auth<3,>=1.6.3->tensorboard<2.9,>=2.8->tensorflow<3,>=2.1.0->tensorflowjs) (4.8)\n",
      "Requirement already satisfied: pyasn1-modules>=0.2.1 in c:\\users\\abdullah\\desktop\\github\\cpit499---group-12\\abdullah_test 3\\tfodcourse\\tfod\\lib\\site-packages (from google-auth<3,>=1.6.3->tensorboard<2.9,>=2.8->tensorflow<3,>=2.1.0->tensorflowjs) (0.2.8)\n",
      "Requirement already satisfied: requests-oauthlib>=0.7.0 in c:\\users\\abdullah\\desktop\\github\\cpit499---group-12\\abdullah_test 3\\tfodcourse\\tfod\\lib\\site-packages (from google-auth-oauthlib<0.5,>=0.4.1->tensorboard<2.9,>=2.8->tensorflow<3,>=2.1.0->tensorflowjs) (1.3.1)\n",
      "Requirement already satisfied: importlib-metadata>=4.4 in c:\\users\\abdullah\\desktop\\github\\cpit499---group-12\\abdullah_test 3\\tfodcourse\\tfod\\lib\\site-packages (from markdown>=2.6.8->tensorboard<2.9,>=2.8->tensorflow<3,>=2.1.0->tensorflowjs) (4.11.1)\n",
      "Requirement already satisfied: charset-normalizer~=2.0.0 in c:\\users\\abdullah\\desktop\\github\\cpit499---group-12\\abdullah_test 3\\tfodcourse\\tfod\\lib\\site-packages (from requests<3,>=2.21.0->tensorboard<2.9,>=2.8->tensorflow<3,>=2.1.0->tensorflowjs) (2.0.12)\n",
      "Requirement already satisfied: urllib3<1.27,>=1.21.1 in c:\\users\\abdullah\\desktop\\github\\cpit499---group-12\\abdullah_test 3\\tfodcourse\\tfod\\lib\\site-packages (from requests<3,>=2.21.0->tensorboard<2.9,>=2.8->tensorflow<3,>=2.1.0->tensorflowjs) (1.26.8)\n",
      "Requirement already satisfied: certifi>=2017.4.17 in c:\\users\\abdullah\\desktop\\github\\cpit499---group-12\\abdullah_test 3\\tfodcourse\\tfod\\lib\\site-packages (from requests<3,>=2.21.0->tensorboard<2.9,>=2.8->tensorflow<3,>=2.1.0->tensorflowjs) (2021.10.8)\n",
      "Requirement already satisfied: idna<4,>=2.5 in c:\\users\\abdullah\\desktop\\github\\cpit499---group-12\\abdullah_test 3\\tfodcourse\\tfod\\lib\\site-packages (from requests<3,>=2.21.0->tensorboard<2.9,>=2.8->tensorflow<3,>=2.1.0->tensorflowjs) (3.3)\n",
      "Requirement already satisfied: zipp>=0.5 in c:\\users\\abdullah\\desktop\\github\\cpit499---group-12\\abdullah_test 3\\tfodcourse\\tfod\\lib\\site-packages (from importlib-metadata>=4.4->markdown>=2.6.8->tensorboard<2.9,>=2.8->tensorflow<3,>=2.1.0->tensorflowjs) (3.7.0)\n",
      "Requirement already satisfied: pyasn1<0.5.0,>=0.4.6 in c:\\users\\abdullah\\desktop\\github\\cpit499---group-12\\abdullah_test 3\\tfodcourse\\tfod\\lib\\site-packages (from pyasn1-modules>=0.2.1->google-auth<3,>=1.6.3->tensorboard<2.9,>=2.8->tensorflow<3,>=2.1.0->tensorflowjs) (0.4.8)\n",
      "Requirement already satisfied: oauthlib>=3.0.0 in c:\\users\\abdullah\\desktop\\github\\cpit499---group-12\\abdullah_test 3\\tfodcourse\\tfod\\lib\\site-packages (from requests-oauthlib>=0.7.0->google-auth-oauthlib<0.5,>=0.4.1->tensorboard<2.9,>=2.8->tensorflow<3,>=2.1.0->tensorflowjs) (3.2.0)\n",
      "Installing collected packages: tensorflowjs\n",
      "Successfully installed tensorflowjs-3.13.0\n"
     ]
    }
   ],
   "source": [
    "!pip install tensorflowjs"
   ]
  },
  {
   "cell_type": "code",
   "execution_count": 51,
   "metadata": {
    "id": "0oxbVynHpfDK"
   },
   "outputs": [],
   "source": [
    "command = \"tensorflowjs_converter --input_format=tf_saved_model --output_node_names='detection_boxes,detection_classes,detection_features,detection_multiclass_scores,detection_scores,num_detections,raw_detection_boxes,raw_detection_scores' --output_format=tfjs_graph_model --signature_name=serving_default {} {}\".format(os.path.join(paths['OUTPUT_PATH'], 'saved_model'), paths['TFJS_PATH'])"
   ]
  },
  {
   "cell_type": "code",
   "execution_count": 52,
   "metadata": {
    "colab": {
     "base_uri": "https://localhost:8080/"
    },
    "id": "DB2AGNmJpfDK",
    "outputId": "fbc9f747-f511-47e8-df8f-5ea65cef0374"
   },
   "outputs": [
    {
     "name": "stdout",
     "output_type": "stream",
     "text": [
      "tensorflowjs_converter --input_format=tf_saved_model --output_node_names='detection_boxes,detection_classes,detection_features,detection_multiclass_scores,detection_scores,num_detections,raw_detection_boxes,raw_detection_scores' --output_format=tfjs_graph_model --signature_name=serving_default Tensorflow\\workspace\\models\\my_ssd_mobnet\\export\\saved_model Tensorflow\\workspace\\models\\my_ssd_mobnet\\tfjsexport\n"
     ]
    }
   ],
   "source": [
    "print(command)"
   ]
  },
  {
   "cell_type": "code",
   "execution_count": 53,
   "metadata": {
    "colab": {
     "base_uri": "https://localhost:8080/"
    },
    "id": "K7rfT4-hpfDK",
    "outputId": "532707fd-6feb-4bc6-84a3-325b5d16303c"
   },
   "outputs": [
    {
     "name": "stdout",
     "output_type": "stream",
     "text": [
      "Writing weight file Tensorflow\\workspace\\models\\my_ssd_mobnet\\tfjsexport\\model.json...\n"
     ]
    },
    {
     "name": "stderr",
     "output_type": "stream",
     "text": [
      "2022-02-27 13:24:14.184473: I tensorflow/core/platform/cpu_feature_guard.cc:151] This TensorFlow binary is optimized with oneAPI Deep Neural Network Library (oneDNN) to use the following CPU instructions in performance-critical operations:  AVX AVX2\n",
      "To enable them in other operations, rebuild TensorFlow with the appropriate compiler flags.\n",
      "2022-02-27 13:24:14.624731: I tensorflow/core/common_runtime/gpu/gpu_device.cc:1525] Created device /job:localhost/replica:0/task:0/device:GPU:0 with 5969 MB memory:  -> device: 0, name: NVIDIA GeForce RTX 2080, pci bus id: 0000:01:00.0, compute capability: 7.5\n",
      "2022-02-27 13:24:22.750117: I tensorflow/core/grappler/devices.cc:66] Number of eligible GPUs (core count >= 8, compute capability >= 0.0): 1\n",
      "2022-02-27 13:24:22.751908: I tensorflow/core/grappler/clusters/single_machine.cc:358] Starting new session\n",
      "2022-02-27 13:24:22.753208: I tensorflow/core/common_runtime/gpu/gpu_device.cc:1525] Created device /job:localhost/replica:0/task:0/device:GPU:0 with 5969 MB memory:  -> device: 0, name: NVIDIA GeForce RTX 2080, pci bus id: 0000:01:00.0, compute capability: 7.5\n",
      "2022-02-27 13:24:22.956636: I tensorflow/core/grappler/optimizers/meta_optimizer.cc:1164] Optimization results for grappler item: graph_to_optimize\n",
      "  function_optimizer: Graph size after: 3843 nodes (3433), 5137 edges (4720), time = 120.573ms.\n",
      "  function_optimizer: function_optimizer did nothing. time = 0.002ms.\n",
      "\n",
      "2022-02-27 13:24:25.959831: I tensorflow/core/grappler/optimizers/meta_optimizer.cc:1164] Optimization results for grappler item: graph_to_optimize\n",
      "  model_pruner: Graph size after: 3114 nodes (-441), 4467 edges (-441), time = 44.75ms.\n",
      "  constant_folding: Graph size after: 1533 nodes (-1581), 2637 edges (-1830), time = 118.02ms.\n",
      "  arithmetic_optimizer: Graph size after: 1549 nodes (16), 2647 edges (10), time = 24.001ms.\n",
      "  dependency_optimizer: Graph size after: 1462 nodes (-87), 1660 edges (-987), time = 15.471ms.\n",
      "  model_pruner: Graph size after: 1462 nodes (0), 1660 edges (0), time = 8.065ms.\n",
      "  constant_folding: Graph size after: 1462 nodes (0), 1660 edges (0), time = 30.378ms.\n",
      "  arithmetic_optimizer: Graph size after: 1462 nodes (0), 1660 edges (0), time = 23.845ms.\n",
      "  dependency_optimizer: Graph size after: 1462 nodes (0), 1660 edges (0), time = 14.996ms.\n",
      "  debug_stripper: Graph size after: 1462 nodes (0), 1660 edges (0), time = 3.808ms.\n",
      "  model_pruner: Graph size after: 1460 nodes (-2), 1658 edges (-2), time = 14.968ms.\n",
      "  constant_folding: Graph size after: 1460 nodes (0), 1658 edges (0), time = 28.733ms.\n",
      "  arithmetic_optimizer: Graph size after: 1460 nodes (0), 1658 edges (0), time = 26.196ms.\n",
      "  dependency_optimizer: Graph size after: 1455 nodes (-5), 1648 edges (-10), time = 12.346ms.\n",
      "  model_pruner: Graph size after: 1455 nodes (0), 1648 edges (0), time = 8.84ms.\n",
      "  constant_folding: Graph size after: 1455 nodes (0), 1648 edges (0), time = 30.936ms.\n",
      "  arithmetic_optimizer: Graph size after: 1455 nodes (0), 1648 edges (0), time = 21.457ms.\n",
      "  dependency_optimizer: Graph size after: 1455 nodes (0), 1648 edges (0), time = 13.046ms.\n",
      "  debug_stripper: debug_stripper did nothing. time = 0.017ms.\n",
      "\n",
      "2022-02-27 13:24:33.371807: I tensorflow/core/grappler/optimizers/meta_optimizer.cc:1164] Optimization results for grappler item: graph_to_optimize\n",
      "  remapper: Graph size after: 1419 nodes (-112), 1308 edges (-112), time = 9.736ms.\n",
      "  constant_folding: Graph size after: 1115 nodes (-304), 1308 edges (0), time = 32.33ms.\n",
      "  arithmetic_optimizer: Graph size after: 1115 nodes (0), 1308 edges (0), time = 16.491ms.\n",
      "  dependency_optimizer: Graph size after: 1115 nodes (0), 1308 edges (0), time = 9.514ms.\n",
      "  remapper: Graph size after: 1115 nodes (0), 1308 edges (0), time = 4.539ms.\n",
      "  constant_folding: Graph size after: 1115 nodes (0), 1308 edges (0), time = 22.683ms.\n",
      "  arithmetic_optimizer: Graph size after: 1115 nodes (0), 1308 edges (0), time = 16.979ms.\n",
      "  dependency_optimizer: Graph size after: 1115 nodes (0), 1308 edges (0), time = 8.861ms.\n",
      "\n"
     ]
    }
   ],
   "source": [
    "!{command}"
   ]
  },
  {
   "cell_type": "code",
   "execution_count": 54,
   "metadata": {
    "id": "o8_hm-itpfDK"
   },
   "outputs": [],
   "source": [
    "# Test Code: https://github.com/nicknochnack/RealTimeSignLanguageDetectionwithTFJS"
   ]
  },
  {
   "cell_type": "markdown",
   "metadata": {
    "id": "VtUw73FHpfDK"
   },
   "source": [
    "# 12. Conversion to TFLite"
   ]
  },
  {
   "cell_type": "code",
   "execution_count": 55,
   "metadata": {
    "id": "XviMtewLpfDK"
   },
   "outputs": [],
   "source": [
    "TFLITE_SCRIPT = os.path.join(paths['APIMODEL_PATH'], 'research', 'object_detection', 'export_tflite_graph_tf2.py ')"
   ]
  },
  {
   "cell_type": "code",
   "execution_count": 56,
   "metadata": {
    "id": "us86cjC4pfDL"
   },
   "outputs": [],
   "source": [
    "command = \"python {} --pipeline_config_path={} --trained_checkpoint_dir={} --output_directory={}\".format(TFLITE_SCRIPT ,files['PIPELINE_CONFIG'], paths['CHECKPOINT_PATH'], paths['TFLITE_PATH'])"
   ]
  },
  {
   "cell_type": "code",
   "execution_count": 57,
   "metadata": {
    "colab": {
     "base_uri": "https://localhost:8080/"
    },
    "id": "n1r5YO3rpfDL",
    "outputId": "5fcdf7a4-eee2-4365-f1ca-1751968379ea"
   },
   "outputs": [
    {
     "name": "stdout",
     "output_type": "stream",
     "text": [
      "python Tensorflow\\models\\research\\object_detection\\export_tflite_graph_tf2.py  --pipeline_config_path=Tensorflow\\workspace\\models\\my_ssd_mobnet\\pipeline.config --trained_checkpoint_dir=Tensorflow\\workspace\\models\\my_ssd_mobnet --output_directory=Tensorflow\\workspace\\models\\my_ssd_mobnet\\tfliteexport\n"
     ]
    }
   ],
   "source": [
    "print(command)"
   ]
  },
  {
   "cell_type": "code",
   "execution_count": 58,
   "metadata": {
    "colab": {
     "base_uri": "https://localhost:8080/"
    },
    "id": "I-xWpHN8pfDL",
    "outputId": "7f6bacd8-d077-43b5-c131-5b081fba24a4"
   },
   "outputs": [
    {
     "name": "stderr",
     "output_type": "stream",
     "text": [
      "2022-02-27 13:24:59.618598: I tensorflow/core/platform/cpu_feature_guard.cc:151] This TensorFlow binary is optimized with oneAPI Deep Neural Network Library (oneDNN) to use the following CPU instructions in performance-critical operations:  AVX AVX2\n",
      "To enable them in other operations, rebuild TensorFlow with the appropriate compiler flags.\n",
      "2022-02-27 13:25:00.021787: I tensorflow/core/common_runtime/gpu/gpu_device.cc:1525] Created device /job:localhost/replica:0/task:0/device:GPU:0 with 5969 MB memory:  -> device: 0, name: NVIDIA GeForce RTX 2080, pci bus id: 0000:01:00.0, compute capability: 7.5\n",
      "2022-02-27 13:25:05.539592: I tensorflow/core/common_runtime/gpu/gpu_device.cc:1525] Created device /job:localhost/replica:0/task:0/device:GPU:0 with 5969 MB memory:  -> device: 0, name: NVIDIA GeForce RTX 2080, pci bus id: 0000:01:00.0, compute capability: 7.5\n",
      "2022-02-27 13:25:06.953769: I tensorflow/core/common_runtime/gpu/gpu_device.cc:1525] Created device /job:localhost/replica:0/task:0/device:GPU:0 with 5969 MB memory:  -> device: 0, name: NVIDIA GeForce RTX 2080, pci bus id: 0000:01:00.0, compute capability: 7.5\n",
      "2022-02-27 13:25:07.700322: W tensorflow/python/util/util.cc:368] Sets are not currently considered sequences, but this may change in the future, so consider avoiding using them.\n",
      "2022-02-27 13:25:08.924307: I tensorflow/core/common_runtime/gpu/gpu_device.cc:1525] Created device /job:localhost/replica:0/task:0/device:GPU:0 with 5969 MB memory:  -> device: 0, name: NVIDIA GeForce RTX 2080, pci bus id: 0000:01:00.0, compute capability: 7.5\n",
      "WARNING:tensorflow:Skipping full serialization of Keras layer <object_detection.meta_architectures.ssd_meta_arch.SSDMetaArch object at 0x00000249052DAD90>, because it is not built.\n",
      "W0227 13:25:09.193115  3632 save_impl.py:71] Skipping full serialization of Keras layer <object_detection.meta_architectures.ssd_meta_arch.SSDMetaArch object at 0x00000249052DAD90>, because it is not built.\n",
      "WARNING:tensorflow:Skipping full serialization of Keras layer <keras.layers.convolutional.SeparableConv2D object at 0x000002490531BB50>, because it is not built.\n",
      "W0227 13:25:09.409101  3632 save_impl.py:71] Skipping full serialization of Keras layer <keras.layers.convolutional.SeparableConv2D object at 0x000002490531BB50>, because it is not built.\n",
      "WARNING:tensorflow:Skipping full serialization of Keras layer <object_detection.core.freezable_batch_norm.FreezableBatchNorm object at 0x0000024920E4D6D0>, because it is not built.\n",
      "W0227 13:25:09.409101  3632 save_impl.py:71] Skipping full serialization of Keras layer <object_detection.core.freezable_batch_norm.FreezableBatchNorm object at 0x0000024920E4D6D0>, because it is not built.\n",
      "WARNING:tensorflow:Skipping full serialization of Keras layer <keras.layers.core.lambda_layer.Lambda object at 0x0000024920E4D0D0>, because it is not built.\n",
      "W0227 13:25:09.410106  3632 save_impl.py:71] Skipping full serialization of Keras layer <keras.layers.core.lambda_layer.Lambda object at 0x0000024920E4D0D0>, because it is not built.\n",
      "WARNING:tensorflow:Skipping full serialization of Keras layer <keras.layers.convolutional.SeparableConv2D object at 0x0000024920E4DFD0>, because it is not built.\n",
      "W0227 13:25:09.410106  3632 save_impl.py:71] Skipping full serialization of Keras layer <keras.layers.convolutional.SeparableConv2D object at 0x0000024920E4DFD0>, because it is not built.\n",
      "WARNING:tensorflow:Skipping full serialization of Keras layer <object_detection.core.freezable_batch_norm.FreezableBatchNorm object at 0x0000024920E71CD0>, because it is not built.\n",
      "W0227 13:25:09.410106  3632 save_impl.py:71] Skipping full serialization of Keras layer <object_detection.core.freezable_batch_norm.FreezableBatchNorm object at 0x0000024920E71CD0>, because it is not built.\n",
      "WARNING:tensorflow:Skipping full serialization of Keras layer <keras.layers.core.lambda_layer.Lambda object at 0x0000024920E71B80>, because it is not built.\n",
      "W0227 13:25:09.410106  3632 save_impl.py:71] Skipping full serialization of Keras layer <keras.layers.core.lambda_layer.Lambda object at 0x0000024920E71B80>, because it is not built.\n",
      "WARNING:tensorflow:Skipping full serialization of Keras layer <keras.layers.convolutional.SeparableConv2D object at 0x0000024920E714C0>, because it is not built.\n",
      "W0227 13:25:09.410106  3632 save_impl.py:71] Skipping full serialization of Keras layer <keras.layers.convolutional.SeparableConv2D object at 0x0000024920E714C0>, because it is not built.\n",
      "WARNING:tensorflow:Skipping full serialization of Keras layer <object_detection.core.freezable_batch_norm.FreezableBatchNorm object at 0x0000024920E71430>, because it is not built.\n",
      "W0227 13:25:09.410106  3632 save_impl.py:71] Skipping full serialization of Keras layer <object_detection.core.freezable_batch_norm.FreezableBatchNorm object at 0x0000024920E71430>, because it is not built.\n",
      "WARNING:tensorflow:Skipping full serialization of Keras layer <keras.layers.core.lambda_layer.Lambda object at 0x0000024920E71580>, because it is not built.\n",
      "W0227 13:25:09.410106  3632 save_impl.py:71] Skipping full serialization of Keras layer <keras.layers.core.lambda_layer.Lambda object at 0x0000024920E71580>, because it is not built.\n",
      "WARNING:tensorflow:Skipping full serialization of Keras layer <keras.layers.convolutional.SeparableConv2D object at 0x0000024920EE20A0>, because it is not built.\n",
      "W0227 13:25:09.410106  3632 save_impl.py:71] Skipping full serialization of Keras layer <keras.layers.convolutional.SeparableConv2D object at 0x0000024920EE20A0>, because it is not built.\n",
      "WARNING:tensorflow:Skipping full serialization of Keras layer <object_detection.core.freezable_batch_norm.FreezableBatchNorm object at 0x0000024920EE2C70>, because it is not built.\n",
      "W0227 13:25:09.410106  3632 save_impl.py:71] Skipping full serialization of Keras layer <object_detection.core.freezable_batch_norm.FreezableBatchNorm object at 0x0000024920EE2C70>, because it is not built.\n",
      "WARNING:tensorflow:Skipping full serialization of Keras layer <keras.layers.core.lambda_layer.Lambda object at 0x0000024920EE2E80>, because it is not built.\n",
      "W0227 13:25:09.410106  3632 save_impl.py:71] Skipping full serialization of Keras layer <keras.layers.core.lambda_layer.Lambda object at 0x0000024920EE2E80>, because it is not built.\n",
      "WARNING:tensorflow:Skipping full serialization of Keras layer <object_detection.core.freezable_batch_norm.FreezableBatchNorm object at 0x0000024906F74160>, because it is not built.\n",
      "W0227 13:25:09.410106  3632 save_impl.py:71] Skipping full serialization of Keras layer <object_detection.core.freezable_batch_norm.FreezableBatchNorm object at 0x0000024906F74160>, because it is not built.\n",
      "WARNING:tensorflow:Skipping full serialization of Keras layer <keras.layers.core.lambda_layer.Lambda object at 0x0000024920EC0B80>, because it is not built.\n",
      "W0227 13:25:09.410106  3632 save_impl.py:71] Skipping full serialization of Keras layer <keras.layers.core.lambda_layer.Lambda object at 0x0000024920EC0B80>, because it is not built.\n",
      "WARNING:tensorflow:Skipping full serialization of Keras layer <object_detection.core.freezable_batch_norm.FreezableBatchNorm object at 0x0000024920EE6310>, because it is not built.\n",
      "W0227 13:25:09.410106  3632 save_impl.py:71] Skipping full serialization of Keras layer <object_detection.core.freezable_batch_norm.FreezableBatchNorm object at 0x0000024920EE6310>, because it is not built.\n",
      "WARNING:tensorflow:Skipping full serialization of Keras layer <keras.layers.core.lambda_layer.Lambda object at 0x0000024920EE6760>, because it is not built.\n",
      "W0227 13:25:09.410106  3632 save_impl.py:71] Skipping full serialization of Keras layer <keras.layers.core.lambda_layer.Lambda object at 0x0000024920EE6760>, because it is not built.\n",
      "WARNING:tensorflow:Skipping full serialization of Keras layer <object_detection.core.freezable_batch_norm.FreezableBatchNorm object at 0x0000024920EE6A00>, because it is not built.\n",
      "W0227 13:25:09.410106  3632 save_impl.py:71] Skipping full serialization of Keras layer <object_detection.core.freezable_batch_norm.FreezableBatchNorm object at 0x0000024920EE6A00>, because it is not built.\n",
      "WARNING:tensorflow:Skipping full serialization of Keras layer <keras.layers.core.lambda_layer.Lambda object at 0x0000024920EE6D90>, because it is not built.\n",
      "W0227 13:25:09.410106  3632 save_impl.py:71] Skipping full serialization of Keras layer <keras.layers.core.lambda_layer.Lambda object at 0x0000024920EE6D90>, because it is not built.\n",
      "WARNING:tensorflow:Skipping full serialization of Keras layer <object_detection.core.freezable_batch_norm.FreezableBatchNorm object at 0x0000024920EE6D00>, because it is not built.\n",
      "W0227 13:25:09.410106  3632 save_impl.py:71] Skipping full serialization of Keras layer <object_detection.core.freezable_batch_norm.FreezableBatchNorm object at 0x0000024920EE6D00>, because it is not built.\n",
      "WARNING:tensorflow:Skipping full serialization of Keras layer <keras.layers.core.lambda_layer.Lambda object at 0x0000024920EE6BB0>, because it is not built.\n",
      "W0227 13:25:09.411096  3632 save_impl.py:71] Skipping full serialization of Keras layer <keras.layers.core.lambda_layer.Lambda object at 0x0000024920EE6BB0>, because it is not built.\n",
      "WARNING:tensorflow:Skipping full serialization of Keras layer <object_detection.core.freezable_batch_norm.FreezableBatchNorm object at 0x0000024906F74190>, because it is not built.\n",
      "W0227 13:25:09.411096  3632 save_impl.py:71] Skipping full serialization of Keras layer <object_detection.core.freezable_batch_norm.FreezableBatchNorm object at 0x0000024906F74190>, because it is not built.\n",
      "WARNING:tensorflow:Skipping full serialization of Keras layer <keras.layers.core.lambda_layer.Lambda object at 0x0000024920ECFFD0>, because it is not built.\n",
      "W0227 13:25:09.411096  3632 save_impl.py:71] Skipping full serialization of Keras layer <keras.layers.core.lambda_layer.Lambda object at 0x0000024920ECFFD0>, because it is not built.\n",
      "WARNING:tensorflow:Skipping full serialization of Keras layer <object_detection.core.freezable_batch_norm.FreezableBatchNorm object at 0x0000024920E441C0>, because it is not built.\n",
      "W0227 13:25:09.411096  3632 save_impl.py:71] Skipping full serialization of Keras layer <object_detection.core.freezable_batch_norm.FreezableBatchNorm object at 0x0000024920E441C0>, because it is not built.\n",
      "WARNING:tensorflow:Skipping full serialization of Keras layer <keras.layers.core.lambda_layer.Lambda object at 0x0000024920E44580>, because it is not built.\n",
      "W0227 13:25:09.411096  3632 save_impl.py:71] Skipping full serialization of Keras layer <keras.layers.core.lambda_layer.Lambda object at 0x0000024920E44580>, because it is not built.\n",
      "WARNING:tensorflow:Skipping full serialization of Keras layer <object_detection.core.freezable_batch_norm.FreezableBatchNorm object at 0x0000024920E44D90>, because it is not built.\n",
      "W0227 13:25:09.411096  3632 save_impl.py:71] Skipping full serialization of Keras layer <object_detection.core.freezable_batch_norm.FreezableBatchNorm object at 0x0000024920E44D90>, because it is not built.\n",
      "WARNING:tensorflow:Skipping full serialization of Keras layer <keras.layers.core.lambda_layer.Lambda object at 0x0000024920E44490>, because it is not built.\n",
      "W0227 13:25:09.411096  3632 save_impl.py:71] Skipping full serialization of Keras layer <keras.layers.core.lambda_layer.Lambda object at 0x0000024920E44490>, because it is not built.\n",
      "WARNING:tensorflow:Skipping full serialization of Keras layer <object_detection.core.freezable_batch_norm.FreezableBatchNorm object at 0x0000024920E445B0>, because it is not built.\n",
      "W0227 13:25:09.411096  3632 save_impl.py:71] Skipping full serialization of Keras layer <object_detection.core.freezable_batch_norm.FreezableBatchNorm object at 0x0000024920E445B0>, because it is not built.\n",
      "WARNING:tensorflow:Skipping full serialization of Keras layer <keras.layers.core.lambda_layer.Lambda object at 0x0000024920E44AF0>, because it is not built.\n",
      "W0227 13:25:09.411096  3632 save_impl.py:71] Skipping full serialization of Keras layer <keras.layers.core.lambda_layer.Lambda object at 0x0000024920E44AF0>, because it is not built.\n",
      "WARNING:tensorflow:Skipping full serialization of Keras layer <object_detection.core.freezable_batch_norm.FreezableBatchNorm object at 0x0000024906F741C0>, because it is not built.\n",
      "W0227 13:25:09.411096  3632 save_impl.py:71] Skipping full serialization of Keras layer <object_detection.core.freezable_batch_norm.FreezableBatchNorm object at 0x0000024906F741C0>, because it is not built.\n",
      "WARNING:tensorflow:Skipping full serialization of Keras layer <keras.layers.core.lambda_layer.Lambda object at 0x0000024920CCAEE0>, because it is not built.\n",
      "W0227 13:25:09.411096  3632 save_impl.py:71] Skipping full serialization of Keras layer <keras.layers.core.lambda_layer.Lambda object at 0x0000024920CCAEE0>, because it is not built.\n",
      "WARNING:tensorflow:Skipping full serialization of Keras layer <object_detection.core.freezable_batch_norm.FreezableBatchNorm object at 0x0000024920C77190>, because it is not built.\n",
      "W0227 13:25:09.411096  3632 save_impl.py:71] Skipping full serialization of Keras layer <object_detection.core.freezable_batch_norm.FreezableBatchNorm object at 0x0000024920C77190>, because it is not built.\n",
      "WARNING:tensorflow:Skipping full serialization of Keras layer <keras.layers.core.lambda_layer.Lambda object at 0x0000024920C77A30>, because it is not built.\n",
      "W0227 13:25:09.411096  3632 save_impl.py:71] Skipping full serialization of Keras layer <keras.layers.core.lambda_layer.Lambda object at 0x0000024920C77A30>, because it is not built.\n",
      "WARNING:tensorflow:Skipping full serialization of Keras layer <object_detection.core.freezable_batch_norm.FreezableBatchNorm object at 0x0000024920C778E0>, because it is not built.\n",
      "W0227 13:25:09.411096  3632 save_impl.py:71] Skipping full serialization of Keras layer <object_detection.core.freezable_batch_norm.FreezableBatchNorm object at 0x0000024920C778E0>, because it is not built.\n",
      "WARNING:tensorflow:Skipping full serialization of Keras layer <keras.layers.core.lambda_layer.Lambda object at 0x00000249074DFF10>, because it is not built.\n",
      "W0227 13:25:09.411096  3632 save_impl.py:71] Skipping full serialization of Keras layer <keras.layers.core.lambda_layer.Lambda object at 0x00000249074DFF10>, because it is not built.\n",
      "WARNING:tensorflow:Skipping full serialization of Keras layer <object_detection.core.freezable_batch_norm.FreezableBatchNorm object at 0x0000024920C77670>, because it is not built.\n",
      "W0227 13:25:09.411096  3632 save_impl.py:71] Skipping full serialization of Keras layer <object_detection.core.freezable_batch_norm.FreezableBatchNorm object at 0x0000024920C77670>, because it is not built.\n",
      "WARNING:tensorflow:Skipping full serialization of Keras layer <keras.layers.core.lambda_layer.Lambda object at 0x0000024920C77AF0>, because it is not built.\n",
      "W0227 13:25:09.411096  3632 save_impl.py:71] Skipping full serialization of Keras layer <keras.layers.core.lambda_layer.Lambda object at 0x0000024920C77AF0>, because it is not built.\n",
      "WARNING:tensorflow:Skipping full serialization of Keras layer <object_detection.core.freezable_batch_norm.FreezableBatchNorm object at 0x0000024920C5AE20>, because it is not built.\n",
      "W0227 13:25:09.411096  3632 save_impl.py:71] Skipping full serialization of Keras layer <object_detection.core.freezable_batch_norm.FreezableBatchNorm object at 0x0000024920C5AE20>, because it is not built.\n",
      "WARNING:tensorflow:Skipping full serialization of Keras layer <keras.layers.core.lambda_layer.Lambda object at 0x0000024920CDB7C0>, because it is not built.\n",
      "W0227 13:25:09.411096  3632 save_impl.py:71] Skipping full serialization of Keras layer <keras.layers.core.lambda_layer.Lambda object at 0x0000024920CDB7C0>, because it is not built.\n",
      "WARNING:tensorflow:Skipping full serialization of Keras layer <object_detection.core.freezable_batch_norm.FreezableBatchNorm object at 0x0000024920E7EE80>, because it is not built.\n",
      "W0227 13:25:09.412093  3632 save_impl.py:71] Skipping full serialization of Keras layer <object_detection.core.freezable_batch_norm.FreezableBatchNorm object at 0x0000024920E7EE80>, because it is not built.\n",
      "WARNING:tensorflow:Skipping full serialization of Keras layer <keras.layers.core.lambda_layer.Lambda object at 0x0000024920E7E100>, because it is not built.\n",
      "W0227 13:25:09.412093  3632 save_impl.py:71] Skipping full serialization of Keras layer <keras.layers.core.lambda_layer.Lambda object at 0x0000024920E7E100>, because it is not built.\n",
      "WARNING:tensorflow:Skipping full serialization of Keras layer <object_detection.core.freezable_batch_norm.FreezableBatchNorm object at 0x0000024920E7E490>, because it is not built.\n",
      "W0227 13:25:09.412093  3632 save_impl.py:71] Skipping full serialization of Keras layer <object_detection.core.freezable_batch_norm.FreezableBatchNorm object at 0x0000024920E7E490>, because it is not built.\n",
      "WARNING:tensorflow:Skipping full serialization of Keras layer <keras.layers.core.lambda_layer.Lambda object at 0x0000024920E7E370>, because it is not built.\n",
      "W0227 13:25:09.412093  3632 save_impl.py:71] Skipping full serialization of Keras layer <keras.layers.core.lambda_layer.Lambda object at 0x0000024920E7E370>, because it is not built.\n",
      "WARNING:tensorflow:Skipping full serialization of Keras layer <object_detection.core.freezable_batch_norm.FreezableBatchNorm object at 0x0000024920E7E8B0>, because it is not built.\n",
      "W0227 13:25:09.412093  3632 save_impl.py:71] Skipping full serialization of Keras layer <object_detection.core.freezable_batch_norm.FreezableBatchNorm object at 0x0000024920E7E8B0>, because it is not built.\n",
      "WARNING:tensorflow:Skipping full serialization of Keras layer <keras.layers.core.lambda_layer.Lambda object at 0x0000024920E7E910>, because it is not built.\n",
      "W0227 13:25:09.412093  3632 save_impl.py:71] Skipping full serialization of Keras layer <keras.layers.core.lambda_layer.Lambda object at 0x0000024920E7E910>, because it is not built.\n",
      "W0227 13:25:21.831487  3632 save.py:260] Found untraced functions such as WeightSharedConvolutionalBoxPredictor_layer_call_fn, WeightSharedConvolutionalBoxPredictor_layer_call_and_return_conditional_losses, WeightSharedConvolutionalBoxHead_layer_call_fn, WeightSharedConvolutionalBoxHead_layer_call_and_return_conditional_losses, WeightSharedConvolutionalClassHead_layer_call_fn while saving (showing 5 of 104). These functions will not be directly callable after loading.\n",
      "INFO:tensorflow:Assets written to: Tensorflow\\workspace\\models\\my_ssd_mobnet\\tfliteexport\\saved_model\\assets\n",
      "I0227 13:25:26.360351  3632 builder_impl.py:779] Assets written to: Tensorflow\\workspace\\models\\my_ssd_mobnet\\tfliteexport\\saved_model\\assets\n"
     ]
    }
   ],
   "source": [
    "!{command}"
   ]
  },
  {
   "cell_type": "code",
   "execution_count": 59,
   "metadata": {
    "id": "iJfYMbN6pfDL"
   },
   "outputs": [],
   "source": [
    "FROZEN_TFLITE_PATH = os.path.join(paths['TFLITE_PATH'], 'saved_model')\n",
    "TFLITE_MODEL = os.path.join(paths['TFLITE_PATH'], 'saved_model', 'detect.tflite')"
   ]
  },
  {
   "cell_type": "code",
   "execution_count": 60,
   "metadata": {},
   "outputs": [],
   "source": [
    "command = \"tflite_convert \\\n",
    "--saved_model_dir={} \\\n",
    "--output_file={} \\\n",
    "--input_shapes=1,300,300,3 \\\n",
    "--input_arrays=normalized_input_image_tensor \\\n",
    "--output_arrays='TFLite_Detection_PostProcess','TFLite_Detection_PostProcess:1','TFLite_Detection_PostProcess:2','TFLite_Detection_PostProcess:3' \\\n",
    "--inference_type=FLOAT \\\n",
    "--allow_custom_ops\".format(FROZEN_TFLITE_PATH, TFLITE_MODEL, )"
   ]
  },
  {
   "cell_type": "code",
   "execution_count": 61,
   "metadata": {
    "colab": {
     "base_uri": "https://localhost:8080/"
    },
    "id": "E8GwUeoFpfDL",
    "outputId": "fac43ea4-cc85-471b-a362-e994b06fd583"
   },
   "outputs": [
    {
     "name": "stdout",
     "output_type": "stream",
     "text": [
      "tflite_convert --saved_model_dir=Tensorflow\\workspace\\models\\my_ssd_mobnet\\tfliteexport\\saved_model --output_file=Tensorflow\\workspace\\models\\my_ssd_mobnet\\tfliteexport\\saved_model\\detect.tflite --input_shapes=1,300,300,3 --input_arrays=normalized_input_image_tensor --output_arrays='TFLite_Detection_PostProcess','TFLite_Detection_PostProcess:1','TFLite_Detection_PostProcess:2','TFLite_Detection_PostProcess:3' --inference_type=FLOAT --allow_custom_ops\n"
     ]
    }
   ],
   "source": [
    "print(command)"
   ]
  },
  {
   "cell_type": "code",
   "execution_count": 62,
   "metadata": {
    "colab": {
     "base_uri": "https://localhost:8080/"
    },
    "id": "Nbd7gqHMpfDL",
    "outputId": "7c8fe6d5-2415-4641-8548-39d425c202f7"
   },
   "outputs": [
    {
     "name": "stdout",
     "output_type": "stream",
     "text": [
      "Estimated count of arithmetic ops: 1.710 G  ops, equivalently 0.855 G  MACs\n"
     ]
    },
    {
     "name": "stderr",
     "output_type": "stream",
     "text": [
      "2022-02-27 13:25:31.761297: I tensorflow/core/platform/cpu_feature_guard.cc:151] This TensorFlow binary is optimized with oneAPI Deep Neural Network Library (oneDNN) to use the following CPU instructions in performance-critical operations:  AVX AVX2\n",
      "To enable them in other operations, rebuild TensorFlow with the appropriate compiler flags.\n",
      "2022-02-27 13:25:32.183126: I tensorflow/core/common_runtime/gpu/gpu_device.cc:1525] Created device /job:localhost/replica:0/task:0/device:GPU:0 with 5969 MB memory:  -> device: 0, name: NVIDIA GeForce RTX 2080, pci bus id: 0000:01:00.0, compute capability: 7.5\n",
      "2022-02-27 13:25:41.156510: W tensorflow/compiler/mlir/lite/python/tf_tfl_flatbuffer_helpers.cc:357] Ignored output_format.\n",
      "2022-02-27 13:25:41.156541: W tensorflow/compiler/mlir/lite/python/tf_tfl_flatbuffer_helpers.cc:360] Ignored drop_control_dependency.\n",
      "2022-02-27 13:25:41.157931: I tensorflow/cc/saved_model/reader.cc:43] Reading SavedModel from: Tensorflow\\workspace\\models\\my_ssd_mobnet\\tfliteexport\\saved_model\n",
      "2022-02-27 13:25:41.228473: I tensorflow/cc/saved_model/reader.cc:78] Reading meta graph with tags { serve }\n",
      "2022-02-27 13:25:41.228503: I tensorflow/cc/saved_model/reader.cc:119] Reading SavedModel debug info (if present) from: Tensorflow\\workspace\\models\\my_ssd_mobnet\\tfliteexport\\saved_model\n",
      "2022-02-27 13:25:41.466793: I tensorflow/cc/saved_model/loader.cc:228] Restoring SavedModel bundle.\n",
      "2022-02-27 13:25:42.331428: I tensorflow/cc/saved_model/loader.cc:212] Running initialization op on SavedModel bundle at path: Tensorflow\\workspace\\models\\my_ssd_mobnet\\tfliteexport\\saved_model\n",
      "2022-02-27 13:25:42.767075: I tensorflow/cc/saved_model/loader.cc:301] SavedModel load for tags { serve }; Status: success: OK. Took 1609146 microseconds.\n",
      "2022-02-27 13:25:43.503567: I tensorflow/compiler/mlir/tensorflow/utils/dump_mlir_util.cc:237] disabling MLIR crash reproducer, set env var `MLIR_CRASH_REPRODUCER_DIRECTORY` to enable.\n",
      "2022-02-27 13:25:44.366755: I tensorflow/compiler/mlir/lite/flatbuffer_export.cc:1963] Estimated count of arithmetic ops: 1.710 G  ops, equivalently 0.855 G  MACs\n",
      "\n",
      "W0227 13:25:44.546129  5260 lite.py:769] Buffer deduplication procedure will be skipped when flatbuffer library is not properly loaded\n"
     ]
    }
   ],
   "source": [
    "!{command}"
   ]
  },
  {
   "cell_type": "markdown",
   "metadata": {
    "id": "5NQqZRdA21Uc"
   },
   "source": [
    "# 13. Zip and Export Models "
   ]
  },
  {
   "cell_type": "code",
   "execution_count": 63,
   "metadata": {
    "id": "tTVTGCQp2ZJJ"
   },
   "outputs": [],
   "source": [
    "!tar -czf models.tar.gz {paths['CHECKPOINT_PATH']}"
   ]
  },
  {
   "cell_type": "code",
   "execution_count": 64,
   "metadata": {
    "colab": {
     "base_uri": "https://localhost:8080/"
    },
    "id": "whShhB0x3PYJ",
    "outputId": "b773201d-35c9-46a8-b893-4a76bd4d5d97"
   },
   "outputs": [
    {
     "ename": "ModuleNotFoundError",
     "evalue": "No module named 'google.colab'",
     "output_type": "error",
     "traceback": [
      "\u001b[1;31m---------------------------------------------------------------------------\u001b[0m",
      "\u001b[1;31mModuleNotFoundError\u001b[0m                       Traceback (most recent call last)",
      "Input \u001b[1;32mIn [64]\u001b[0m, in \u001b[0;36m<cell line: 1>\u001b[1;34m()\u001b[0m\n\u001b[1;32m----> 1\u001b[0m \u001b[38;5;28;01mfrom\u001b[39;00m \u001b[38;5;21;01mgoogle\u001b[39;00m\u001b[38;5;21;01m.\u001b[39;00m\u001b[38;5;21;01mcolab\u001b[39;00m \u001b[38;5;28;01mimport\u001b[39;00m drive\n\u001b[0;32m      2\u001b[0m drive\u001b[38;5;241m.\u001b[39mmount(\u001b[38;5;124m'\u001b[39m\u001b[38;5;124m/content/drive\u001b[39m\u001b[38;5;124m'\u001b[39m)\n",
      "\u001b[1;31mModuleNotFoundError\u001b[0m: No module named 'google.colab'"
     ]
    }
   ],
   "source": [
    "from google.colab import drive\n",
    "drive.mount('/content/drive')"
   ]
  },
  {
   "cell_type": "code",
   "execution_count": null,
   "metadata": {},
   "outputs": [],
   "source": []
  }
 ],
 "metadata": {
  "accelerator": "GPU",
  "colab": {
   "name": "3. Training and Detection.ipynb",
   "provenance": []
  },
  "kernelspec": {
   "display_name": "tfodj",
   "language": "python",
   "name": "tfodj"
  },
  "language_info": {
   "codemirror_mode": {
    "name": "ipython",
    "version": 3
   },
   "file_extension": ".py",
   "mimetype": "text/x-python",
   "name": "python",
   "nbconvert_exporter": "python",
   "pygments_lexer": "ipython3",
   "version": "3.9.7"
  }
 },
 "nbformat": 4,
 "nbformat_minor": 1
}
